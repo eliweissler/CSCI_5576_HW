{
 "cells": [
  {
   "cell_type": "code",
   "execution_count": 2,
   "metadata": {},
   "outputs": [],
   "source": [
    "# Import packages\n",
    "# DL Packages\n",
    "import tensorflow as tf\n",
    "import keras\n",
    "\n",
    "# Others\n",
    "import matplotlib.pyplot as plt\n",
    "import numpy as np\n",
    "import scipy as sp\n",
    "import sympy as sym\n",
    "import seaborn as sns\n",
    "\n",
    "from sklearn.metrics import confusion_matrix"
   ]
  },
  {
   "cell_type": "markdown",
   "metadata": {},
   "source": [
    "# Examine the Data:\n",
    "\n",
    "I'll use the suggested IMDB movie review sentiment classification [dataset](https://keras.io/api/datasets/imdb/). This dataset has 25,000 movie reviews that are rated as either positive or negative. The data is pre-processed so that words have been replaced with positive integers that correspond to the frequency of a word. For example the 19th most common word will be represented as 19 + an offset we specify."
   ]
  },
  {
   "cell_type": "code",
   "execution_count": 46,
   "metadata": {},
   "outputs": [
    {
     "name": "stdout",
     "output_type": "stream",
     "text": [
      "x[0] [START] rudy does it again with this hot off the streets follow up to dolemite this entry is filled with the requisite rudy ray moore raunch humor and martial arts rudy eludes a crazy red neck sheriff in this movie that also features an infamous scene where rudy dives down a steep hill see it for laughs and for a brain blasting hit of blaxploitation magic\n",
      "y[0] 1\n"
     ]
    }
   ],
   "source": [
    "# Reading instructions from https://keras.io/api/datasets/imdb/\n",
    "# With extra parameters specified\n",
    "\n",
    "# Start of a sequence is marked as this\n",
    "start_char = 1\n",
    "\n",
    "# Words that are skipped because they are too infrequent are replaced by this\n",
    "oov_char = 2\n",
    "\n",
    "# Actual words have this index or higher\n",
    "index_from = 3\n",
    "\n",
    "# Skip the top n most common words\n",
    "skip_top = 0\n",
    "\n",
    "# Only the num_words most frequent words are kept.\n",
    "# Anything less frequent is treated as oov\n",
    "num_words = 10000\n",
    "\n",
    "# Maximum length of the review. Truncate past this point\n",
    "maxlen = None\n",
    "\n",
    "# Random seed to make loading deterministic\n",
    "seed = 17\n",
    "\n",
    "# Retrieve the training sequences.\n",
    "(x_train, y_train), (x_test, y_test) = keras.datasets.imdb.load_data(\n",
    "    start_char=start_char, oov_char=oov_char, index_from=index_from, seed=seed,\n",
    "    skip_top=skip_top, num_words=None, maxlen=maxlen\n",
    ")\n",
    "# Retrieve the word index file mapping words to indices\n",
    "word_index = keras.datasets.imdb.get_word_index()\n",
    "\n",
    "# Reverse the word index to obtain a dict mapping indices to words\n",
    "# And add `index_from` to indices to sync with `x_train`\n",
    "inverted_word_index = dict(\n",
    "    (i + index_from, word) for (word, i) in word_index.items()\n",
    ")\n",
    "\n",
    "# Update `inverted_word_index` to include `start_char` and `oov_char`\n",
    "inverted_word_index[start_char] = \"[START]\"\n",
    "inverted_word_index[oov_char] = \"[OOV]\"\n",
    "\n",
    "# Decode the first sequence in the dataset\n",
    "decoded_sequence = \" \".join(inverted_word_index[i] for i in x_train[0])\n",
    "\n",
    "print(\"x[0]\", decoded_sequence)\n",
    "print(\"y[0]\", y_train[0])"
   ]
  },
  {
   "cell_type": "code",
   "execution_count": 47,
   "metadata": {},
   "outputs": [
    {
     "data": {
      "text/plain": [
       "array([0, 1])"
      ]
     },
     "execution_count": 47,
     "metadata": {},
     "output_type": "execute_result"
    }
   ],
   "source": [
    "np.unique(y_train)"
   ]
  },
  {
   "cell_type": "markdown",
   "metadata": {},
   "source": [
    "This code looks like it gets the review text, and from this example it seems that y=1 is positive sentiment and y=0 is negative sentiment. Now let's make a function to load the data. For feeding it to our network we want to keep it in the integer encoding, but to examine the data we want the actual text."
   ]
  },
  {
   "cell_type": "code",
   "execution_count": 48,
   "metadata": {},
   "outputs": [],
   "source": [
    "def load_review(x_data: np.array, y_data: np.array, i: int, load_txt: bool = False, inverted_word_index:dict = inverted_word_index):\n",
    "    \"\"\"\n",
    "    Loads the review at the specified index from the specified x, y data.\n",
    "\n",
    "    Optionally converts to text.\n",
    "\n",
    "    Args:\n",
    "        x_data (np.array): dataset to load from (either x_train or x_test)\n",
    "        y_data (np.array): labels to load from (either y_train or y_test)\n",
    "        i (int): index of review to load\n",
    "        load_txt (bool, optional): whether to convert integer encoding to text or not. Defaults to False.\n",
    "        inverted_word_index (dict, optional): mapping of indices to words. Defaults to inverted_word_index.\n",
    "\n",
    "    Returns:\n",
    "        review_data, sentiment_label\n",
    "    \"\"\"\n",
    "\n",
    "    review_data = x_data[i]\n",
    "\n",
    "    if load_txt:\n",
    "        review_data = \" \".join(inverted_word_index[n] for n in x_train[i])\n",
    "\n",
    "    return review_data, y_data[i]"
   ]
  },
  {
   "cell_type": "markdown",
   "metadata": {},
   "source": [
    "Armed with this function, let's randomly select some positive and negative reviews to look at:"
   ]
  },
  {
   "cell_type": "code",
   "execution_count": 49,
   "metadata": {},
   "outputs": [],
   "source": [
    "pos_idx = np.argwhere(y_train == 1).flatten()\n",
    "neg_idx = np.argwhere(y_train == 0).flatten()"
   ]
  },
  {
   "cell_type": "code",
   "execution_count": 50,
   "metadata": {},
   "outputs": [
    {
     "name": "stdout",
     "output_type": "stream",
     "text": [
      "Positive Reviews...\n",
      "(\"[START] frailty is a non gory horror film that achieves its chills by following the logic and impact of a man's delusion obsession straight into depravity dad we never learn his name is a gentle man and loving father who's raising his sons alone after mom died giving birth to the youngest son adam the family's world flips upside down late one night when dad rushes into the boys' room and tells them god has given him a vision and what a vision \\x96 the entire family's job is to destroy demons who of course are disguised in human form br br proceeding from this premise the movie is unflinching in following it dad kidnaps people demons whom god has told him to destroy binds them lays his hand on them to see a vision of their evil then kills them \\x96 while making his young sons watch fenton the older boy is horrified seeing only a father who's turned into a crazed murderer adam the younger is uncomfortable but trusts that dad is following god's will eventually dad takes his sons on missions to abduct the demons that god has put on dad's list and finally invites them to fully participate in god's mission for the family br br this is not you understand an abusive father he loves his children he is only following god's instructions this is our job now son we've got to do this when fenton terrified and convinced his father has gone mad says he'll report him to the police his father explains if you do that son i'll die the angel was clear on this the pressure that the children are under is unbearable and tragic and warps their entire lives 1 the movie's structure is similar to the one used in the usual suspects a story in flashback told in a police station to a fbi agent the moody lighting the stormy weather and the eerie calm in the present day add to the menace of the backstory i wanted to believe the unfolding horror was just a story until i remembered the real life parallel of andrea yates who believed she was possessed by satan and could save her children by drowning them even then i wanted to believe that i was watching a human tragedy rather than a story of divine retribution br br the movie gave me no such comfort though as it gave strong clues at the end about the veracity of dad's vision and this as much as some plot holes posed a problem for me regardless of the accuracy of dad's visions regardless of the evil that his victims may have committed where does anyone derive the authority to act as an angel of death 1 roger ebert review 4 12 02\", 1)\n",
      "(\"[START] at first i had the reaction a lot of people left with after seeing this that shots of fat people sunbathing etc were cheap shots in a way ok so he's doing diane arbus meets whatever but it wasn't long before i realized that this wasn't being done in a dehumanizing way as the images unfold i felt that the problem was entirely the audience's we are conditioned by hollywood and also movies from just about everywhere actually to feel that to watch people above a certain age behave in a sexual way is something unseemly something that ought not to be shown if this were all the film offered it would be a great deal however the story of the woman with the abusive boyfriend and his drunk friend really hits like a ton of bricks very eloquent storytelling incredible performances and to think the scene was improvised that blonde guy is a genius actor finally i want to contradict those who say this film is all about how pathetic all these people are the old man who is on the make with the woman who finally dances for him is completely an a ok character that breaks that mold so don't oversimplify the film by overlooking him yes his dog gets killed this ain't a rosy picture of the world but it's not completely hopeless anyway i felt really grateful to the filmmaker for making such a beautiful film all in all i wouldn't say each of the threads were as strong as the strongest but i say this movie basically kicks ass and would highly recommend it\", 1)\n",
      "(\"[START] the basic hook here is lincoln is slow it is his slowness that represents his thoughtfulness and deliberation making him a great leader who is here engaged in single handedly civilizing the american frontier through the grand instrument of law all that john ford hooey and more including one lurking slave and extraneous death by injun however the 'slow' conceit is also at the center of one brilliant piece of movie making funny and moving at extremes the history may be bunk but the telling of it suggests a view of history as process that inspires some excitingly true seeming moments check out henry fonda's big introductory stroll across the deck his shockingly beautiful second visit with his girl by the river his dalliance with mary todd on the porch and the priceless business that follows 'ma'am we've got to hurry ' things do thin out once we settle into the big courtroom drama but fonda is priceless throughout\", 1)\n",
      "(\"[START] i have to agree with most of the other posts was it a comedy a drama to me it leaned a little to much towards the comedy side i could have been a great movie without the comedy and it was horribly contrived jamie keeps running into the julio and whats his name in new york how many times do you run into someone you know in downtown cleveland and just how could robert pastorelli dig up yankee stadium to hide the gold again a comedy or drama but it was still entertaining especially for a sunday morning i enjoyed kimberly elise's performance she certainly a beautiful actress and seems to take her craft seriously she is a younger actress that is going to be viable\", 1)\n",
      "(\"[START] i would just like all of the fans of this documentary to know that martin torgoff is my uncle and i am so darn proud of him this mini series that in shown on vh1 is a great look at the culture of drugs in the past 30 years and my uncle worked very hard on it the amount of time and effort that i have watched him put into this documentary and the book that started it all can't find my way home makes it that much better to watch him on tv i know that he loves what he does and he does it well his eloquence is shown in the interviews which he did himself and the amazing additions that he himself adds to the commentary from the music to the videos and everything in between this is a great documentary that really shows the experience of the drug culture through the eyes of someone who lived through it i appreciate any comments on this from those who enjoyed it or didn't and would love to hear from fans three cheers for uncle martin\", 1)\n",
      "\n",
      "Negative Reviews...\n",
      "(\"[START] watching this movie l thought to myself what a lot of garbage these girls must have rocks for brains for even agreeing to be part of it waste of time watching it faint heavens l only hired it the acting was below standard and story was unbearable anyone contemplating watching this film please save your money the film has no credit at all l am a real film buff and this is worse than attack of the green tomatoes br br l only hope that this piece of trash didn't cost too much to make money would have been better spent on the homeless people of the world l only hope there isn't a sequel in the pipeline\", 0)\n",
      "(\"[START] the movie uses a cutting edge title for a lame story kill kill would have been nice the movie incorporates taboo scenes to make the viewer move back in their chairs the scenes are unnecessary and choppy the movie is something a novice screen writer could have conjured just a waste of movie props and network money i have to write 10 lines of text to critique this film when it is not worth 10 lines of my time but i have to push on to let the people know to avoid the nonsense if people are counting on you to choose a good movie for movie night pick something else if you have a soul don't damage it by subjecting yourself to this filth\", 0)\n",
      "(\"[START] br br upon concluding my viewing of trance or the eternal or whatever the producers are calling this film i wondered to myself out of all of the bad movies i could have seen couldn't i have at least seen one that was entertaining even if a film is not well made in terms of acting directing writing or what have you it can at least be fun and therefore worthwhile but not only is this film bad in artistic value it's incredibly boring for a plot of such thinness it moves awfully slowly with little dramatic tension at the very least in a low brow attempt at entertainment the deaths of the characters could have been cool and or gory but the creators of this dreck failed in that department as well br br what does this movie have going for it pretty much nothing unless you get entertainment out of watching christopher walken who is capable of being brilliant put so little effort into his acting that he falls into self parody mode why did he decide to do this film anyway br br i give this film 3 10 because god help us there actually have been worse movies made before\", 0)\n",
      "(\"[START] some gorehound friends recommended live feed to me and basically i can't really complain as the film certainly does deliver copious amounts of gross smut and buckets full of sleaze but it is of course not a very good film more than obviously cashing in on the latest trend in horror cinema the so called torture porn ryan nicholson tries to surpass every other film in this sub genre and that includes the role models hostel and saw with its sick twisted make up effects and thoroughly depraved shots of naked co eds tried up suffering and begging for their lives there's no actual plot to describe five utterly brainless twenty something friends take a trip to asia one of them has asian roots but other than that i don't really know why they opted to travel there instead of to cancun they're clearly not interested in the continents culture and even cause a hectic scene when they witness a local butchering a cute puppy dog on the market the quintet subsequently dives into the lurid night life and one of them accidentally insults the leader of a criminal clan a simply apology clearly doesn't suffice as the gangster follow them into an adult theater and gradually subject all of them to vicious torture one girl has her breast impaled and another poor wench even has a poisonous snake shoved down her throat yikes live feed is surprisingly boring despite of all the bloodshed and the amateurish production values are quite difficult to overlook even if you're used to watching independent fan boy trash cinema like this the fat bloke depicted on the cover an oriental s m executioner is admittedly quite cool and he's also the most talented of the whole bunch because he at least keeps his mouth shut the entire time i wouldn't exactly recommend this pile of filth but hey if you like loud hideous metal music nauseating torture footage and dim witted losers go right ahead and watch\", 0)\n",
      "(\"[START] unfortunately for sarah silverman this show doesn't compliment her at all the character isn't even remotely likable and it's not a situation where you think oh she's such i b tch i love her just she's such a b tch this character is just a plain old self righteous mean b tch sarah seems to struggle to have to carry this show because she's the only semi funny one in it the mood the dialogue it's all so damn boring and dry it's like listening to your grandpa go on and on about the marbles he collected as a kid br br the sarah silverman program is so unbelievably boring that i was thinking of changing the channel to watch old repeats of married with children something that is funny because the characters are so immoral and rude i'm sorry but i don't find a show packed with dry humour and corny off the wall story lines about some angry bitter loser's angry bitter life with her annoying as hell sister and gay friends who sound like keanu reeves with a cold anywhere close to funny i can't stand this show even though generally i find sarah silverman to be that i love her cause she's such a b tch character like in school of rock and most of her stand up i think this show is boring with characters who think being mean and saying and doing things for shock value eg the constant pube diarrhea and hit in general for laughs the sarah silverman program attempts to be funny and fails it either needs a laugh track or better writers someone compared it to south park but it's not even close i've expressed my opinions on the sarah silverman program and won't become an annoying troll meaning you won't see me being a b tch and constantly posting stuff like this show sucks and why isn't this cancelled yet i don't like the sarah silverman program if you do enjoy\", 0)\n"
     ]
    }
   ],
   "source": [
    "n_samples = 5\n",
    "\n",
    "print(\"Positive Reviews...\")\n",
    "for n in range(n_samples):\n",
    "    i = np.random.choice(pos_idx)\n",
    "    print(load_review(x_train, y_train, i, load_txt=True))\n",
    "\n",
    "print(\"\\nNegative Reviews...\")\n",
    "for n in range(n_samples):\n",
    "    i = np.random.choice(neg_idx)\n",
    "    print(load_review(x_train, y_train, i, load_txt=True))\n"
   ]
  },
  {
   "cell_type": "markdown",
   "metadata": {},
   "source": [
    "# Pre-Process Data:\n",
    "\n",
    "For the assignment, I want to try two different approaches: the default frequency-based embeddings of the dataset, and using a GLOVE embedding to see if we're able to pick out more information. We're already good to go for the first one, but we need to do some word for the second one."
   ]
  },
  {
   "cell_type": "markdown",
   "metadata": {},
   "source": [
    "## Create GLOVE embedding\n",
    "\n",
    "Followed the instructions from: https://keras.io/examples/nlp/pretrained_word_embeddings/"
   ]
  },
  {
   "cell_type": "code",
   "execution_count": 35,
   "metadata": {},
   "outputs": [
    {
     "data": {
      "text/plain": [
       "array([    0,     4,     5, ..., 24996, 24998, 24999])"
      ]
     },
     "execution_count": 35,
     "metadata": {},
     "output_type": "execute_result"
    }
   ],
   "source": [
    "pos_idx"
   ]
  },
  {
   "cell_type": "code",
   "execution_count": null,
   "metadata": {},
   "outputs": [],
   "source": []
  },
  {
   "cell_type": "markdown",
   "metadata": {},
   "source": [
    "# Make/Train a Network"
   ]
  },
  {
   "cell_type": "markdown",
   "metadata": {},
   "source": [
    "## RNN"
   ]
  },
  {
   "cell_type": "code",
   "execution_count": 59,
   "metadata": {},
   "outputs": [
    {
     "name": "stdout",
     "output_type": "stream",
     "text": [
      "Model: \"Simple RNN\"\n",
      "_________________________________________________________________\n",
      " Layer (type)                Output Shape              Param #   \n",
      "=================================================================\n",
      " embedding_7 (Embedding)     (None, None, 16)          160000    \n",
      "                                                                 \n",
      " simple_rnn_8 (SimpleRNN)    (None, None, 64)          5184      \n",
      "                                                                 \n",
      " dense_16 (Dense)            (None, None, 16)          1040      \n",
      "                                                                 \n",
      " dense_17 (Dense)            (None, None, 2)           34        \n",
      "                                                                 \n",
      "=================================================================\n",
      "Total params: 166258 (649.45 KB)\n",
      "Trainable params: 166258 (649.45 KB)\n",
      "Non-trainable params: 0 (0.00 Byte)\n",
      "_________________________________________________________________\n"
     ]
    }
   ],
   "source": [
    "# 10000 most common words, plus the out of dictionary\n",
    "model = keras.Sequential([\n",
    "    keras.layers.Embedding(input_dim=10000, output_dim=16),\n",
    "    keras.layers.SimpleRNN(64, return_sequences=True, activation=\"relu\"),\n",
    "    keras.layers.Dense(16, activation=\"relu\"),\n",
    "    keras.layers.Dense(2, activation=\"sigmoid\")\n",
    "    ], name=\"Simple RNN\")\n",
    "model.build()\n",
    "model.compile(optimizer=\"adam\", loss=\"binary_crossentropy\", \n",
    "              metrics=[keras.metrics.CategoricalAccuracy()])\n",
    "model.summary()"
   ]
  },
  {
   "cell_type": "markdown",
   "metadata": {},
   "source": [
    "## LSTM"
   ]
  },
  {
   "cell_type": "markdown",
   "metadata": {},
   "source": []
  }
 ],
 "metadata": {
  "kernelspec": {
   "display_name": "dl",
   "language": "python",
   "name": "python3"
  },
  "language_info": {
   "codemirror_mode": {
    "name": "ipython",
    "version": 3
   },
   "file_extension": ".py",
   "mimetype": "text/x-python",
   "name": "python",
   "nbconvert_exporter": "python",
   "pygments_lexer": "ipython3",
   "version": "3.9.18"
  }
 },
 "nbformat": 4,
 "nbformat_minor": 2
}
