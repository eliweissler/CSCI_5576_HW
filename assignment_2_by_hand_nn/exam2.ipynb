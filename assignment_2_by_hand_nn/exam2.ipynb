{
 "cells": [
  {
   "cell_type": "code",
   "execution_count": 2,
   "metadata": {},
   "outputs": [],
   "source": [
    "import numpy as np\n",
    "import matplotlib.pyplot as plt\n",
    "import sympy as sy\n",
    "from IPython.display import display, Math, Latex"
   ]
  },
  {
   "cell_type": "markdown",
   "metadata": {},
   "source": [
    "# Problem 1:"
   ]
  },
  {
   "cell_type": "code",
   "execution_count": 3,
   "metadata": {},
   "outputs": [
    {
     "data": {
      "text/plain": [
       "array([10., 10., 10.])"
      ]
     },
     "execution_count": 3,
     "metadata": {},
     "output_type": "execute_result"
    }
   ],
   "source": [
    "W1 = np.ones((4,3))\n",
    "X = np.array([1, 2, 3, 4])\n",
    "X@W1"
   ]
  },
  {
   "cell_type": "code",
   "execution_count": 5,
   "metadata": {},
   "outputs": [
    {
     "data": {
      "text/plain": [
       "array([0.99752738])"
      ]
     },
     "execution_count": 5,
     "metadata": {},
     "output_type": "execute_result"
    }
   ],
   "source": [
    "H = np.array([2, 2, 2])\n",
    "W = np.ones([3, 1])\n",
    "H@W\n",
    "nn.sigmoid(H@W)"
   ]
  },
  {
   "cell_type": "code",
   "execution_count": 6,
   "metadata": {},
   "outputs": [
    {
     "data": {
      "text/plain": [
       "0.10536051565782628"
      ]
     },
     "execution_count": 6,
     "metadata": {},
     "output_type": "execute_result"
    }
   ],
   "source": [
    "-np.log(0.9)"
   ]
  },
  {
   "cell_type": "markdown",
   "metadata": {},
   "source": [
    "# Problem 2:"
   ]
  },
  {
   "cell_type": "markdown",
   "metadata": {},
   "source": [
    "## Part 1-2:"
   ]
  },
  {
   "cell_type": "code",
   "execution_count": 14,
   "metadata": {},
   "outputs": [
    {
     "data": {
      "text/latex": [
       "$\\displaystyle W1 = \\left[\\begin{matrix}1.0 & 1.0 & 1.0\\\\1.0 & 1.0 & 1.0\\\\1.0 & 1.0 & 1.0\\\\1.0 & 1.0 & 1.0\\end{matrix}\\right]\\quad W2 = \\left[\\begin{matrix}1.0\\\\1.0\\\\1.0\\end{matrix}\\right]$"
      ],
      "text/plain": [
       "<IPython.core.display.Math object>"
      ]
     },
     "execution_count": 14,
     "metadata": {},
     "output_type": "execute_result"
    }
   ],
   "source": [
    "X = np.array([[1, 2, 3, 0],\n",
    "              [2, 4, 1, 0],\n",
    "              [4, 3, 2, 0]])\n",
    "Y = np.array([[0],\n",
    "              [1],\n",
    "              [1]])\n",
    "W1 = np.ones((4, 3))\n",
    "W2 = np.ones((3, 1))\n",
    "B = np.zeros((1, 3))\n",
    "C = np.zeros((1, 1))\n",
    "Math(\"W1 = \" + sy.latex(sy.Matrix(W1)) +\\\n",
    "     \"\\quad W2 = \" + sy.latex(sy.Matrix(W2)))"
   ]
  },
  {
   "cell_type": "markdown",
   "metadata": {},
   "source": [
    "## Part 3-6:"
   ]
  },
  {
   "cell_type": "code",
   "execution_count": 18,
   "metadata": {},
   "outputs": [],
   "source": [
    "\n",
    "def sigmoid(x: float, deriv: bool = False):\n",
    "    if deriv:\n",
    "        vals = sigmoid(x, deriv=False)*(1-sigmoid(x, deriv=False))\n",
    "        return np.array([np.diag(val) for val in vals])\n",
    "    else:\n",
    "        return 1/(1 + np.exp(-x))"
   ]
  },
  {
   "cell_type": "code",
   "execution_count": 32,
   "metadata": {},
   "outputs": [
    {
     "data": {
      "text/latex": [
       "$\\displaystyle Z1 = \\left[\\begin{matrix}6.0 & 6.0 & 6.0\\\\7.0 & 7.0 & 7.0\\\\9.0 & 9.0 & 9.0\\end{matrix}\\right]$"
      ],
      "text/plain": [
       "<IPython.core.display.Math object>"
      ]
     },
     "metadata": {},
     "output_type": "display_data"
    },
    {
     "data": {
      "text/latex": [
       "$\\displaystyle H1 = \\left[\\begin{matrix}1.0 & 1.0 & 1.0\\\\1.0 & 1.0 & 1.0\\\\1.0 & 1.0 & 1.0\\end{matrix}\\right]$"
      ],
      "text/plain": [
       "<IPython.core.display.Math object>"
      ]
     },
     "metadata": {},
     "output_type": "display_data"
    },
    {
     "data": {
      "text/latex": [
       "$\\displaystyle Z2 = \\left[\\begin{matrix}2.99\\\\3.0\\\\3.0\\end{matrix}\\right]$"
      ],
      "text/plain": [
       "<IPython.core.display.Math object>"
      ]
     },
     "metadata": {},
     "output_type": "display_data"
    },
    {
     "data": {
      "text/latex": [
       "$\\displaystyle yhat = \\left[\\begin{matrix}0.95\\\\0.95\\\\0.95\\end{matrix}\\right]$"
      ],
      "text/plain": [
       "<IPython.core.display.Math object>"
      ]
     },
     "metadata": {},
     "output_type": "display_data"
    }
   ],
   "source": [
    "Z1 = X@W1 + B\n",
    "H1 = sigmoid(Z1)\n",
    "Z2 = H1@W2 + C\n",
    "yhat = sigmoid(Z2)\n",
    "display(Math(\"Z1 = \" + sy.latex(sy.Matrix(np.round(Z1,2)))))\n",
    "display(Math(\"H1 = \" + sy.latex(sy.Matrix(np.round(H1,2)))))\n",
    "display(Math(\"Z2 = \" + sy.latex(sy.Matrix(np.round(Z2,2)))))\n",
    "display(Math(\"yhat = \" + sy.latex(sy.Matrix(np.round(yhat,2)))))"
   ]
  },
  {
   "cell_type": "markdown",
   "metadata": {},
   "source": [
    "## Part 7-8:"
   ]
  },
  {
   "cell_type": "code",
   "execution_count": 28,
   "metadata": {},
   "outputs": [
    {
     "data": {
      "text/latex": [
       "$\\displaystyle Loss = \\left[\\begin{matrix}3.04\\\\0.05\\\\0.05\\end{matrix}\\right]$"
      ],
      "text/plain": [
       "<IPython.core.display.Math object>"
      ]
     },
     "execution_count": 28,
     "metadata": {},
     "output_type": "execute_result"
    }
   ],
   "source": [
    "def loss_bce(yhat, Y):\n",
    "    eps = 1e-10 \n",
    "    return -Y*np.log(yhat + eps) - (1-Y)*np.log(1-yhat+eps)\n",
    "loss = loss_bce(yhat, Y)\n",
    "Math(\"Loss = \" + sy.latex(sy.Matrix(np.round(loss,2))))"
   ]
  },
  {
   "cell_type": "code",
   "execution_count": 49,
   "metadata": {},
   "outputs": [
    {
     "name": "stdout",
     "output_type": "stream",
     "text": [
      "for all X_i:\n"
     ]
    },
    {
     "data": {
      "text/latex": [
       "$\\displaystyle dL/DW1 = \\left[\\begin{matrix}5.71 & -0.28 & -0.28\\\\11.43 & -0.57 & -0.57\\\\17.14 & -0.86 & -0.85\\\\0 & 0 & 0\\end{matrix}\\right]$"
      ],
      "text/plain": [
       "<IPython.core.display.Math object>"
      ]
     },
     "metadata": {},
     "output_type": "display_data"
    },
    {
     "data": {
      "text/latex": [
       "$\\displaystyle dL/DW1 = \\left[\\begin{matrix}11.43 & -0.57 & -0.57\\\\22.85 & -1.14 & -1.14\\\\5.71 & -0.28 & -0.28\\\\0 & 0 & 0\\end{matrix}\\right]$"
      ],
      "text/plain": [
       "<IPython.core.display.Math object>"
      ]
     },
     "metadata": {},
     "output_type": "display_data"
    },
    {
     "data": {
      "text/latex": [
       "$\\displaystyle dL/DW1 = \\left[\\begin{matrix}22.85 & -1.14 & -1.14\\\\17.14 & -0.86 & -0.85\\\\11.43 & -0.57 & -0.57\\\\0 & 0 & 0\\end{matrix}\\right]$"
      ],
      "text/plain": [
       "<IPython.core.display.Math object>"
      ]
     },
     "metadata": {},
     "output_type": "display_data"
    },
    {
     "name": "stdout",
     "output_type": "stream",
     "text": [
      "averaged over X_i:\n"
     ]
    },
    {
     "data": {
      "text/latex": [
       "$\\displaystyle dL/DW1 = \\left[\\begin{matrix}13.331 & -0.666 & -0.664\\\\17.14 & -0.856 & -0.854\\\\11.427 & -0.571 & -0.569\\\\0 & 0 & 0\\end{matrix}\\right]$"
      ],
      "text/plain": [
       "<IPython.core.display.Math object>"
      ]
     },
     "execution_count": 49,
     "metadata": {},
     "output_type": "execute_result"
    }
   ],
   "source": [
    "dL_dz1 = (Y-yhat)*W2.T@H*(1-H)\n",
    "dL_dW1 = [np.round(np.outer(xi,dL_dz1),3) for xi in X]\n",
    "print(\"for all X_i:\")\n",
    "[display(Math(\"dL/DW1 = \" + sy.latex(sy.Matrix(np.round(mat,2))))) for mat in dL_dW1]\n",
    "print(\"averaged over X_i:\")\n",
    "Math(\"dL/DW1 = \" + sy.latex(sy.Matrix(np.round(np.mean(dL_dW1,axis=0),3))))"
   ]
  },
  {
   "cell_type": "markdown",
   "metadata": {},
   "source": [
    "# Problem 3:"
   ]
  },
  {
   "cell_type": "markdown",
   "metadata": {},
   "source": [
    "Define the Data to be Used. Make it a simple clustering problem in 3 dimensions with 2 in each class:"
   ]
  },
  {
   "cell_type": "code",
   "execution_count": null,
   "metadata": {},
   "outputs": [],
   "source": [
    "X = np.array([[1, 0, 0],\n",
    "              [0.9, 0, 0],\n",
    "              [0, 1, 0],\n",
    "              [0, 0.95, 0],\n",
    "              [0, 0, 1],\n",
    "              [0, 0, 0.85]])\n",
    "Y = np.array([[1, 0, 0],\n",
    "              [1, 0, 0],\n",
    "              [0, 1, 0],\n",
    "              [0, 1, 0],\n",
    "              [0, 0, 1],\n",
    "              [0, 0, 1]])"
   ]
  },
  {
   "cell_type": "code",
   "execution_count": null,
   "metadata": {},
   "outputs": [],
   "source": [
    "import nn"
   ]
  }
 ],
 "metadata": {
  "kernelspec": {
   "display_name": "cqed",
   "language": "python",
   "name": "python3"
  },
  "language_info": {
   "codemirror_mode": {
    "name": "ipython",
    "version": 3
   },
   "file_extension": ".py",
   "mimetype": "text/x-python",
   "name": "python",
   "nbconvert_exporter": "python",
   "pygments_lexer": "ipython3",
   "version": "3.9.12"
  }
 },
 "nbformat": 4,
 "nbformat_minor": 2
}
