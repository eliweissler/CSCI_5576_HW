{
 "cells": [
  {
   "cell_type": "code",
   "execution_count": 151,
   "metadata": {},
   "outputs": [
    {
     "name": "stdout",
     "output_type": "stream",
     "text": [
      "CUDA AVALIABLE: True\n",
      "DEVICE: NVIDIA RTX A4500\n",
      "Using cpu device\n"
     ]
    }
   ],
   "source": [
    "import qutip as qt\n",
    "import matplotlib.pyplot as plt\n",
    "import numpy as np\n",
    "import torch\n",
    "import torch.nn as nn\n",
    "import torch.nn.functional as F\n",
    "from torch.utils.data import Dataset, DataLoader\n",
    "\n",
    "from tqdm import tqdm\n",
    "\n",
    "print(\"CUDA AVALIABLE:\", torch.cuda.is_available())\n",
    "if torch.cuda.is_available():\n",
    "    print(\"DEVICE:\", torch.cuda.get_device_name(torch.cuda.current_device()))\n",
    "device = (\n",
    "    \"cuda\"\n",
    "    if torch.cuda.is_available()\n",
    "    else \"mps\"\n",
    "    if torch.backends.mps.is_available()\n",
    "    else \"cpu\"\n",
    ")\n",
    "device = \"cpu\"\n",
    "print(f\"Using {device} device\")\n",
    "\n",
    "# Custom Imports\n",
    "from data_gen import read_data, dset_size\n"
   ]
  },
  {
   "cell_type": "markdown",
   "metadata": {},
   "source": [
    "## Load Data"
   ]
  },
  {
   "cell_type": "code",
   "execution_count": 4,
   "metadata": {},
   "outputs": [],
   "source": [
    "file = \"data.hdf5\"\n",
    "complex_type = torch.complex64\n",
    "states, H = read_data(file, dim=2, label=\"train\", i_start=0, i_end=1000)"
   ]
  },
  {
   "cell_type": "code",
   "execution_count": 5,
   "metadata": {},
   "outputs": [
    {
     "data": {
      "text/plain": [
       "(tensor([[-0.8918+0.j,  0.0000+0.j],\n",
       "         [ 0.0000+0.j, -0.7244+0.j]], device='cuda:0'),\n",
       " torch.Size([2, 2]))"
      ]
     },
     "execution_count": 5,
     "metadata": {},
     "output_type": "execute_result"
    }
   ],
   "source": [
    "d = torch.tensor(H[0, 0], dtype=complex_type).to(device)\n",
    "d, d.shape"
   ]
  },
  {
   "cell_type": "markdown",
   "metadata": {},
   "source": [
    "# Try a Model with Complex Data"
   ]
  },
  {
   "cell_type": "code",
   "execution_count": 70,
   "metadata": {},
   "outputs": [
    {
     "ename": "NameError",
     "evalue": "name 'complex_type' is not defined",
     "output_type": "error",
     "traceback": [
      "\u001b[0;31m---------------------------------------------------------------------------\u001b[0m",
      "\u001b[0;31mNameError\u001b[0m                                 Traceback (most recent call last)",
      "\u001b[1;32m/home/eweissler/src/neural_networks_hw/final_project/pytorch_test.ipynb Cell 6\u001b[0m line \u001b[0;36m2\n\u001b[1;32m     <a href='vscode-notebook-cell://ssh-remote%2Bewdesktop/home/eweissler/src/neural_networks_hw/final_project/pytorch_test.ipynb#W6sdnNjb2RlLXJlbW90ZQ%3D%3D?line=19'>20</a>\u001b[0m       x \u001b[39m=\u001b[39m \u001b[39mself\u001b[39m\u001b[39m.\u001b[39mdense2(x)\n\u001b[1;32m     <a href='vscode-notebook-cell://ssh-remote%2Bewdesktop/home/eweissler/src/neural_networks_hw/final_project/pytorch_test.ipynb#W6sdnNjb2RlLXJlbW90ZQ%3D%3D?line=21'>22</a>\u001b[0m       \u001b[39mreturn\u001b[39;00m x\n\u001b[0;32m---> <a href='vscode-notebook-cell://ssh-remote%2Bewdesktop/home/eweissler/src/neural_networks_hw/final_project/pytorch_test.ipynb#W6sdnNjb2RlLXJlbW90ZQ%3D%3D?line=23'>24</a>\u001b[0m model \u001b[39m=\u001b[39m Net()\u001b[39m.\u001b[39mto(device)\n\u001b[1;32m     <a href='vscode-notebook-cell://ssh-remote%2Bewdesktop/home/eweissler/src/neural_networks_hw/final_project/pytorch_test.ipynb#W6sdnNjb2RlLXJlbW90ZQ%3D%3D?line=24'>25</a>\u001b[0m \u001b[39mprint\u001b[39m(model)\n",
      "\u001b[1;32m/home/eweissler/src/neural_networks_hw/final_project/pytorch_test.ipynb Cell 6\u001b[0m line \u001b[0;36m6\n\u001b[1;32m      <a href='vscode-notebook-cell://ssh-remote%2Bewdesktop/home/eweissler/src/neural_networks_hw/final_project/pytorch_test.ipynb#W6sdnNjb2RlLXJlbW90ZQ%3D%3D?line=2'>3</a>\u001b[0m \u001b[39msuper\u001b[39m(Net, \u001b[39mself\u001b[39m)\u001b[39m.\u001b[39m\u001b[39m__init__\u001b[39m()\n\u001b[1;32m      <a href='vscode-notebook-cell://ssh-remote%2Bewdesktop/home/eweissler/src/neural_networks_hw/final_project/pytorch_test.ipynb#W6sdnNjb2RlLXJlbW90ZQ%3D%3D?line=3'>4</a>\u001b[0m \u001b[39mself\u001b[39m\u001b[39m.\u001b[39mflatten \u001b[39m=\u001b[39m nn\u001b[39m.\u001b[39mFlatten(start_dim\u001b[39m=\u001b[39m\u001b[39m0\u001b[39m, end_dim\u001b[39m=\u001b[39m\u001b[39m-\u001b[39m\u001b[39m1\u001b[39m)\n\u001b[1;32m      <a href='vscode-notebook-cell://ssh-remote%2Bewdesktop/home/eweissler/src/neural_networks_hw/final_project/pytorch_test.ipynb#W6sdnNjb2RlLXJlbW90ZQ%3D%3D?line=4'>5</a>\u001b[0m \u001b[39mself\u001b[39m\u001b[39m.\u001b[39mdense1\u001b[39m=\u001b[39m nn\u001b[39m.\u001b[39mSequential(\n\u001b[0;32m----> <a href='vscode-notebook-cell://ssh-remote%2Bewdesktop/home/eweissler/src/neural_networks_hw/final_project/pytorch_test.ipynb#W6sdnNjb2RlLXJlbW90ZQ%3D%3D?line=5'>6</a>\u001b[0m   nn\u001b[39m.\u001b[39mLinear(\u001b[39m4\u001b[39m, \u001b[39m2\u001b[39m, dtype\u001b[39m=\u001b[39mcomplex_type),\n\u001b[1;32m      <a href='vscode-notebook-cell://ssh-remote%2Bewdesktop/home/eweissler/src/neural_networks_hw/final_project/pytorch_test.ipynb#W6sdnNjb2RlLXJlbW90ZQ%3D%3D?line=6'>7</a>\u001b[0m   nn\u001b[39m.\u001b[39mSigmoid()\n\u001b[1;32m      <a href='vscode-notebook-cell://ssh-remote%2Bewdesktop/home/eweissler/src/neural_networks_hw/final_project/pytorch_test.ipynb#W6sdnNjb2RlLXJlbW90ZQ%3D%3D?line=7'>8</a>\u001b[0m )\n\u001b[1;32m      <a href='vscode-notebook-cell://ssh-remote%2Bewdesktop/home/eweissler/src/neural_networks_hw/final_project/pytorch_test.ipynb#W6sdnNjb2RlLXJlbW90ZQ%3D%3D?line=8'>9</a>\u001b[0m \u001b[39mself\u001b[39m\u001b[39m.\u001b[39mdense2 \u001b[39m=\u001b[39m nn\u001b[39m.\u001b[39mSequential(\n\u001b[1;32m     <a href='vscode-notebook-cell://ssh-remote%2Bewdesktop/home/eweissler/src/neural_networks_hw/final_project/pytorch_test.ipynb#W6sdnNjb2RlLXJlbW90ZQ%3D%3D?line=9'>10</a>\u001b[0m   nn\u001b[39m.\u001b[39mLinear(\u001b[39m2\u001b[39m, \u001b[39m1\u001b[39m, dtype\u001b[39m=\u001b[39mcomplex_type),\n\u001b[1;32m     <a href='vscode-notebook-cell://ssh-remote%2Bewdesktop/home/eweissler/src/neural_networks_hw/final_project/pytorch_test.ipynb#W6sdnNjb2RlLXJlbW90ZQ%3D%3D?line=10'>11</a>\u001b[0m   nn\u001b[39m.\u001b[39mSigmoid()\n\u001b[1;32m     <a href='vscode-notebook-cell://ssh-remote%2Bewdesktop/home/eweissler/src/neural_networks_hw/final_project/pytorch_test.ipynb#W6sdnNjb2RlLXJlbW90ZQ%3D%3D?line=11'>12</a>\u001b[0m )\n",
      "\u001b[0;31mNameError\u001b[0m: name 'complex_type' is not defined"
     ]
    }
   ],
   "source": [
    "class Net(nn.Module):\n",
    "    def __init__(self):\n",
    "      super(Net, self).__init__()\n",
    "      self.flatten = nn.Flatten(start_dim=0, end_dim=-1)\n",
    "      self.dense1= nn.Sequential(\n",
    "        nn.Linear(4, 2, dtype=complex_type),\n",
    "        nn.Sigmoid()\n",
    "      )\n",
    "      self.dense2 = nn.Sequential(\n",
    "        nn.Linear(2, 1, dtype=complex_type),\n",
    "        nn.Sigmoid()\n",
    "      )\n",
    "\n",
    "    # x represents our data\n",
    "    def forward(self, x):\n",
    "\n",
    "      x = self.flatten(x)\n",
    "      print(x)\n",
    "      x = self.dense1(x)\n",
    "      x = self.dense2(x)\n",
    "\n",
    "      return x\n",
    "\n",
    "model = Net().to(device)\n",
    "print(model)"
   ]
  },
  {
   "cell_type": "code",
   "execution_count": 7,
   "metadata": {},
   "outputs": [
    {
     "name": "stdout",
     "output_type": "stream",
     "text": [
      "tensor([-0.8918+0.j,  0.0000+0.j,  0.0000+0.j, -0.7244+0.j], device='cuda:0')\n"
     ]
    },
    {
     "data": {
      "text/plain": [
       "tensor([0.6411+0.1663j], device='cuda:0', grad_fn=<SigmoidBackward0>)"
      ]
     },
     "execution_count": 7,
     "metadata": {},
     "output_type": "execute_result"
    }
   ],
   "source": [
    "model(d)"
   ]
  },
  {
   "cell_type": "markdown",
   "metadata": {},
   "source": [
    "# Make a PyTorch Data Loader for Data"
   ]
  },
  {
   "cell_type": "code",
   "execution_count": 120,
   "metadata": {},
   "outputs": [],
   "source": [
    "class timeStepData(Dataset):\n",
    "    def __init__(self, hfile, dim, label, complex_type=torch.complex128, preload=True, device=None):\n",
    "        self.hfile = hfile\n",
    "        self.dim = dim\n",
    "        self.shape = dset_size(hfile, dim, label)\n",
    "        self.label = label\n",
    "        self.complex_type = complex_type\n",
    "\n",
    "        self.preload=preload\n",
    "        if preload:\n",
    "            self.data = read_data(self.hfile, self.dim, self.label, 0, self.shape[0]+1)\n",
    "\n",
    "    def __len__(self):\n",
    "        return self.shape[0]*(self.shape[1]-1)\n",
    "\n",
    "    def __getitem__(self, idx):\n",
    "       entry_idx = int(idx/(self.shape[1]-1))\n",
    "       time_idx = idx - entry_idx*(self.shape[1]-1)\n",
    "       if self.preload:\n",
    "            states, Hs = self.data[0][entry_idx:entry_idx+1], self.data[1][entry_idx:entry_idx+1]\n",
    "       else:\n",
    "            states, Hs = read_data(self.hfile, self.dim, self.label, entry_idx, entry_idx+1)\n",
    "       state = states[0, time_idx]\n",
    "       H = Hs[0, time_idx]\n",
    "       next_state = states[0, time_idx+1]\n",
    "       \n",
    "       input_tensor = torch.tensor(np.concatenate((state.flatten(), H.flatten())), dtype=self.complex_type)\n",
    "       output_tensor = torch.tensor(next_state.flatten(), dtype=self.complex_type)\n",
    "\n",
    "       if device is not None:\n",
    "        input_tensor = input_tensor.to(device)\n",
    "        output_tensor = output_tensor.to(device)\n",
    "\n",
    "       return input_tensor, output_tensor\n",
    "\n",
    "class seqData(Dataset):\n",
    "    def __init__(self, hfile, dim, label):\n",
    "        self.hfile = hfile\n",
    "        self.dim = dim\n",
    "        self.shape = dset_size(hfile, dim, label)\n",
    "\n",
    "    def __len__(self):\n",
    "        return self.shape[0]\n",
    "\n",
    "    def __getitem__(self, idx):\n",
    "       states, Hs = read_data(self.hfile, self.dim, self.label, idx, idx+1)\n",
    "       return states, idx\n",
    "\n"
   ]
  },
  {
   "cell_type": "code",
   "execution_count": 146,
   "metadata": {},
   "outputs": [],
   "source": [
    "hfile = \"data.hdf5\"\n",
    "dim = 2\n",
    "batch_size = 100000\n",
    "train_data = timeStepData(hfile, dim, \"train\", preload=True, device=device)\n",
    "train_dataloader = DataLoader(train_data, batch_size=batch_size, shuffle=True)\n",
    "test_data = timeStepData(hfile, dim, \"test\", preload=True, device=device)\n",
    "test_dataloader = DataLoader(test_data, batch_size=batch_size, shuffle=True)"
   ]
  },
  {
   "cell_type": "markdown",
   "metadata": {},
   "source": [
    "# Make a Next Step Predicting Network"
   ]
  },
  {
   "cell_type": "code",
   "execution_count": 161,
   "metadata": {},
   "outputs": [],
   "source": [
    "class StepPredNet(nn.Module):\n",
    "    def __init__(self, dim, complex_type=torch.complex128):\n",
    "      super(StepPredNet, self).__init__()\n",
    "      self.dim = dim\n",
    "      self.complex_type = complex_type\n",
    "      self.dense1= nn.Sequential(\n",
    "        nn.Linear(dim + dim**2, 4*dim, dtype=self.complex_type, bias=True),\n",
    "        # nn.Sigmoid()\n",
    "      )\n",
    "      self.dense2 = nn.Sequential(\n",
    "        nn.Linear(4*dim, 2*dim, dtype=self.complex_type, bias=True),\n",
    "        # nn.Sigmoid()\n",
    "      )\n",
    "      self.dense3 = nn.Sequential(\n",
    "        nn.Linear(2*dim, dim, dtype=self.complex_type, bias=True),\n",
    "        # nn.Sigmoid()\n",
    "      )\n",
    "\n",
    "    # x represents our data\n",
    "    def forward(self, x):\n",
    "\n",
    "      x = self.dense1(x)\n",
    "      x = self.dense2(x)\n",
    "      x = self.dense3(x)\n",
    "\n",
    "      return x"
   ]
  },
  {
   "cell_type": "code",
   "execution_count": 162,
   "metadata": {},
   "outputs": [
    {
     "name": "stdout",
     "output_type": "stream",
     "text": [
      "StepPredNet(\n",
      "  (dense1): Sequential(\n",
      "    (0): Linear(in_features=6, out_features=8, bias=False)\n",
      "  )\n",
      "  (dense2): Sequential(\n",
      "    (0): Linear(in_features=8, out_features=4, bias=True)\n",
      "  )\n",
      "  (dense3): Sequential(\n",
      "    (0): Linear(in_features=4, out_features=2, bias=False)\n",
      "  )\n",
      ")\n"
     ]
    }
   ],
   "source": [
    "model = StepPredNet(dim=2).to(device)\n",
    "loss_fn = nn.L1Loss()\n",
    "optimizer = torch.optim.Adam(model.parameters())\n",
    "\n",
    "print(model)\n",
    "# Optimizers specified in the torch.optim package\n",
    "# optimizer = torch.optim.SGD(model.parameters(), lr=0.01, momentum=0.9)"
   ]
  },
  {
   "cell_type": "code",
   "execution_count": 163,
   "metadata": {},
   "outputs": [],
   "source": [
    "def train_one_epoch(epoch_index, tb_writer, training_loader, loss_fn):\n",
    "    running_loss = 0.\n",
    "    last_loss = 0.\n",
    "\n",
    "    batch_size = training_loader.batch_size\n",
    "    # Here, we use enumerate(training_loader) instead of\n",
    "    # iter(training_loader) so that we can track the batch\n",
    "    # index and do some intra-epoch reporting\n",
    "    for i, data in tqdm(enumerate(training_loader), total=len(training_loader)):\n",
    "        # Every data instance is an input + label pair\n",
    "        inputs, labels = data\n",
    "\n",
    "        # Zero your gradients for every batch!\n",
    "        optimizer.zero_grad()\n",
    "\n",
    "        # Make predictions for this batch\n",
    "        outputs = model(inputs)\n",
    "\n",
    "        # Compute the loss and its gradients\n",
    "        loss = loss_fn(outputs, labels)\n",
    "        loss.backward()\n",
    "\n",
    "        # Adjust learning weights\n",
    "        optimizer.step()\n",
    "\n",
    "        # Gather data and report\n",
    "        running_loss += loss.item()\n",
    "        if i % batch_size == batch_size-1:\n",
    "            last_loss = running_loss / batch_size # loss per batch\n",
    "            print('  batch {} loss: {}'.format(i + 1, last_loss))\n",
    "            tb_x = epoch_index * len(training_loader) + i + 1\n",
    "            # tb_writer.add_scalar('Loss/train', last_loss, tb_x)\n",
    "            # running_loss = 0.\n",
    "\n",
    "    return running_loss/len(training_loader)"
   ]
  },
  {
   "cell_type": "code",
   "execution_count": 164,
   "metadata": {},
   "outputs": [
    {
     "name": "stdout",
     "output_type": "stream",
     "text": [
      "EPOCH 1:\n"
     ]
    },
    {
     "name": "stderr",
     "output_type": "stream",
     "text": [
      "100%|██████████| 1/1 [00:01<00:00,  1.53s/it]\n"
     ]
    },
    {
     "name": "stdout",
     "output_type": "stream",
     "text": [
      "LOSS train 0.6650391754818471 valid 0.6542452523375063\n",
      "EPOCH 2:\n"
     ]
    },
    {
     "name": "stderr",
     "output_type": "stream",
     "text": [
      "100%|██████████| 1/1 [00:01<00:00,  1.37s/it]\n"
     ]
    },
    {
     "name": "stdout",
     "output_type": "stream",
     "text": [
      "LOSS train 0.6610035742013255 valid 0.6502504879807097\n",
      "EPOCH 3:\n"
     ]
    },
    {
     "name": "stderr",
     "output_type": "stream",
     "text": [
      "100%|██████████| 1/1 [00:01<00:00,  1.48s/it]\n"
     ]
    },
    {
     "name": "stdout",
     "output_type": "stream",
     "text": [
      "LOSS train 0.6569705569704661 valid 0.6462638496670552\n",
      "EPOCH 4:\n"
     ]
    },
    {
     "name": "stderr",
     "output_type": "stream",
     "text": [
      "100%|██████████| 1/1 [00:01<00:00,  1.50s/it]\n"
     ]
    },
    {
     "name": "stdout",
     "output_type": "stream",
     "text": [
      "LOSS train 0.6529372148672505 valid 0.6422813170887438\n",
      "EPOCH 5:\n"
     ]
    },
    {
     "name": "stderr",
     "output_type": "stream",
     "text": [
      "100%|██████████| 1/1 [00:01<00:00,  1.51s/it]\n"
     ]
    },
    {
     "name": "stdout",
     "output_type": "stream",
     "text": [
      "LOSS train 0.6489024581984404 valid 0.6382995815789931\n",
      "EPOCH 6:\n"
     ]
    },
    {
     "name": "stderr",
     "output_type": "stream",
     "text": [
      "100%|██████████| 1/1 [00:01<00:00,  1.51s/it]\n"
     ]
    },
    {
     "name": "stdout",
     "output_type": "stream",
     "text": [
      "LOSS train 0.6448659266977574 valid 0.6343171076525231\n",
      "EPOCH 7:\n"
     ]
    },
    {
     "name": "stderr",
     "output_type": "stream",
     "text": [
      "100%|██████████| 1/1 [00:01<00:00,  1.38s/it]\n"
     ]
    },
    {
     "name": "stdout",
     "output_type": "stream",
     "text": [
      "LOSS train 0.6408272821346266 valid 0.6303328689945346\n",
      "EPOCH 8:\n"
     ]
    },
    {
     "name": "stderr",
     "output_type": "stream",
     "text": [
      "100%|██████████| 1/1 [00:01<00:00,  1.50s/it]\n"
     ]
    },
    {
     "name": "stdout",
     "output_type": "stream",
     "text": [
      "LOSS train 0.6367860502357895 valid 0.6263461256014362\n",
      "EPOCH 9:\n"
     ]
    },
    {
     "name": "stderr",
     "output_type": "stream",
     "text": [
      "100%|██████████| 1/1 [00:01<00:00,  1.52s/it]\n"
     ]
    },
    {
     "name": "stdout",
     "output_type": "stream",
     "text": [
      "LOSS train 0.6327417210033942 valid 0.6223564885083935\n",
      "EPOCH 10:\n"
     ]
    },
    {
     "name": "stderr",
     "output_type": "stream",
     "text": [
      "100%|██████████| 1/1 [00:01<00:00,  1.38s/it]\n"
     ]
    },
    {
     "name": "stdout",
     "output_type": "stream",
     "text": [
      "LOSS train 0.6286937350979787 valid 0.618363725122444\n",
      "EPOCH 11:\n"
     ]
    },
    {
     "name": "stderr",
     "output_type": "stream",
     "text": [
      "100%|██████████| 1/1 [00:01<00:00,  1.52s/it]\n"
     ]
    },
    {
     "name": "stdout",
     "output_type": "stream",
     "text": [
      "LOSS train 0.624641540673816 valid 0.6143672302484458\n",
      "EPOCH 12:\n"
     ]
    },
    {
     "name": "stderr",
     "output_type": "stream",
     "text": [
      "100%|██████████| 1/1 [00:01<00:00,  1.50s/it]\n"
     ]
    },
    {
     "name": "stdout",
     "output_type": "stream",
     "text": [
      "LOSS train 0.6205846241955646 valid 0.6103665830761004\n",
      "EPOCH 13:\n"
     ]
    },
    {
     "name": "stderr",
     "output_type": "stream",
     "text": [
      "100%|██████████| 1/1 [00:01<00:00,  1.51s/it]\n"
     ]
    },
    {
     "name": "stdout",
     "output_type": "stream",
     "text": [
      "LOSS train 0.6165223097902854 valid 0.6063613435308675\n",
      "EPOCH 14:\n"
     ]
    },
    {
     "name": "stderr",
     "output_type": "stream",
     "text": [
      "100%|██████████| 1/1 [00:01<00:00,  1.52s/it]\n"
     ]
    },
    {
     "name": "stdout",
     "output_type": "stream",
     "text": [
      "LOSS train 0.612453946037005 valid 0.6023509299297317\n",
      "EPOCH 15:\n"
     ]
    },
    {
     "name": "stderr",
     "output_type": "stream",
     "text": [
      "100%|██████████| 1/1 [00:01<00:00,  1.38s/it]\n"
     ]
    },
    {
     "name": "stdout",
     "output_type": "stream",
     "text": [
      "LOSS train 0.6083788563476688 valid 0.5983343684464668\n",
      "EPOCH 16:\n"
     ]
    },
    {
     "name": "stderr",
     "output_type": "stream",
     "text": [
      "100%|██████████| 1/1 [00:01<00:00,  1.50s/it]\n"
     ]
    },
    {
     "name": "stdout",
     "output_type": "stream",
     "text": [
      "LOSS train 0.6042963297586603 valid 0.5943108054697749\n",
      "EPOCH 17:\n"
     ]
    },
    {
     "name": "stderr",
     "output_type": "stream",
     "text": [
      "100%|██████████| 1/1 [00:01<00:00,  1.52s/it]\n"
     ]
    },
    {
     "name": "stdout",
     "output_type": "stream",
     "text": [
      "LOSS train 0.6002055512989577 valid 0.5902794002873635\n",
      "EPOCH 18:\n"
     ]
    },
    {
     "name": "stderr",
     "output_type": "stream",
     "text": [
      "100%|██████████| 1/1 [00:01<00:00,  1.51s/it]\n"
     ]
    },
    {
     "name": "stdout",
     "output_type": "stream",
     "text": [
      "LOSS train 0.5961057469629061 valid 0.5862392411702861\n",
      "EPOCH 19:\n"
     ]
    },
    {
     "name": "stderr",
     "output_type": "stream",
     "text": [
      "100%|██████████| 1/1 [00:01<00:00,  1.41s/it]\n"
     ]
    },
    {
     "name": "stdout",
     "output_type": "stream",
     "text": [
      "LOSS train 0.5919961837017853 valid 0.5821893585726189\n",
      "EPOCH 20:\n"
     ]
    },
    {
     "name": "stderr",
     "output_type": "stream",
     "text": [
      "100%|██████████| 1/1 [00:01<00:00,  1.52s/it]\n"
     ]
    },
    {
     "name": "stdout",
     "output_type": "stream",
     "text": [
      "LOSS train 0.5878759983329388 valid 0.5781287403922223\n",
      "EPOCH 21:\n"
     ]
    },
    {
     "name": "stderr",
     "output_type": "stream",
     "text": [
      "100%|██████████| 1/1 [00:01<00:00,  1.53s/it]\n"
     ]
    },
    {
     "name": "stdout",
     "output_type": "stream",
     "text": [
      "LOSS train 0.583744306536354 valid 0.5740564176135001\n",
      "EPOCH 22:\n"
     ]
    },
    {
     "name": "stderr",
     "output_type": "stream",
     "text": [
      "100%|██████████| 1/1 [00:01<00:00,  1.40s/it]\n"
     ]
    },
    {
     "name": "stdout",
     "output_type": "stream",
     "text": [
      "LOSS train 0.5796002217313129 valid 0.5699713966865034\n",
      "EPOCH 23:\n"
     ]
    },
    {
     "name": "stderr",
     "output_type": "stream",
     "text": [
      "100%|██████████| 1/1 [00:01<00:00,  1.50s/it]\n"
     ]
    },
    {
     "name": "stdout",
     "output_type": "stream",
     "text": [
      "LOSS train 0.5754427466156364 valid 0.5658726396146958\n",
      "EPOCH 24:\n"
     ]
    },
    {
     "name": "stderr",
     "output_type": "stream",
     "text": [
      "100%|██████████| 1/1 [00:01<00:00,  1.51s/it]\n"
     ]
    },
    {
     "name": "stdout",
     "output_type": "stream",
     "text": [
      "LOSS train 0.5712709648429822 valid 0.5617590657589935\n",
      "EPOCH 25:\n"
     ]
    },
    {
     "name": "stderr",
     "output_type": "stream",
     "text": [
      "100%|██████████| 1/1 [00:01<00:00,  1.38s/it]\n"
     ]
    },
    {
     "name": "stdout",
     "output_type": "stream",
     "text": [
      "LOSS train 0.5670838701286233 valid 0.5576295656489663\n",
      "EPOCH 26:\n"
     ]
    },
    {
     "name": "stderr",
     "output_type": "stream",
     "text": [
      "100%|██████████| 1/1 [00:01<00:00,  1.52s/it]\n"
     ]
    },
    {
     "name": "stdout",
     "output_type": "stream",
     "text": [
      "LOSS train 0.5628801957370566 valid 0.5534830432448451\n",
      "EPOCH 27:\n"
     ]
    },
    {
     "name": "stderr",
     "output_type": "stream",
     "text": [
      "100%|██████████| 1/1 [00:01<00:00,  1.52s/it]\n"
     ]
    },
    {
     "name": "stdout",
     "output_type": "stream",
     "text": [
      "LOSS train 0.5586587381129243 valid 0.5493184117816676\n",
      "EPOCH 28:\n"
     ]
    },
    {
     "name": "stderr",
     "output_type": "stream",
     "text": [
      "100%|██████████| 1/1 [00:01<00:00,  1.37s/it]\n"
     ]
    },
    {
     "name": "stdout",
     "output_type": "stream",
     "text": [
      "LOSS train 0.5544183604593178 valid 0.5451345528959055\n",
      "EPOCH 29:\n"
     ]
    },
    {
     "name": "stderr",
     "output_type": "stream",
     "text": [
      "  0%|          | 0/1 [00:01<?, ?it/s]\n"
     ]
    },
    {
     "ename": "KeyboardInterrupt",
     "evalue": "",
     "output_type": "error",
     "traceback": [
      "\u001b[0;31m---------------------------------------------------------------------------\u001b[0m",
      "\u001b[0;31mKeyboardInterrupt\u001b[0m                         Traceback (most recent call last)",
      "\u001b[1;32m/home/eweissler/src/neural_networks_hw/final_project/pytorch_test.ipynb Cell 15\u001b[0m line \u001b[0;36m2\n\u001b[1;32m     <a href='vscode-notebook-cell://ssh-remote%2Bewdesktop/home/eweissler/src/neural_networks_hw/final_project/pytorch_test.ipynb#X23sdnNjb2RlLXJlbW90ZQ%3D%3D?line=22'>23</a>\u001b[0m \u001b[39m# Make sure gradient tracking is on, and do a pass over the data\u001b[39;00m\n\u001b[1;32m     <a href='vscode-notebook-cell://ssh-remote%2Bewdesktop/home/eweissler/src/neural_networks_hw/final_project/pytorch_test.ipynb#X23sdnNjb2RlLXJlbW90ZQ%3D%3D?line=23'>24</a>\u001b[0m model\u001b[39m.\u001b[39mtrain(\u001b[39mTrue\u001b[39;00m)\n\u001b[0;32m---> <a href='vscode-notebook-cell://ssh-remote%2Bewdesktop/home/eweissler/src/neural_networks_hw/final_project/pytorch_test.ipynb#X23sdnNjb2RlLXJlbW90ZQ%3D%3D?line=24'>25</a>\u001b[0m avg_loss \u001b[39m=\u001b[39m train_one_epoch(epoch_number, writer, training_loader\u001b[39m=\u001b[39;49mtraining_loader, loss_fn\u001b[39m=\u001b[39;49mloss_fn)\n\u001b[1;32m     <a href='vscode-notebook-cell://ssh-remote%2Bewdesktop/home/eweissler/src/neural_networks_hw/final_project/pytorch_test.ipynb#X23sdnNjb2RlLXJlbW90ZQ%3D%3D?line=27'>28</a>\u001b[0m running_vloss \u001b[39m=\u001b[39m \u001b[39m0.0\u001b[39m\n\u001b[1;32m     <a href='vscode-notebook-cell://ssh-remote%2Bewdesktop/home/eweissler/src/neural_networks_hw/final_project/pytorch_test.ipynb#X23sdnNjb2RlLXJlbW90ZQ%3D%3D?line=28'>29</a>\u001b[0m \u001b[39m# Set the model to evaluation mode, disabling dropout and using population\u001b[39;00m\n\u001b[1;32m     <a href='vscode-notebook-cell://ssh-remote%2Bewdesktop/home/eweissler/src/neural_networks_hw/final_project/pytorch_test.ipynb#X23sdnNjb2RlLXJlbW90ZQ%3D%3D?line=29'>30</a>\u001b[0m \u001b[39m# statistics for batch normalization.\u001b[39;00m\n",
      "\u001b[1;32m/home/eweissler/src/neural_networks_hw/final_project/pytorch_test.ipynb Cell 15\u001b[0m line \u001b[0;36m9\n\u001b[1;32m      <a href='vscode-notebook-cell://ssh-remote%2Bewdesktop/home/eweissler/src/neural_networks_hw/final_project/pytorch_test.ipynb#X23sdnNjb2RlLXJlbW90ZQ%3D%3D?line=4'>5</a>\u001b[0m batch_size \u001b[39m=\u001b[39m training_loader\u001b[39m.\u001b[39mbatch_size\n\u001b[1;32m      <a href='vscode-notebook-cell://ssh-remote%2Bewdesktop/home/eweissler/src/neural_networks_hw/final_project/pytorch_test.ipynb#X23sdnNjb2RlLXJlbW90ZQ%3D%3D?line=5'>6</a>\u001b[0m \u001b[39m# Here, we use enumerate(training_loader) instead of\u001b[39;00m\n\u001b[1;32m      <a href='vscode-notebook-cell://ssh-remote%2Bewdesktop/home/eweissler/src/neural_networks_hw/final_project/pytorch_test.ipynb#X23sdnNjb2RlLXJlbW90ZQ%3D%3D?line=6'>7</a>\u001b[0m \u001b[39m# iter(training_loader) so that we can track the batch\u001b[39;00m\n\u001b[1;32m      <a href='vscode-notebook-cell://ssh-remote%2Bewdesktop/home/eweissler/src/neural_networks_hw/final_project/pytorch_test.ipynb#X23sdnNjb2RlLXJlbW90ZQ%3D%3D?line=7'>8</a>\u001b[0m \u001b[39m# index and do some intra-epoch reporting\u001b[39;00m\n\u001b[0;32m----> <a href='vscode-notebook-cell://ssh-remote%2Bewdesktop/home/eweissler/src/neural_networks_hw/final_project/pytorch_test.ipynb#X23sdnNjb2RlLXJlbW90ZQ%3D%3D?line=8'>9</a>\u001b[0m \u001b[39mfor\u001b[39;00m i, data \u001b[39min\u001b[39;00m tqdm(\u001b[39menumerate\u001b[39m(training_loader), total\u001b[39m=\u001b[39m\u001b[39mlen\u001b[39m(training_loader)):\n\u001b[1;32m     <a href='vscode-notebook-cell://ssh-remote%2Bewdesktop/home/eweissler/src/neural_networks_hw/final_project/pytorch_test.ipynb#X23sdnNjb2RlLXJlbW90ZQ%3D%3D?line=9'>10</a>\u001b[0m     \u001b[39m# Every data instance is an input + label pair\u001b[39;00m\n\u001b[1;32m     <a href='vscode-notebook-cell://ssh-remote%2Bewdesktop/home/eweissler/src/neural_networks_hw/final_project/pytorch_test.ipynb#X23sdnNjb2RlLXJlbW90ZQ%3D%3D?line=10'>11</a>\u001b[0m     inputs, labels \u001b[39m=\u001b[39m data\n\u001b[1;32m     <a href='vscode-notebook-cell://ssh-remote%2Bewdesktop/home/eweissler/src/neural_networks_hw/final_project/pytorch_test.ipynb#X23sdnNjb2RlLXJlbW90ZQ%3D%3D?line=12'>13</a>\u001b[0m     \u001b[39m# Zero your gradients for every batch!\u001b[39;00m\n",
      "File \u001b[0;32m~/.conda/envs/torch/lib/python3.9/site-packages/tqdm/std.py:1178\u001b[0m, in \u001b[0;36mtqdm.__iter__\u001b[0;34m(self)\u001b[0m\n\u001b[1;32m   1175\u001b[0m time \u001b[39m=\u001b[39m \u001b[39mself\u001b[39m\u001b[39m.\u001b[39m_time\n\u001b[1;32m   1177\u001b[0m \u001b[39mtry\u001b[39;00m:\n\u001b[0;32m-> 1178\u001b[0m     \u001b[39mfor\u001b[39;00m obj \u001b[39min\u001b[39;00m iterable:\n\u001b[1;32m   1179\u001b[0m         \u001b[39myield\u001b[39;00m obj\n\u001b[1;32m   1180\u001b[0m         \u001b[39m# Update and possibly print the progressbar.\u001b[39;00m\n\u001b[1;32m   1181\u001b[0m         \u001b[39m# Note: does not call self.update(1) for speed optimisation.\u001b[39;00m\n",
      "File \u001b[0;32m~/.conda/envs/torch/lib/python3.9/site-packages/torch/utils/data/dataloader.py:630\u001b[0m, in \u001b[0;36m_BaseDataLoaderIter.__next__\u001b[0;34m(self)\u001b[0m\n\u001b[1;32m    627\u001b[0m \u001b[39mif\u001b[39;00m \u001b[39mself\u001b[39m\u001b[39m.\u001b[39m_sampler_iter \u001b[39mis\u001b[39;00m \u001b[39mNone\u001b[39;00m:\n\u001b[1;32m    628\u001b[0m     \u001b[39m# TODO(https://github.com/pytorch/pytorch/issues/76750)\u001b[39;00m\n\u001b[1;32m    629\u001b[0m     \u001b[39mself\u001b[39m\u001b[39m.\u001b[39m_reset()  \u001b[39m# type: ignore[call-arg]\u001b[39;00m\n\u001b[0;32m--> 630\u001b[0m data \u001b[39m=\u001b[39m \u001b[39mself\u001b[39;49m\u001b[39m.\u001b[39;49m_next_data()\n\u001b[1;32m    631\u001b[0m \u001b[39mself\u001b[39m\u001b[39m.\u001b[39m_num_yielded \u001b[39m+\u001b[39m\u001b[39m=\u001b[39m \u001b[39m1\u001b[39m\n\u001b[1;32m    632\u001b[0m \u001b[39mif\u001b[39;00m \u001b[39mself\u001b[39m\u001b[39m.\u001b[39m_dataset_kind \u001b[39m==\u001b[39m _DatasetKind\u001b[39m.\u001b[39mIterable \u001b[39mand\u001b[39;00m \\\n\u001b[1;32m    633\u001b[0m         \u001b[39mself\u001b[39m\u001b[39m.\u001b[39m_IterableDataset_len_called \u001b[39mis\u001b[39;00m \u001b[39mnot\u001b[39;00m \u001b[39mNone\u001b[39;00m \u001b[39mand\u001b[39;00m \\\n\u001b[1;32m    634\u001b[0m         \u001b[39mself\u001b[39m\u001b[39m.\u001b[39m_num_yielded \u001b[39m>\u001b[39m \u001b[39mself\u001b[39m\u001b[39m.\u001b[39m_IterableDataset_len_called:\n",
      "File \u001b[0;32m~/.conda/envs/torch/lib/python3.9/site-packages/torch/utils/data/dataloader.py:674\u001b[0m, in \u001b[0;36m_SingleProcessDataLoaderIter._next_data\u001b[0;34m(self)\u001b[0m\n\u001b[1;32m    672\u001b[0m \u001b[39mdef\u001b[39;00m \u001b[39m_next_data\u001b[39m(\u001b[39mself\u001b[39m):\n\u001b[1;32m    673\u001b[0m     index \u001b[39m=\u001b[39m \u001b[39mself\u001b[39m\u001b[39m.\u001b[39m_next_index()  \u001b[39m# may raise StopIteration\u001b[39;00m\n\u001b[0;32m--> 674\u001b[0m     data \u001b[39m=\u001b[39m \u001b[39mself\u001b[39;49m\u001b[39m.\u001b[39;49m_dataset_fetcher\u001b[39m.\u001b[39;49mfetch(index)  \u001b[39m# may raise StopIteration\u001b[39;00m\n\u001b[1;32m    675\u001b[0m     \u001b[39mif\u001b[39;00m \u001b[39mself\u001b[39m\u001b[39m.\u001b[39m_pin_memory:\n\u001b[1;32m    676\u001b[0m         data \u001b[39m=\u001b[39m _utils\u001b[39m.\u001b[39mpin_memory\u001b[39m.\u001b[39mpin_memory(data, \u001b[39mself\u001b[39m\u001b[39m.\u001b[39m_pin_memory_device)\n",
      "File \u001b[0;32m~/.conda/envs/torch/lib/python3.9/site-packages/torch/utils/data/_utils/fetch.py:51\u001b[0m, in \u001b[0;36m_MapDatasetFetcher.fetch\u001b[0;34m(self, possibly_batched_index)\u001b[0m\n\u001b[1;32m     49\u001b[0m         data \u001b[39m=\u001b[39m \u001b[39mself\u001b[39m\u001b[39m.\u001b[39mdataset\u001b[39m.\u001b[39m__getitems__(possibly_batched_index)\n\u001b[1;32m     50\u001b[0m     \u001b[39melse\u001b[39;00m:\n\u001b[0;32m---> 51\u001b[0m         data \u001b[39m=\u001b[39m [\u001b[39mself\u001b[39m\u001b[39m.\u001b[39mdataset[idx] \u001b[39mfor\u001b[39;00m idx \u001b[39min\u001b[39;00m possibly_batched_index]\n\u001b[1;32m     52\u001b[0m \u001b[39melse\u001b[39;00m:\n\u001b[1;32m     53\u001b[0m     data \u001b[39m=\u001b[39m \u001b[39mself\u001b[39m\u001b[39m.\u001b[39mdataset[possibly_batched_index]\n",
      "File \u001b[0;32m~/.conda/envs/torch/lib/python3.9/site-packages/torch/utils/data/_utils/fetch.py:51\u001b[0m, in \u001b[0;36m<listcomp>\u001b[0;34m(.0)\u001b[0m\n\u001b[1;32m     49\u001b[0m         data \u001b[39m=\u001b[39m \u001b[39mself\u001b[39m\u001b[39m.\u001b[39mdataset\u001b[39m.\u001b[39m__getitems__(possibly_batched_index)\n\u001b[1;32m     50\u001b[0m     \u001b[39melse\u001b[39;00m:\n\u001b[0;32m---> 51\u001b[0m         data \u001b[39m=\u001b[39m [\u001b[39mself\u001b[39;49m\u001b[39m.\u001b[39;49mdataset[idx] \u001b[39mfor\u001b[39;00m idx \u001b[39min\u001b[39;00m possibly_batched_index]\n\u001b[1;32m     52\u001b[0m \u001b[39melse\u001b[39;00m:\n\u001b[1;32m     53\u001b[0m     data \u001b[39m=\u001b[39m \u001b[39mself\u001b[39m\u001b[39m.\u001b[39mdataset[possibly_batched_index]\n",
      "\u001b[1;32m/home/eweissler/src/neural_networks_hw/final_project/pytorch_test.ipynb Cell 15\u001b[0m line \u001b[0;36m2\n\u001b[1;32m     <a href='vscode-notebook-cell://ssh-remote%2Bewdesktop/home/eweissler/src/neural_networks_hw/final_project/pytorch_test.ipynb#X23sdnNjb2RlLXJlbW90ZQ%3D%3D?line=23'>24</a>\u001b[0m H \u001b[39m=\u001b[39m Hs[\u001b[39m0\u001b[39m, time_idx]\n\u001b[1;32m     <a href='vscode-notebook-cell://ssh-remote%2Bewdesktop/home/eweissler/src/neural_networks_hw/final_project/pytorch_test.ipynb#X23sdnNjb2RlLXJlbW90ZQ%3D%3D?line=24'>25</a>\u001b[0m next_state \u001b[39m=\u001b[39m states[\u001b[39m0\u001b[39m, time_idx\u001b[39m+\u001b[39m\u001b[39m1\u001b[39m]\n\u001b[0;32m---> <a href='vscode-notebook-cell://ssh-remote%2Bewdesktop/home/eweissler/src/neural_networks_hw/final_project/pytorch_test.ipynb#X23sdnNjb2RlLXJlbW90ZQ%3D%3D?line=26'>27</a>\u001b[0m input_tensor \u001b[39m=\u001b[39m torch\u001b[39m.\u001b[39;49mtensor(np\u001b[39m.\u001b[39;49mconcatenate((state\u001b[39m.\u001b[39;49mflatten(), H\u001b[39m.\u001b[39;49mflatten())), dtype\u001b[39m=\u001b[39;49m\u001b[39mself\u001b[39;49m\u001b[39m.\u001b[39;49mcomplex_type)\n\u001b[1;32m     <a href='vscode-notebook-cell://ssh-remote%2Bewdesktop/home/eweissler/src/neural_networks_hw/final_project/pytorch_test.ipynb#X23sdnNjb2RlLXJlbW90ZQ%3D%3D?line=27'>28</a>\u001b[0m output_tensor \u001b[39m=\u001b[39m torch\u001b[39m.\u001b[39mtensor(next_state\u001b[39m.\u001b[39mflatten(), dtype\u001b[39m=\u001b[39m\u001b[39mself\u001b[39m\u001b[39m.\u001b[39mcomplex_type)\n\u001b[1;32m     <a href='vscode-notebook-cell://ssh-remote%2Bewdesktop/home/eweissler/src/neural_networks_hw/final_project/pytorch_test.ipynb#X23sdnNjb2RlLXJlbW90ZQ%3D%3D?line=29'>30</a>\u001b[0m \u001b[39mif\u001b[39;00m device \u001b[39mis\u001b[39;00m \u001b[39mnot\u001b[39;00m \u001b[39mNone\u001b[39;00m:\n",
      "\u001b[0;31mKeyboardInterrupt\u001b[0m: "
     ]
    }
   ],
   "source": [
    "# Initializing in a separate cell so we can easily add more epochs to the same run\n",
    "from torch.utils.tensorboard import SummaryWriter\n",
    "from datetime import datetime\n",
    "\n",
    "train_loss = []\n",
    "val_loss = []\n",
    "\n",
    "timestamp = datetime.now().strftime('%Y%m%d_%H%M%S')\n",
    "# writer = SummaryWriter('runs/fashion_trainer_{}'.format(timestamp))\n",
    "writer = SummaryWriter('runs/timestep_solver')\n",
    "epoch_number = 0\n",
    "\n",
    "EPOCHS = 50\n",
    "\n",
    "best_vloss = 1_000_000.\n",
    "\n",
    "training_loader = train_dataloader\n",
    "validation_loader = test_dataloader\n",
    "\n",
    "for epoch in range(EPOCHS):\n",
    "    print('EPOCH {}:'.format(epoch_number + 1))\n",
    "\n",
    "    # Make sure gradient tracking is on, and do a pass over the data\n",
    "    model.train(True)\n",
    "    avg_loss = train_one_epoch(epoch_number, writer, training_loader=training_loader, loss_fn=loss_fn)\n",
    "\n",
    "\n",
    "    running_vloss = 0.0\n",
    "    # Set the model to evaluation mode, disabling dropout and using population\n",
    "    # statistics for batch normalization.\n",
    "    model.eval()\n",
    "\n",
    "    # Disable gradient computation and reduce memory consumption.\n",
    "    with torch.no_grad():\n",
    "        for i, vdata in enumerate(validation_loader):\n",
    "            vinputs, vlabels = vdata\n",
    "            voutputs = model(vinputs)\n",
    "            vloss = loss_fn(voutputs, vlabels)\n",
    "            running_vloss += vloss\n",
    "\n",
    "    avg_vloss = running_vloss / (i + 1)\n",
    "    print('LOSS train {} valid {}'.format(avg_loss, avg_vloss))\n",
    "\n",
    "    # Log the running loss averaged per batch\n",
    "    # for both training and validation\n",
    "    writer.add_scalars('Training vs. Validation Loss',\n",
    "                    { 'Training' : avg_loss, 'Validation' : avg_vloss },\n",
    "                    epoch_number + 1)\n",
    "    writer.flush()\n",
    "\n",
    "    train_loss.append(avg_loss)\n",
    "    val_loss.append(avg_vloss)\n",
    "\n",
    "    # Track best performance, and save the model's state\n",
    "    if avg_vloss < best_vloss:\n",
    "        best_vloss = avg_vloss\n",
    "        model_path = 'model_{}_{}'.format(timestamp, epoch_number)\n",
    "        torch.save(model.state_dict(), model_path)\n",
    "\n",
    "    epoch_number += 1"
   ]
  },
  {
   "cell_type": "code",
   "execution_count": 113,
   "metadata": {},
   "outputs": [
    {
     "data": {
      "text/plain": [
       "[tensor([[-0.6102+0.6320j,  0.3589+0.3154j, -0.7519+0.0000j,  0.0000+0.0000j,\n",
       "           0.0000+0.0000j,  0.1941+0.0000j],\n",
       "         [-0.0525+0.8346j,  0.2350-0.4954j, -0.3099+0.0000j,  0.0000+0.0000j,\n",
       "           0.0000+0.0000j, -0.8093+0.0000j],\n",
       "         [-0.8862+0.0178j,  0.2164-0.4094j,  0.5445+0.0000j, -0.2585+0.2074j,\n",
       "          -0.2585-0.2074j, -0.0779+0.0000j],\n",
       "         ...,\n",
       "         [ 0.1643+0.8408j,  0.2744+0.4368j,  0.4394+0.0000j,  0.0695+0.0402j,\n",
       "           0.0695-0.0402j, -0.1928+0.0000j],\n",
       "         [-0.3953+0.4877j, -0.0997-0.7720j, -0.1093+0.0000j,  0.0000+0.0000j,\n",
       "           0.0000+0.0000j,  0.5864+0.0000j],\n",
       "         [ 0.8998-0.0674j,  0.4275-0.0558j,  0.3352+0.0000j, -0.1153-0.2835j,\n",
       "          -0.1153+0.2835j,  0.2473+0.0000j]], device='cuda:0',\n",
       "        dtype=torch.complex128),\n",
       " tensor([[-0.6570+0.5832j,  0.3646+0.3088j],\n",
       "         [-0.0768+0.8327j,  0.2752-0.4743j],\n",
       "         [-0.8681+0.0627j,  0.2368-0.4318j],\n",
       "         ...,\n",
       "         [ 0.2050+0.8325j,  0.2708+0.4376j],\n",
       "         [-0.4007+0.4833j, -0.1449-0.7648j],\n",
       "         [ 0.8847-0.0897j,  0.4536-0.0582j]], dtype=torch.complex128)]"
      ]
     },
     "execution_count": 113,
     "metadata": {},
     "output_type": "execute_result"
    }
   ],
   "source": [
    "next(iter(training_loader))"
   ]
  },
  {
   "cell_type": "code",
   "execution_count": 135,
   "metadata": {},
   "outputs": [
    {
     "data": {
      "text/plain": [
       "array([ 0.01567732+0.14814522j, -0.97666745-0.15068713j])"
      ]
     },
     "execution_count": 135,
     "metadata": {},
     "output_type": "execute_result"
    }
   ],
   "source": [
    "np.array(psi_next.cpu())"
   ]
  },
  {
   "cell_type": "code",
   "execution_count": null,
   "metadata": {},
   "outputs": [],
   "source": []
  },
  {
   "cell_type": "code",
   "execution_count": 145,
   "metadata": {},
   "outputs": [
    {
     "name": "stdout",
     "output_type": "stream",
     "text": [
      "tensor([ 0.0162+0.1483j, -0.9769-0.1531j, -0.2388+0.0000j,  0.0000+0.0000j,\n",
      "         0.0000+0.0000j, -0.6597+0.0000j], device='cuda:0',\n",
      "       dtype=torch.complex128)\n",
      "tensor([ 0.0157+0.1481j, -0.9767-0.1507j], dtype=torch.complex128)\n",
      "tensor([ 0.0157+0.1481j, -0.9767-0.1507j, -0.2388+0.0000j,  0.0019+0.0003j,\n",
      "         0.0019-0.0003j, -0.6580+0.0000j], device='cuda:0',\n",
      "       dtype=torch.complex128)\n",
      "tensor([ 0.0151+0.1480j, -0.9764-0.1482j], dtype=torch.complex128)\n",
      "tensor([ 0.0151+0.1480j, -0.9764-0.1482j, -0.2388+0.0000j,  0.0038+0.0007j,\n",
      "         0.0038-0.0007j, -0.6563+0.0000j], device='cuda:0',\n",
      "       dtype=torch.complex128)\n",
      "tensor([ 0.0145+0.1478j, -0.9762-0.1457j], dtype=torch.complex128)\n",
      "tensor([ 0.0145+0.1478j, -0.9762-0.1457j, -0.2388+0.0000j,  0.0055+0.0010j,\n",
      "         0.0055-0.0010j, -0.6548+0.0000j], device='cuda:0',\n",
      "       dtype=torch.complex128)\n",
      "tensor([ 0.0139+0.1477j, -0.9760-0.1432j], dtype=torch.complex128)\n",
      "tensor([ 0.0139+0.1477j, -0.9760-0.1432j, -0.2388+0.0000j,  0.0072+0.0013j,\n",
      "         0.0072-0.0013j, -0.6533+0.0000j], device='cuda:0',\n",
      "       dtype=torch.complex128)\n",
      "tensor([ 0.0133+0.1475j, -0.9757-0.1407j], dtype=torch.complex128)\n",
      "tensor([ 0.0133+0.1475j, -0.9757-0.1407j, -0.2388+0.0000j,  0.0087+0.0015j,\n",
      "         0.0087-0.0015j, -0.6519+0.0000j], device='cuda:0',\n",
      "       dtype=torch.complex128)\n",
      "tensor([ 0.0127+0.1474j, -0.9755-0.1382j], dtype=torch.complex128)\n",
      "tensor([ 0.0127+0.1474j, -0.9755-0.1382j, -0.2388+0.0000j,  0.0101+0.0018j,\n",
      "         0.0101-0.0018j, -0.6507+0.0000j], device='cuda:0',\n",
      "       dtype=torch.complex128)\n",
      "tensor([ 0.0120+0.1473j, -0.9752-0.1357j], dtype=torch.complex128)\n",
      "tensor([ 0.0120+0.1473j, -0.9752-0.1357j, -0.2388+0.0000j,  0.0113+0.0020j,\n",
      "         0.0113-0.0020j, -0.6496+0.0000j], device='cuda:0',\n",
      "       dtype=torch.complex128)\n",
      "tensor([ 0.0113+0.1471j, -0.9750-0.1331j], dtype=torch.complex128)\n",
      "tensor([ 0.0113+0.1471j, -0.9750-0.1331j, -0.2388+0.0000j,  0.0123+0.0022j,\n",
      "         0.0123-0.0022j, -0.6487+0.0000j], device='cuda:0',\n",
      "       dtype=torch.complex128)\n",
      "tensor([ 0.0106+0.1470j, -0.9747-0.1306j], dtype=torch.complex128)\n",
      "tensor([ 0.0106+0.1470j, -0.9747-0.1306j, -0.2388+0.0000j,  0.0132+0.0023j,\n",
      "         0.0132-0.0023j, -0.6479+0.0000j], device='cuda:0',\n",
      "       dtype=torch.complex128)\n",
      "tensor([ 0.0100+0.1468j, -0.9744-0.1280j], dtype=torch.complex128)\n",
      "tensor([ 0.0100+0.1468j, -0.9744-0.1280j, -0.2388+0.0000j,  0.0139+0.0024j,\n",
      "         0.0139-0.0024j, -0.6473+0.0000j], device='cuda:0',\n",
      "       dtype=torch.complex128)\n",
      "tensor([ 0.0093+0.1467j, -0.9741-0.1254j], dtype=torch.complex128)\n",
      "tensor([ 0.0093+0.1467j, -0.9741-0.1254j, -0.2388+0.0000j,  0.0143+0.0025j,\n",
      "         0.0143-0.0025j, -0.6469+0.0000j], device='cuda:0',\n",
      "       dtype=torch.complex128)\n",
      "tensor([ 0.0086+0.1465j, -0.9738-0.1229j], dtype=torch.complex128)\n",
      "tensor([ 0.0086+0.1465j, -0.9738-0.1229j, -0.2388+0.0000j,  0.0145+0.0026j,\n",
      "         0.0145-0.0026j, -0.6467+0.0000j], device='cuda:0',\n",
      "       dtype=torch.complex128)\n",
      "tensor([ 0.0079+0.1464j, -0.9735-0.1203j], dtype=torch.complex128)\n",
      "tensor([ 0.0079+0.1464j, -0.9735-0.1203j, -0.2388+0.0000j,  0.0145+0.0025j,\n",
      "         0.0145-0.0025j, -0.6468+0.0000j], device='cuda:0',\n",
      "       dtype=torch.complex128)\n",
      "tensor([ 0.0072+0.1462j, -0.9732-0.1177j], dtype=torch.complex128)\n",
      "tensor([ 0.0072+0.1462j, -0.9732-0.1177j, -0.2388+0.0000j,  0.0142+0.0025j,\n",
      "         0.0142-0.0025j, -0.6470+0.0000j], device='cuda:0',\n",
      "       dtype=torch.complex128)\n",
      "tensor([ 0.0065+0.1461j, -0.9729-0.1152j], dtype=torch.complex128)\n",
      "tensor([ 0.0065+0.1461j, -0.9729-0.1152j, -0.2388+0.0000j,  0.0136+0.0024j,\n",
      "         0.0136-0.0024j, -0.6475+0.0000j], device='cuda:0',\n",
      "       dtype=torch.complex128)\n",
      "tensor([ 0.0058+0.1460j, -0.9725-0.1126j], dtype=torch.complex128)\n",
      "tensor([ 0.0058+0.1460j, -0.9725-0.1126j, -0.2388+0.0000j,  0.0128+0.0022j,\n",
      "         0.0128-0.0022j, -0.6483+0.0000j], device='cuda:0',\n",
      "       dtype=torch.complex128)\n",
      "tensor([ 0.0051+0.1458j, -0.9722-0.1101j], dtype=torch.complex128)\n",
      "tensor([ 0.0051+0.1458j, -0.9722-0.1101j, -0.2388+0.0000j,  0.0116+0.0020j,\n",
      "         0.0116-0.0020j, -0.6493+0.0000j], device='cuda:0',\n",
      "       dtype=torch.complex128)\n",
      "tensor([ 0.0044+0.1457j, -0.9719-0.1075j], dtype=torch.complex128)\n",
      "tensor([ 0.0044+0.1457j, -0.9719-0.1075j, -0.2388+0.0000j,  0.0102+0.0018j,\n",
      "         0.0102-0.0018j, -0.6506+0.0000j], device='cuda:0',\n",
      "       dtype=torch.complex128)\n",
      "tensor([ 0.0038+0.1455j, -0.9715-0.1050j], dtype=torch.complex128)\n",
      "tensor([ 0.0038+0.1455j, -0.9715-0.1050j, -0.2388+0.0000j,  0.0084+0.0015j,\n",
      "         0.0084-0.0015j, -0.6522+0.0000j], device='cuda:0',\n",
      "       dtype=torch.complex128)\n",
      "tensor([ 0.0032+0.1454j, -0.9711-0.1025j], dtype=torch.complex128)\n",
      "tensor([ 0.0032+0.1454j, -0.9711-0.1025j, -0.2388+0.0000j,  0.0064+0.0011j,\n",
      "         0.0064-0.0011j, -0.6540+0.0000j], device='cuda:0',\n",
      "       dtype=torch.complex128)\n",
      "tensor([ 0.0026+0.1452j, -0.9708-0.1000j], dtype=torch.complex128)\n",
      "tensor([ 0.0026+0.1452j, -0.9708-0.1000j, -0.2388+0.0000j,  0.0040+0.0007j,\n",
      "         0.0040-0.0007j, -0.6561+0.0000j], device='cuda:0',\n",
      "       dtype=torch.complex128)\n",
      "tensor([ 0.0020+0.1451j, -0.9704-0.0976j], dtype=torch.complex128)\n",
      "tensor([ 0.0020+0.1451j, -0.9704-0.0976j, -0.2388+0.0000j,  0.0013+0.0002j,\n",
      "         0.0013-0.0002j, -0.6585+0.0000j], device='cuda:0',\n",
      "       dtype=torch.complex128)\n",
      "tensor([ 0.0015+0.1449j, -0.9700-0.0952j], dtype=torch.complex128)\n",
      "tensor([ 0.0015+0.1449j, -0.9700-0.0952j, -0.2388+0.0000j, -0.0017-0.0003j,\n",
      "        -0.0017+0.0003j, -0.6612+0.0000j], device='cuda:0',\n",
      "       dtype=torch.complex128)\n",
      "tensor([ 0.0010+0.1448j, -0.9697-0.0928j], dtype=torch.complex128)\n",
      "tensor([ 0.0010+0.1448j, -0.9697-0.0928j, -0.2388+0.0000j, -0.0050-0.0009j,\n",
      "        -0.0050+0.0009j, -0.6641+0.0000j], device='cuda:0',\n",
      "       dtype=torch.complex128)\n",
      "tensor([ 5.3691e-04+0.1446j, -9.6927e-01-0.0905j], dtype=torch.complex128)\n",
      "tensor([ 5.3691e-04+0.1446j, -9.6927e-01-0.0905j, -2.3878e-01+0.0000j,\n",
      "        -8.5669e-03-0.0015j, -8.5669e-03+0.0015j, -6.6730e-01+0.0000j],\n",
      "       device='cuda:0', dtype=torch.complex128)\n",
      "tensor([ 1.2680e-04+0.1444j, -9.6888e-01-0.0882j], dtype=torch.complex128)\n",
      "tensor([ 1.2680e-04+0.1444j, -9.6888e-01-0.0882j, -2.3878e-01+0.0000j,\n",
      "        -1.2454e-02-0.0022j, -1.2454e-02+0.0022j, -6.7076e-01+0.0000j],\n",
      "       device='cuda:0', dtype=torch.complex128)\n",
      "tensor([-2.3581e-04+0.1443j, -9.6848e-01-0.0859j], dtype=torch.complex128)\n",
      "tensor([-2.3581e-04+0.1443j, -9.6848e-01-0.0859j, -2.3878e-01+0.0000j,\n",
      "        -1.6617e-02-0.0029j, -1.6617e-02+0.0029j, -6.7446e-01+0.0000j],\n",
      "       device='cuda:0', dtype=torch.complex128)\n",
      "tensor([-5.4767e-04+0.1441j, -9.6808e-01-0.0837j], dtype=torch.complex128)\n",
      "tensor([-5.4767e-04+0.1441j, -9.6808e-01-0.0837j, -2.3878e-01+0.0000j,\n",
      "        -2.1042e-02-0.0037j, -2.1042e-02+0.0037j, -6.7840e-01+0.0000j],\n",
      "       device='cuda:0', dtype=torch.complex128)\n",
      "tensor([-8.0567e-04+0.1439j, -9.6767e-01-0.0815j], dtype=torch.complex128)\n",
      "tensor([-8.0567e-04+0.1439j, -9.6767e-01-0.0815j, -2.3878e-01+0.0000j,\n",
      "        -2.5711e-02-0.0045j, -2.5711e-02+0.0045j, -6.8256e-01+0.0000j],\n",
      "       device='cuda:0', dtype=torch.complex128)\n",
      "tensor([-0.0010+0.1438j, -0.9673-0.0794j], dtype=torch.complex128)\n",
      "tensor([-0.0010+0.1438j, -0.9673-0.0794j, -0.2388+0.0000j, -0.0306-0.0054j,\n",
      "        -0.0306+0.0054j, -0.6869+0.0000j], device='cuda:0',\n",
      "       dtype=torch.complex128)\n",
      "tensor([-0.0011+0.1436j, -0.9668-0.0773j], dtype=torch.complex128)\n",
      "tensor([-0.0011+0.1436j, -0.9668-0.0773j, -0.2388+0.0000j, -0.0357-0.0063j,\n",
      "        -0.0357+0.0063j, -0.6915+0.0000j], device='cuda:0',\n",
      "       dtype=torch.complex128)\n",
      "tensor([-0.0012+0.1434j, -0.9664-0.0753j], dtype=torch.complex128)\n",
      "tensor([-0.0012+0.1434j, -0.9664-0.0753j, -0.2388+0.0000j, -0.0410-0.0072j,\n",
      "        -0.0410+0.0072j, -0.6961+0.0000j], device='cuda:0',\n",
      "       dtype=torch.complex128)\n",
      "tensor([-0.0012+0.1432j, -0.9660-0.0733j], dtype=torch.complex128)\n",
      "tensor([-0.0012+0.1432j, -0.9660-0.0733j, -0.2388+0.0000j, -0.0464-0.0082j,\n",
      "        -0.0464+0.0082j, -0.7010+0.0000j], device='cuda:0',\n",
      "       dtype=torch.complex128)\n",
      "tensor([-0.0012+0.1431j, -0.9656-0.0714j], dtype=torch.complex128)\n",
      "tensor([-0.0012+0.1431j, -0.9656-0.0714j, -0.2388+0.0000j, -0.0519-0.0091j,\n",
      "        -0.0519+0.0091j, -0.7059+0.0000j], device='cuda:0',\n",
      "       dtype=torch.complex128)\n",
      "tensor([-0.0011+0.1429j, -0.9651-0.0696j], dtype=torch.complex128)\n",
      "tensor([-0.0011+0.1429j, -0.9651-0.0696j, -0.2388+0.0000j, -0.0576-0.0101j,\n",
      "        -0.0576+0.0101j, -0.7109+0.0000j], device='cuda:0',\n",
      "       dtype=torch.complex128)\n",
      "tensor([-8.9552e-04+0.1427j, -9.6471e-01-0.0678j], dtype=torch.complex128)\n",
      "tensor([-8.9552e-04+0.1427j, -9.6471e-01-0.0678j, -2.3878e-01+0.0000j,\n",
      "        -6.3279e-02-0.0111j, -6.3279e-02+0.0111j, -7.1601e-01+0.0000j],\n",
      "       device='cuda:0', dtype=torch.complex128)\n",
      "tensor([-6.4243e-04+0.1425j, -9.6428e-01-0.0661j], dtype=torch.complex128)\n",
      "tensor([-6.4243e-04+0.1425j, -9.6428e-01-0.0661j, -2.3878e-01+0.0000j,\n",
      "        -6.9006e-02-0.0121j, -6.9006e-02+0.0121j, -7.2111e-01+0.0000j],\n",
      "       device='cuda:0', dtype=torch.complex128)\n",
      "tensor([-3.2029e-04+0.1423j, -9.6384e-01-0.0645j], dtype=torch.complex128)\n",
      "tensor([-3.2029e-04+0.1423j, -9.6384e-01-0.0645j, -2.3878e-01+0.0000j,\n",
      "        -7.4727e-02-0.0132j, -7.4727e-02+0.0132j, -7.2621e-01+0.0000j],\n",
      "       device='cuda:0', dtype=torch.complex128)\n",
      "tensor([ 7.0788e-05+0.1421j, -9.6340e-01-0.0629j], dtype=torch.complex128)\n",
      "tensor([ 7.0788e-05+0.1421j, -9.6340e-01-0.0629j, -2.3878e-01+0.0000j,\n",
      "        -8.0408e-02-0.0141j, -8.0408e-02+0.0141j, -7.3126e-01+0.0000j],\n",
      "       device='cuda:0', dtype=torch.complex128)\n",
      "tensor([ 5.3028e-04+0.1419j, -9.6296e-01-0.0613j], dtype=torch.complex128)\n",
      "tensor([ 5.3028e-04+0.1419j, -9.6296e-01-0.0613j, -2.3878e-01+0.0000j,\n",
      "        -8.6013e-02-0.0151j, -8.6013e-02+0.0151j, -7.3626e-01+0.0000j],\n",
      "       device='cuda:0', dtype=torch.complex128)\n",
      "tensor([ 0.0011+0.1417j, -0.9625-0.0598j], dtype=torch.complex128)\n",
      "tensor([ 0.0011+0.1417j, -0.9625-0.0598j, -0.2388+0.0000j, -0.0915-0.0161j,\n",
      "        -0.0915+0.0161j, -0.7411+0.0000j], device='cuda:0',\n",
      "       dtype=torch.complex128)\n",
      "tensor([ 0.0017+0.1415j, -0.9621-0.0584j], dtype=torch.complex128)\n",
      "tensor([ 0.0017+0.1415j, -0.9621-0.0584j, -0.2388+0.0000j, -0.0969-0.0170j,\n",
      "        -0.0969+0.0170j, -0.7459+0.0000j], device='cuda:0',\n",
      "       dtype=torch.complex128)\n",
      "tensor([ 0.0023+0.1413j, -0.9616-0.0571j], dtype=torch.complex128)\n",
      "tensor([ 0.0023+0.1413j, -0.9616-0.0571j, -0.2388+0.0000j, -0.1020-0.0180j,\n",
      "        -0.1020+0.0180j, -0.7505+0.0000j], device='cuda:0',\n",
      "       dtype=torch.complex128)\n",
      "tensor([ 0.0030+0.1411j, -0.9612-0.0558j], dtype=torch.complex128)\n",
      "tensor([ 0.0030+0.1411j, -0.9612-0.0558j, -0.2388+0.0000j, -0.1070-0.0188j,\n",
      "        -0.1070+0.0188j, -0.7549+0.0000j], device='cuda:0',\n",
      "       dtype=torch.complex128)\n",
      "tensor([ 0.0038+0.1409j, -0.9607-0.0545j], dtype=torch.complex128)\n",
      "tensor([ 0.0038+0.1409j, -0.9607-0.0545j, -0.2388+0.0000j, -0.1117-0.0197j,\n",
      "        -0.1117+0.0197j, -0.7591+0.0000j], device='cuda:0',\n",
      "       dtype=torch.complex128)\n",
      "tensor([ 0.0046+0.1406j, -0.9603-0.0533j], dtype=torch.complex128)\n",
      "tensor([ 0.0046+0.1406j, -0.9603-0.0533j, -0.2388+0.0000j, -0.1161-0.0204j,\n",
      "        -0.1161+0.0204j, -0.7631+0.0000j], device='cuda:0',\n",
      "       dtype=torch.complex128)\n",
      "tensor([ 0.0055+0.1404j, -0.9598-0.0522j], dtype=torch.complex128)\n",
      "tensor([ 0.0055+0.1404j, -0.9598-0.0522j, -0.2388+0.0000j, -0.1203-0.0212j,\n",
      "        -0.1203+0.0212j, -0.7668+0.0000j], device='cuda:0',\n",
      "       dtype=torch.complex128)\n",
      "tensor([ 0.0065+0.1402j, -0.9594-0.0510j], dtype=torch.complex128)\n",
      "tensor([ 0.0065+0.1402j, -0.9594-0.0510j, -0.2388+0.0000j, -0.1241-0.0218j,\n",
      "        -0.1241+0.0218j, -0.7701+0.0000j], device='cuda:0',\n",
      "       dtype=torch.complex128)\n",
      "tensor([ 0.0075+0.1400j, -0.9589-0.0500j], dtype=torch.complex128)\n",
      "tensor([ 0.0075+0.1400j, -0.9589-0.0500j, -0.2388+0.0000j, -0.1275-0.0224j,\n",
      "        -0.1275+0.0224j, -0.7732+0.0000j], device='cuda:0',\n",
      "       dtype=torch.complex128)\n",
      "tensor([ 0.0085+0.1398j, -0.9585-0.0489j], dtype=torch.complex128)\n",
      "tensor([ 0.0085+0.1398j, -0.9585-0.0489j, -0.2388+0.0000j, -0.1306-0.0230j,\n",
      "        -0.1306+0.0230j, -0.7760+0.0000j], device='cuda:0',\n",
      "       dtype=torch.complex128)\n",
      "tensor([ 0.0095+0.1396j, -0.9580-0.0479j], dtype=torch.complex128)\n",
      "tensor([ 0.0095+0.1396j, -0.9580-0.0479j, -0.2388+0.0000j, -0.1333-0.0235j,\n",
      "        -0.1333+0.0235j, -0.7783+0.0000j], device='cuda:0',\n",
      "       dtype=torch.complex128)\n",
      "tensor([ 0.0106+0.1393j, -0.9575-0.0470j], dtype=torch.complex128)\n",
      "tensor([ 0.0106+0.1393j, -0.9575-0.0470j, -0.2388+0.0000j, -0.1355-0.0239j,\n",
      "        -0.1355+0.0239j, -0.7804+0.0000j], device='cuda:0',\n",
      "       dtype=torch.complex128)\n",
      "tensor([ 0.0118+0.1391j, -0.9571-0.0460j], dtype=torch.complex128)\n",
      "tensor([ 0.0118+0.1391j, -0.9571-0.0460j, -0.2388+0.0000j, -0.1374-0.0242j,\n",
      "        -0.1374+0.0242j, -0.7820+0.0000j], device='cuda:0',\n",
      "       dtype=torch.complex128)\n",
      "tensor([ 0.0129+0.1389j, -0.9566-0.0451j], dtype=torch.complex128)\n",
      "tensor([ 0.0129+0.1389j, -0.9566-0.0451j, -0.2388+0.0000j, -0.1388-0.0244j,\n",
      "        -0.1388+0.0244j, -0.7833+0.0000j], device='cuda:0',\n",
      "       dtype=torch.complex128)\n",
      "tensor([ 0.0141+0.1387j, -0.9561-0.0442j], dtype=torch.complex128)\n",
      "tensor([ 0.0141+0.1387j, -0.9561-0.0442j, -0.2388+0.0000j, -0.1398-0.0246j,\n",
      "        -0.1398+0.0246j, -0.7841+0.0000j], device='cuda:0',\n",
      "       dtype=torch.complex128)\n",
      "tensor([ 0.0152+0.1385j, -0.9557-0.0433j], dtype=torch.complex128)\n",
      "tensor([ 0.0152+0.1385j, -0.9557-0.0433j, -0.2388+0.0000j, -0.1403-0.0247j,\n",
      "        -0.1403+0.0247j, -0.7846+0.0000j], device='cuda:0',\n",
      "       dtype=torch.complex128)\n",
      "tensor([ 0.0164+0.1383j, -0.9552-0.0424j], dtype=torch.complex128)\n",
      "tensor([ 0.0164+0.1383j, -0.9552-0.0424j, -0.2388+0.0000j, -0.1404-0.0247j,\n",
      "        -0.1404+0.0247j, -0.7847+0.0000j], device='cuda:0',\n",
      "       dtype=torch.complex128)\n",
      "tensor([ 0.0176+0.1380j, -0.9547-0.0416j], dtype=torch.complex128)\n",
      "tensor([ 0.0176+0.1380j, -0.9547-0.0416j, -0.2388+0.0000j, -0.1400-0.0246j,\n",
      "        -0.1400+0.0246j, -0.7844+0.0000j], device='cuda:0',\n",
      "       dtype=torch.complex128)\n",
      "tensor([ 0.0188+0.1378j, -0.9543-0.0407j], dtype=torch.complex128)\n",
      "tensor([ 0.0188+0.1378j, -0.9543-0.0407j, -0.2388+0.0000j, -0.1392-0.0245j,\n",
      "        -0.1392+0.0245j, -0.7837+0.0000j], device='cuda:0',\n",
      "       dtype=torch.complex128)\n",
      "tensor([ 0.0200+0.1376j, -0.9538-0.0398j], dtype=torch.complex128)\n",
      "tensor([ 0.0200+0.1376j, -0.9538-0.0398j, -0.2388+0.0000j, -0.1380-0.0243j,\n",
      "        -0.1380+0.0243j, -0.7826+0.0000j], device='cuda:0',\n",
      "       dtype=torch.complex128)\n",
      "tensor([ 0.0211+0.1374j, -0.9533-0.0389j], dtype=torch.complex128)\n",
      "tensor([ 0.0211+0.1374j, -0.9533-0.0389j, -0.2388+0.0000j, -0.1364-0.0240j,\n",
      "        -0.1364+0.0240j, -0.7811+0.0000j], device='cuda:0',\n",
      "       dtype=torch.complex128)\n",
      "tensor([ 0.0222+0.1372j, -0.9529-0.0380j], dtype=torch.complex128)\n",
      "tensor([ 0.0222+0.1372j, -0.9529-0.0380j, -0.2388+0.0000j, -0.1344-0.0236j,\n",
      "        -0.1344+0.0236j, -0.7793+0.0000j], device='cuda:0',\n",
      "       dtype=torch.complex128)\n",
      "tensor([ 0.0234+0.1370j, -0.9524-0.0370j], dtype=torch.complex128)\n",
      "tensor([ 0.0234+0.1370j, -0.9524-0.0370j, -0.2388+0.0000j, -0.1320-0.0232j,\n",
      "        -0.1320+0.0232j, -0.7772+0.0000j], device='cuda:0',\n",
      "       dtype=torch.complex128)\n",
      "tensor([ 0.0244+0.1368j, -0.9519-0.0361j], dtype=torch.complex128)\n",
      "tensor([ 0.0244+0.1368j, -0.9519-0.0361j, -0.2388+0.0000j, -0.1292-0.0227j,\n",
      "        -0.1292+0.0227j, -0.7747+0.0000j], device='cuda:0',\n",
      "       dtype=torch.complex128)\n",
      "tensor([ 0.0255+0.1366j, -0.9514-0.0351j], dtype=torch.complex128)\n",
      "tensor([ 0.0255+0.1366j, -0.9514-0.0351j, -0.2388+0.0000j, -0.1262-0.0222j,\n",
      "        -0.1262+0.0222j, -0.7720+0.0000j], device='cuda:0',\n",
      "       dtype=torch.complex128)\n",
      "tensor([ 0.0265+0.1365j, -0.9509-0.0341j], dtype=torch.complex128)\n",
      "tensor([ 0.0265+0.1365j, -0.9509-0.0341j, -0.2388+0.0000j, -0.1228-0.0216j,\n",
      "        -0.1228+0.0216j, -0.7690+0.0000j], device='cuda:0',\n",
      "       dtype=torch.complex128)\n",
      "tensor([ 0.0275+0.1363j, -0.9504-0.0330j], dtype=torch.complex128)\n",
      "tensor([ 0.0275+0.1363j, -0.9504-0.0330j, -0.2388+0.0000j, -0.1191-0.0210j,\n",
      "        -0.1191+0.0210j, -0.7657+0.0000j], device='cuda:0',\n",
      "       dtype=torch.complex128)\n",
      "tensor([ 0.0284+0.1361j, -0.9499-0.0319j], dtype=torch.complex128)\n",
      "tensor([ 0.0284+0.1361j, -0.9499-0.0319j, -0.2388+0.0000j, -0.1151-0.0203j,\n",
      "        -0.1151+0.0203j, -0.7622+0.0000j], device='cuda:0',\n",
      "       dtype=torch.complex128)\n",
      "tensor([ 0.0293+0.1359j, -0.9494-0.0308j], dtype=torch.complex128)\n",
      "tensor([ 0.0293+0.1359j, -0.9494-0.0308j, -0.2388+0.0000j, -0.1110-0.0195j,\n",
      "        -0.1110+0.0195j, -0.7585+0.0000j], device='cuda:0',\n",
      "       dtype=torch.complex128)\n",
      "tensor([ 0.0301+0.1358j, -0.9489-0.0297j], dtype=torch.complex128)\n",
      "tensor([ 0.0301+0.1358j, -0.9489-0.0297j, -0.2388+0.0000j, -0.1066-0.0188j,\n",
      "        -0.1066+0.0188j, -0.7546+0.0000j], device='cuda:0',\n",
      "       dtype=torch.complex128)\n",
      "tensor([ 0.0309+0.1356j, -0.9484-0.0285j], dtype=torch.complex128)\n",
      "tensor([ 0.0309+0.1356j, -0.9484-0.0285j, -0.2388+0.0000j, -0.1021-0.0180j,\n",
      "        -0.1021+0.0180j, -0.7506+0.0000j], device='cuda:0',\n",
      "       dtype=torch.complex128)\n",
      "tensor([ 0.0316+0.1354j, -0.9479-0.0272j], dtype=torch.complex128)\n",
      "tensor([ 0.0316+0.1354j, -0.9479-0.0272j, -0.2388+0.0000j, -0.0974-0.0171j,\n",
      "        -0.0974+0.0171j, -0.7464+0.0000j], device='cuda:0',\n",
      "       dtype=torch.complex128)\n",
      "tensor([ 0.0323+0.1353j, -0.9474-0.0259j], dtype=torch.complex128)\n",
      "tensor([ 0.0323+0.1353j, -0.9474-0.0259j, -0.2388+0.0000j, -0.0926-0.0163j,\n",
      "        -0.0926+0.0163j, -0.7421+0.0000j], device='cuda:0',\n",
      "       dtype=torch.complex128)\n",
      "tensor([ 0.0329+0.1351j, -0.9468-0.0246j], dtype=torch.complex128)\n",
      "tensor([ 0.0329+0.1351j, -0.9468-0.0246j, -0.2388+0.0000j, -0.0878-0.0154j,\n",
      "        -0.0878+0.0154j, -0.7378+0.0000j], device='cuda:0',\n",
      "       dtype=torch.complex128)\n",
      "tensor([ 0.0335+0.1350j, -0.9463-0.0232j], dtype=torch.complex128)\n",
      "tensor([ 0.0335+0.1350j, -0.9463-0.0232j, -0.2388+0.0000j, -0.0829-0.0146j,\n",
      "        -0.0829+0.0146j, -0.7334+0.0000j], device='cuda:0',\n",
      "       dtype=torch.complex128)\n",
      "tensor([ 0.0340+0.1349j, -0.9458-0.0218j], dtype=torch.complex128)\n",
      "tensor([ 0.0340+0.1349j, -0.9458-0.0218j, -0.2388+0.0000j, -0.0779-0.0137j,\n",
      "        -0.0779+0.0137j, -0.7291+0.0000j], device='cuda:0',\n",
      "       dtype=torch.complex128)\n",
      "tensor([ 0.0344+0.1347j, -0.9452-0.0203j], dtype=torch.complex128)\n",
      "tensor([ 0.0344+0.1347j, -0.9452-0.0203j, -0.2388+0.0000j, -0.0730-0.0128j,\n",
      "        -0.0730+0.0128j, -0.7247+0.0000j], device='cuda:0',\n",
      "       dtype=torch.complex128)\n",
      "tensor([ 0.0348+0.1346j, -0.9447-0.0188j], dtype=torch.complex128)\n",
      "tensor([ 0.0348+0.1346j, -0.9447-0.0188j, -0.2388+0.0000j, -0.0681-0.0120j,\n",
      "        -0.0681+0.0120j, -0.7203+0.0000j], device='cuda:0',\n",
      "       dtype=torch.complex128)\n",
      "tensor([ 0.0351+0.1345j, -0.9441-0.0172j], dtype=torch.complex128)\n",
      "tensor([ 0.0351+0.1345j, -0.9441-0.0172j, -0.2388+0.0000j, -0.0633-0.0111j,\n",
      "        -0.0633+0.0111j, -0.7160+0.0000j], device='cuda:0',\n",
      "       dtype=torch.complex128)\n",
      "tensor([ 0.0354+0.1343j, -0.9436-0.0155j], dtype=torch.complex128)\n",
      "tensor([ 0.0354+0.1343j, -0.9436-0.0155j, -0.2388+0.0000j, -0.0585-0.0103j,\n",
      "        -0.0585+0.0103j, -0.7118+0.0000j], device='cuda:0',\n",
      "       dtype=torch.complex128)\n",
      "tensor([ 0.0356+0.1342j, -0.9430-0.0139j], dtype=torch.complex128)\n",
      "tensor([ 0.0356+0.1342j, -0.9430-0.0139j, -0.2388+0.0000j, -0.0538-0.0095j,\n",
      "        -0.0538+0.0095j, -0.7076+0.0000j], device='cuda:0',\n",
      "       dtype=torch.complex128)\n",
      "tensor([ 0.0358+0.1341j, -0.9424-0.0122j], dtype=torch.complex128)\n",
      "tensor([ 0.0358+0.1341j, -0.9424-0.0122j, -0.2388+0.0000j, -0.0493-0.0087j,\n",
      "        -0.0493+0.0087j, -0.7036+0.0000j], device='cuda:0',\n",
      "       dtype=torch.complex128)\n",
      "tensor([ 0.0359+0.1340j, -0.9418-0.0104j], dtype=torch.complex128)\n",
      "tensor([ 0.0359+0.1340j, -0.9418-0.0104j, -0.2388+0.0000j, -0.0449-0.0079j,\n",
      "        -0.0449+0.0079j, -0.6996+0.0000j], device='cuda:0',\n",
      "       dtype=torch.complex128)\n",
      "tensor([ 0.0360+0.1339j, -0.9413-0.0086j], dtype=torch.complex128)\n",
      "tensor([ 0.0360+0.1339j, -0.9413-0.0086j, -0.2388+0.0000j, -0.0407-0.0072j,\n",
      "        -0.0407+0.0072j, -0.6959+0.0000j], device='cuda:0',\n",
      "       dtype=torch.complex128)\n",
      "tensor([ 0.0360+0.1338j, -0.9407-0.0067j], dtype=torch.complex128)\n",
      "tensor([ 0.0360+0.1338j, -0.9407-0.0067j, -0.2388+0.0000j, -0.0366-0.0064j,\n",
      "        -0.0366+0.0064j, -0.6922+0.0000j], device='cuda:0',\n",
      "       dtype=torch.complex128)\n",
      "tensor([ 0.0359+0.1337j, -0.9401-0.0049j], dtype=torch.complex128)\n",
      "tensor([ 0.0359+0.1337j, -0.9401-0.0049j, -0.2388+0.0000j, -0.0327-0.0058j,\n",
      "        -0.0327+0.0058j, -0.6888+0.0000j], device='cuda:0',\n",
      "       dtype=torch.complex128)\n",
      "tensor([ 0.0358+0.1336j, -0.9395-0.0029j], dtype=torch.complex128)\n",
      "tensor([ 0.0358+0.1336j, -0.9395-0.0029j, -0.2388+0.0000j, -0.0290-0.0051j,\n",
      "        -0.0290+0.0051j, -0.6855+0.0000j], device='cuda:0',\n",
      "       dtype=torch.complex128)\n",
      "tensor([ 0.0357+0.1335j, -0.9388-0.0010j], dtype=torch.complex128)\n",
      "tensor([ 0.0357+0.1335j, -0.9388-0.0010j, -0.2388+0.0000j, -0.0255-0.0045j,\n",
      "        -0.0255+0.0045j, -0.6824+0.0000j], device='cuda:0',\n",
      "       dtype=torch.complex128)\n",
      "tensor([ 0.0355+0.1334j, -0.9382+0.0010j], dtype=torch.complex128)\n",
      "tensor([ 0.0355+0.1334j, -0.9382+0.0010j, -0.2388+0.0000j, -0.0222-0.0039j,\n",
      "        -0.0222+0.0039j, -0.6794+0.0000j], device='cuda:0',\n",
      "       dtype=torch.complex128)\n",
      "tensor([ 0.0353+0.1333j, -0.9376+0.0030j], dtype=torch.complex128)\n",
      "tensor([ 0.0353+0.1333j, -0.9376+0.0030j, -0.2388+0.0000j, -0.0191-0.0034j,\n",
      "        -0.0191+0.0034j, -0.6767+0.0000j], device='cuda:0',\n",
      "       dtype=torch.complex128)\n",
      "tensor([ 0.0351+0.1333j, -0.9370+0.0051j], dtype=torch.complex128)\n",
      "tensor([ 0.0351+0.1333j, -0.9370+0.0051j, -0.2388+0.0000j, -0.0163-0.0029j,\n",
      "        -0.0163+0.0029j, -0.6741+0.0000j], device='cuda:0',\n",
      "       dtype=torch.complex128)\n",
      "tensor([ 0.0348+0.1332j, -0.9363+0.0072j], dtype=torch.complex128)\n",
      "tensor([ 0.0348+0.1332j, -0.9363+0.0072j, -0.2388+0.0000j, -0.0136-0.0024j,\n",
      "        -0.0136+0.0024j, -0.6718+0.0000j], device='cuda:0',\n",
      "       dtype=torch.complex128)\n",
      "tensor([ 0.0345+0.1331j, -0.9357+0.0093j], dtype=torch.complex128)\n",
      "tensor([ 0.0345+0.1331j, -0.9357+0.0093j, -0.2388+0.0000j, -0.0112-0.0020j,\n",
      "        -0.0112+0.0020j, -0.6696+0.0000j], device='cuda:0',\n",
      "       dtype=torch.complex128)\n",
      "tensor([ 0.0341+0.1330j, -0.9350+0.0114j], dtype=torch.complex128)\n",
      "tensor([ 0.0341+0.1330j, -0.9350+0.0114j, -0.2388+0.0000j, -0.0090-0.0016j,\n",
      "        -0.0090+0.0016j, -0.6676+0.0000j], device='cuda:0',\n",
      "       dtype=torch.complex128)\n",
      "tensor([ 0.0338+0.1329j, -0.9344+0.0135j], dtype=torch.complex128)\n",
      "tensor([ 0.0338+0.1329j, -0.9344+0.0135j, -0.2388+0.0000j, -0.0070-0.0012j,\n",
      "        -0.0070+0.0012j, -0.6659+0.0000j], device='cuda:0',\n",
      "       dtype=torch.complex128)\n",
      "tensor([ 0.0334+0.1329j, -0.9337+0.0157j], dtype=torch.complex128)\n",
      "tensor([ 0.0334+0.1329j, -0.9337+0.0157j, -0.2388+0.0000j, -0.0052-0.0009j,\n",
      "        -0.0052+0.0009j, -0.6643+0.0000j], device='cuda:0',\n",
      "       dtype=torch.complex128)\n",
      "tensor([ 0.0330+0.1328j, -0.9330+0.0179j], dtype=torch.complex128)\n",
      "tensor([ 0.0330+0.1328j, -0.9330+0.0179j, -0.2388+0.0000j, -0.0036-0.0006j,\n",
      "        -0.0036+0.0006j, -0.6629+0.0000j], device='cuda:0',\n",
      "       dtype=torch.complex128)\n",
      "tensor([ 0.0326+0.1327j, -0.9323+0.0201j], dtype=torch.complex128)\n",
      "tensor([ 0.0326+0.1327j, -0.9323+0.0201j, -0.2388+0.0000j, -0.0022-0.0004j,\n",
      "        -0.0022+0.0004j, -0.6616+0.0000j], device='cuda:0',\n",
      "       dtype=torch.complex128)\n",
      "tensor([ 0.0321+0.1327j, -0.9317+0.0223j], dtype=torch.complex128)\n",
      "tensor([ 0.0321+0.1327j, -0.9317+0.0223j, -0.2388+0.0000j, -0.0010-0.0002j,\n",
      "        -0.0010+0.0002j, -0.6606+0.0000j], device='cuda:0',\n",
      "       dtype=torch.complex128)\n",
      "tensor([ 0.0317+0.1326j, -0.9310+0.0245j], dtype=torch.complex128)\n"
     ]
    },
    {
     "data": {
      "text/plain": [
       "<matplotlib.legend.Legend at 0x7f259dcaf610>"
      ]
     },
     "execution_count": 145,
     "metadata": {},
     "output_type": "execute_result"
    },
    {
     "data": {
      "image/png": "[encoded data removed]",
      "text/plain": [
       "<Figure size 640x480 with 1 Axes>"
      ]
     },
     "metadata": {},
     "output_type": "display_data"
    }
   ],
   "source": [
    "i = 2\n",
    "states, H = read_data(\"data.hdf5\", 2, \"train\", i, i+1)\n",
    "H0 = H[0,0]\n",
    "psi0 = states[0,0]\n",
    "\n",
    "model.eval()\n",
    "\n",
    "# Disable gradient computation and reduce memory consumption.\n",
    "state_list = [psi0]\n",
    "with torch.no_grad():\n",
    "    for i in range(H.shape[1]-1):\n",
    "        input_tensor = torch.tensor(np.concatenate((state_list[-1].flatten(), H[0,i].flatten())), dtype=torch.complex128).to(device)\n",
    "        print(input_tensor)\n",
    "        output_tensor = model(input_tensor).cpu()\n",
    "        print(output_tensor)\n",
    "        state_list.append(np.array(output_tensor))\n",
    "\n",
    "\n",
    "prob0 = np.abs(states[0,:,0])**2\n",
    "t_end=10\n",
    "dt = 0.1\n",
    "t_list = np.arange(0, t_end+dt, dt)\n",
    "states_calc = [qt.Qobj(x) for x in state_list]\n",
    "prob0_calc = [np.abs(s[0][0][0])**2 for s in states_calc]\n",
    "# plt.plot(t_list, prob0, label=\"saved\")\n",
    "plt.plot(t_list, prob0_calc, label=\"calc\")\n",
    "plt.legend()"
   ]
  },
  {
   "cell_type": "code",
   "execution_count": null,
   "metadata": {},
   "outputs": [],
   "source": []
  }
 ],
 "metadata": {
  "kernelspec": {
   "display_name": "dl",
   "language": "python",
   "name": "python3"
  },
  "language_info": {
   "codemirror_mode": {
    "name": "ipython",
    "version": 3
   },
   "file_extension": ".py",
   "mimetype": "text/x-python",
   "name": "python",
   "nbconvert_exporter": "python",
   "pygments_lexer": "ipython3",
   "version": "3.9.18"
  }
 },
 "nbformat": 4,
 "nbformat_minor": 2
}
