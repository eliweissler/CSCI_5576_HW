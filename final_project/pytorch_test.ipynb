{
 "cells": [
  {
   "cell_type": "code",
   "execution_count": 9,
   "metadata": {},
   "outputs": [
    {
     "name": "stdout",
     "output_type": "stream",
     "text": [
      "CUDA AVALIABLE: True\n",
      "DEVICE: NVIDIA RTX A4500\n",
      "Using cuda device\n"
     ]
    }
   ],
   "source": [
    "import qutip as qt\n",
    "import matplotlib.pyplot as plt\n",
    "import numpy as np\n",
    "import torch\n",
    "import torch.nn as nn\n",
    "import torch.nn.functional as F\n",
    "from torch.utils.data import Dataset, DataLoader\n",
    "\n",
    "print(\"CUDA AVALIABLE:\", torch.cuda.is_available())\n",
    "if torch.cuda.is_available():\n",
    "    print(\"DEVICE:\", torch.cuda.get_device_name(torch.cuda.current_device()))\n",
    "device = (\n",
    "    \"cuda\"\n",
    "    if torch.cuda.is_available()\n",
    "    else \"mps\"\n",
    "    if torch.backends.mps.is_available()\n",
    "    else \"cpu\"\n",
    ")\n",
    "print(f\"Using {device} device\")\n"
   ]
  },
  {
   "cell_type": "code",
   "execution_count": 7,
   "metadata": {},
   "outputs": [],
   "source": [
    "# Custom Imports\n",
    "from data_gen import read_data, dset_size"
   ]
  },
  {
   "cell_type": "markdown",
   "metadata": {},
   "source": [
    "## Load Data"
   ]
  },
  {
   "cell_type": "code",
   "execution_count": null,
   "metadata": {},
   "outputs": [],
   "source": [
    "file = \"data.hdf5\"\n",
    "complex_type = torch.complex64\n",
    "states, H = read_data(file, dim=2, label=\"train\", i_start=0, i_end=1000)"
   ]
  },
  {
   "cell_type": "code",
   "execution_count": null,
   "metadata": {},
   "outputs": [],
   "source": [
    "d = torch.tensor(H[0, 0], dtype=complex_type).to(device)\n",
    "d, d.shape"
   ]
  },
  {
   "cell_type": "markdown",
   "metadata": {},
   "source": [
    "# Try a Model with Complex Data"
   ]
  },
  {
   "cell_type": "code",
   "execution_count": null,
   "metadata": {},
   "outputs": [],
   "source": [
    "class Net(nn.Module):\n",
    "    def __init__(self):\n",
    "      super(Net, self).__init__()\n",
    "      self.flatten = nn.Flatten(start_dim=0, end_dim=-1)\n",
    "      self.dense1= nn.Sequential(\n",
    "        nn.Linear(4, 2, dtype=complex_type),\n",
    "        nn.Sigmoid()\n",
    "      )\n",
    "      self.dense2 = nn.Sequential(\n",
    "        nn.Linear(2, 1, dtype=complex_type),\n",
    "        nn.Sigmoid()\n",
    "      )\n",
    "\n",
    "    # x represents our data\n",
    "    def forward(self, x):\n",
    "\n",
    "      x = self.flatten(x)\n",
    "      print(x)\n",
    "      x = self.dense1(x)\n",
    "      x = self.dense2(x)\n",
    "\n",
    "      return x\n",
    "\n",
    "model = Net().to(device)\n",
    "print(model)"
   ]
  },
  {
   "cell_type": "code",
   "execution_count": null,
   "metadata": {},
   "outputs": [],
   "source": [
    "model(d)"
   ]
  },
  {
   "cell_type": "markdown",
   "metadata": {},
   "source": [
    "# Make a PyTorch Data Loader for Data"
   ]
  },
  {
   "cell_type": "code",
   "execution_count": 4,
   "metadata": {},
   "outputs": [],
   "source": [
    "class myDataset(Dataset):\n",
    "    def __init__(self, hfile, dim, label):\n",
    "        self.hfile = hfile\n",
    "        self.dim = dim\n",
    "        self.shape = dset_size(hfile, dim, label)\n",
    "\n",
    "    def __len__(self):\n",
    "        return self.shape[0]\n",
    "\n",
    "    def __getitem__(self, idx):\n",
    "       return read_data(self.hfile, self.dim, self.label, idx, idx+1)"
   ]
  },
  {
   "cell_type": "code",
   "execution_count": 10,
   "metadata": {},
   "outputs": [],
   "source": [
    "hfile = \"data.hdf5\"\n",
    "dim = 2\n",
    "train_data = myDataset(hfile, dim, \"train\")\n",
    "train_dataloader = DataLoader(train_data, batch_size=32, shuffle=True)\n",
    "test_data = myDataset(hfile, dim, \"test\")\n",
    "test_dataloader = DataLoader(test_data, batch_size=32, shuffle=True)"
   ]
  },
  {
   "cell_type": "code",
   "execution_count": null,
   "metadata": {},
   "outputs": [],
   "source": []
  }
 ],
 "metadata": {
  "kernelspec": {
   "display_name": "dl",
   "language": "python",
   "name": "python3"
  },
  "language_info": {
   "codemirror_mode": {
    "name": "ipython",
    "version": 3
   },
   "file_extension": ".py",
   "mimetype": "text/x-python",
   "name": "python",
   "nbconvert_exporter": "python",
   "pygments_lexer": "ipython3",
   "version": "3.9.18"
  }
 },
 "nbformat": 4,
 "nbformat_minor": 2
}
