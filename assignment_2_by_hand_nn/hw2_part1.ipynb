{
 "cells": [
  {
   "cell_type": "code",
   "execution_count": 1,
   "metadata": {},
   "outputs": [],
   "source": [
    "import pandas as pd\n",
    "import numpy as np\n",
    "import matplotlib.pyplot as plt\n",
    "import sympy as sy\n",
    "\n",
    "\n",
    "import seaborn as sns\n",
    "from sklearn.metrics import confusion_matrix\n",
    "\n",
    "from IPython.display import display, Math, Latex\n",
    "\n",
    "import nn"
   ]
  },
  {
   "cell_type": "markdown",
   "metadata": {},
   "source": [
    "# Part 1: One Layer NN with One Output\n",
    "## Problem 2\n",
    "\n",
    "### Create Dataset\n",
    "The data is meant to be a clustering problem in 3 dimensions. Anything close to the origin has a value of 0 and anything further has a value of 1."
   ]
  },
  {
   "cell_type": "code",
   "execution_count": 2,
   "metadata": {},
   "outputs": [
    {
     "data": {
      "text/html": [
       "<div>\n",
       "<style scoped>\n",
       "    .dataframe tbody tr th:only-of-type {\n",
       "        vertical-align: middle;\n",
       "    }\n",
       "\n",
       "    .dataframe tbody tr th {\n",
       "        vertical-align: top;\n",
       "    }\n",
       "\n",
       "    .dataframe thead th {\n",
       "        text-align: right;\n",
       "    }\n",
       "</style>\n",
       "<table border=\"1\" class=\"dataframe\">\n",
       "  <thead>\n",
       "    <tr style=\"text-align: right;\">\n",
       "      <th></th>\n",
       "      <th>X</th>\n",
       "      <th>Y</th>\n",
       "      <th>Z</th>\n",
       "      <th>LABEL</th>\n",
       "    </tr>\n",
       "  </thead>\n",
       "  <tbody>\n",
       "    <tr>\n",
       "      <th>0</th>\n",
       "      <td>-0.5</td>\n",
       "      <td>0.0</td>\n",
       "      <td>-0.5</td>\n",
       "      <td>0</td>\n",
       "    </tr>\n",
       "    <tr>\n",
       "      <th>1</th>\n",
       "      <td>0.5</td>\n",
       "      <td>-0.5</td>\n",
       "      <td>0.0</td>\n",
       "      <td>0</td>\n",
       "    </tr>\n",
       "    <tr>\n",
       "      <th>2</th>\n",
       "      <td>0.0</td>\n",
       "      <td>0.0</td>\n",
       "      <td>1.0</td>\n",
       "      <td>0</td>\n",
       "    </tr>\n",
       "    <tr>\n",
       "      <th>3</th>\n",
       "      <td>0.5</td>\n",
       "      <td>0.5</td>\n",
       "      <td>0.5</td>\n",
       "      <td>0</td>\n",
       "    </tr>\n",
       "    <tr>\n",
       "      <th>4</th>\n",
       "      <td>2.0</td>\n",
       "      <td>1.0</td>\n",
       "      <td>2.0</td>\n",
       "      <td>1</td>\n",
       "    </tr>\n",
       "    <tr>\n",
       "      <th>5</th>\n",
       "      <td>3.0</td>\n",
       "      <td>1.0</td>\n",
       "      <td>1.0</td>\n",
       "      <td>1</td>\n",
       "    </tr>\n",
       "    <tr>\n",
       "      <th>6</th>\n",
       "      <td>2.0</td>\n",
       "      <td>3.0</td>\n",
       "      <td>1.0</td>\n",
       "      <td>1</td>\n",
       "    </tr>\n",
       "  </tbody>\n",
       "</table>\n",
       "</div>"
      ],
      "text/plain": [
       "     X    Y    Z  LABEL\n",
       "0 -0.5  0.0 -0.5      0\n",
       "1  0.5 -0.5  0.0      0\n",
       "2  0.0  0.0  1.0      0\n",
       "3  0.5  0.5  0.5      0\n",
       "4  2.0  1.0  2.0      1\n",
       "5  3.0  1.0  1.0      1\n",
       "6  2.0  3.0  1.0      1"
      ]
     },
     "execution_count": 2,
     "metadata": {},
     "output_type": "execute_result"
    }
   ],
   "source": [
    "data = pd.read_csv(\"A2_Data_EliWeissler.csv\")\n",
    "data"
   ]
  },
  {
   "cell_type": "code",
   "execution_count": 3,
   "metadata": {},
   "outputs": [
    {
     "data": {
      "image/png": "[encoded data removed]",
      "text/plain": [
       "<Figure size 432x288 with 1 Axes>"
      ]
     },
     "metadata": {
      "needs_background": "light"
     },
     "output_type": "display_data"
    }
   ],
   "source": [
    "fig = plt.figure()\n",
    "ax = plt.axes(projection='3d')\n",
    "\n",
    "# plotting\n",
    "colors = [\"k\", \"r\"]\n",
    "for i in [0, 1]:\n",
    "    data_subset = data[data[\"LABEL\"] == i]\n",
    "    ax.scatter(data_subset[\"X\"], data_subset[\"Y\"], data_subset[\"Z\"],\n",
    "               s=50, c=colors[i], label=data_subset[\"LABEL\"].iloc[0])\n",
    "ax.set_title('Dataset')\n",
    "ax.set_xlabel(\"X\")\n",
    "ax.set_ylabel(\"Y\")\n",
    "ax.set_zlabel(\"Z\")\n",
    "ax.legend()\n",
    "plt.show()"
   ]
  },
  {
   "cell_type": "markdown",
   "metadata": {},
   "source": [
    "### Create X and Y"
   ]
  },
  {
   "cell_type": "code",
   "execution_count": 4,
   "metadata": {},
   "outputs": [
    {
     "data": {
      "text/latex": [
       "$\\displaystyle X = \\left[\\begin{matrix}0 & 0.14 & 0\\\\0.29 & 0 & 0.2\\\\0.14 & 0.14 & 0.6\\\\0.29 & 0.29 & 0.4\\\\0.71 & 0.43 & 1.0\\\\1.0 & 0.43 & 0.6\\\\0.71 & 1.0 & 0.6\\end{matrix}\\right]\\quad Y = \\left[\\begin{matrix}0\\\\0\\\\0\\\\0\\\\1\\\\1\\\\1\\end{matrix}\\right]$"
      ],
      "text/plain": [
       "<IPython.core.display.Math object>"
      ]
     },
     "execution_count": 4,
     "metadata": {},
     "output_type": "execute_result"
    }
   ],
   "source": [
    "X, Y = nn.normalize_data(data)\n",
    "Math(\"X = \" + sy.latex(sy.Matrix(np.round(X, 2))) +\\\n",
    "     \"\\quad Y = \" + sy.latex(sy.Matrix(Y)))"
   ]
  },
  {
   "cell_type": "markdown",
   "metadata": {},
   "source": [
    "### Do Feed Forward to H1"
   ]
  },
  {
   "cell_type": "code",
   "execution_count": 5,
   "metadata": {},
   "outputs": [
    {
     "data": {
      "text/plain": [
       "array([[0.54, 0.54, 0.54, 0.54],\n",
       "       [0.62, 0.62, 0.62, 0.62],\n",
       "       [0.71, 0.71, 0.71, 0.71],\n",
       "       [0.73, 0.73, 0.73, 0.73],\n",
       "       [0.89, 0.89, 0.89, 0.89],\n",
       "       [0.88, 0.88, 0.88, 0.88],\n",
       "       [0.91, 0.91, 0.91, 0.91]])"
      ]
     },
     "execution_count": 5,
     "metadata": {},
     "output_type": "execute_result"
    }
   ],
   "source": [
    "# Define weights and biases\n",
    "W1 = np.ones((3, 4))\n",
    "W2 = 2*np.ones((4, 1))\n",
    "B = np.zeros((1, 4))\n",
    "C = 0\n",
    "\n",
    "# First hidden layer\n",
    "Z1 = X@W1 + B\n",
    "H1 = nn.sigmoid(Z1)\n",
    "\n",
    "# Show H1\n",
    "np.round(H1, 2)"
   ]
  },
  {
   "cell_type": "markdown",
   "metadata": {},
   "source": [
    "### Calculate a Loss Function"
   ]
  },
  {
   "cell_type": "code",
   "execution_count": 11,
   "metadata": {},
   "outputs": [
    {
     "data": {
      "text/plain": [
       "array([[4.86508842e-01],\n",
       "       [4.93010336e-01],\n",
       "       [4.96549485e-01],\n",
       "       [4.96995824e-01],\n",
       "       [3.01441059e-07],\n",
       "       [3.60751217e-07],\n",
       "       [2.36959392e-07]])"
      ]
     },
     "execution_count": 11,
     "metadata": {},
     "output_type": "execute_result"
    }
   ],
   "source": [
    "# Output layer\n",
    "Z2 = H1@W2 + C\n",
    "yhat = nn.sigmoid(Z2)\n",
    "loss = nn.loss_MSE(Y, yhat)\n",
    "loss"
   ]
  },
  {
   "cell_type": "markdown",
   "metadata": {},
   "source": [
    "## Problem 3\n",
    "\n",
    "### Print out all the Matrices for Checking:"
   ]
  },
  {
   "cell_type": "code",
   "execution_count": 12,
   "metadata": {},
   "outputs": [
    {
     "data": {
      "text/latex": [
       "$\\displaystyle X = \\left[\\begin{matrix}0 & 0.14 & 0\\\\0.29 & 0 & 0.2\\\\0.14 & 0.14 & 0.6\\\\0.29 & 0.29 & 0.4\\\\0.71 & 0.43 & 1.0\\\\1.0 & 0.43 & 0.6\\\\0.71 & 1.0 & 0.6\\end{matrix}\\right]$"
      ],
      "text/plain": [
       "<IPython.core.display.Math object>"
      ]
     },
     "metadata": {},
     "output_type": "display_data"
    },
    {
     "data": {
      "text/latex": [
       "$\\displaystyle Y = \\left[\\begin{matrix}0\\\\0\\\\0\\\\0\\\\1\\\\1\\\\1\\end{matrix}\\right]$"
      ],
      "text/plain": [
       "<IPython.core.display.Math object>"
      ]
     },
     "metadata": {},
     "output_type": "display_data"
    },
    {
     "data": {
      "text/latex": [
       "$\\displaystyle W^{(1)} = \\left[\\begin{matrix}1.0 & 1.0 & 1.0 & 1.0\\\\1.0 & 1.0 & 1.0 & 1.0\\\\1.0 & 1.0 & 1.0 & 1.0\\end{matrix}\\right]$"
      ],
      "text/plain": [
       "<IPython.core.display.Math object>"
      ]
     },
     "metadata": {},
     "output_type": "display_data"
    },
    {
     "data": {
      "text/latex": [
       "$\\displaystyle B = \\left[\\begin{matrix}0 & 0 & 0 & 0\\end{matrix}\\right]$"
      ],
      "text/plain": [
       "<IPython.core.display.Math object>"
      ]
     },
     "metadata": {},
     "output_type": "display_data"
    },
    {
     "data": {
      "text/latex": [
       "$\\displaystyle Z^{(1)} = \\left[\\begin{matrix}0.14 & 0.14 & 0.14 & 0.14\\\\0.49 & 0.49 & 0.49 & 0.49\\\\0.89 & 0.89 & 0.89 & 0.89\\\\0.97 & 0.97 & 0.97 & 0.97\\\\2.14 & 2.14 & 2.14 & 2.14\\\\2.03 & 2.03 & 2.03 & 2.03\\\\2.31 & 2.31 & 2.31 & 2.31\\end{matrix}\\right]$"
      ],
      "text/plain": [
       "<IPython.core.display.Math object>"
      ]
     },
     "metadata": {},
     "output_type": "display_data"
    },
    {
     "data": {
      "text/latex": [
       "$\\displaystyle H = \\left[\\begin{matrix}0.54 & 0.54 & 0.54 & 0.54\\\\0.62 & 0.62 & 0.62 & 0.62\\\\0.71 & 0.71 & 0.71 & 0.71\\\\0.73 & 0.73 & 0.73 & 0.73\\\\0.89 & 0.89 & 0.89 & 0.89\\\\0.88 & 0.88 & 0.88 & 0.88\\\\0.91 & 0.91 & 0.91 & 0.91\\end{matrix}\\right]$"
      ],
      "text/plain": [
       "<IPython.core.display.Math object>"
      ]
     },
     "metadata": {},
     "output_type": "display_data"
    },
    {
     "data": {
      "text/latex": [
       "$\\displaystyle W^{(2)} = \\left[\\begin{matrix}2.0\\\\2.0\\\\2.0\\\\2.0\\end{matrix}\\right]$"
      ],
      "text/plain": [
       "<IPython.core.display.Math object>"
      ]
     },
     "metadata": {},
     "output_type": "display_data"
    },
    {
     "data": {
      "text/latex": [
       "$\\displaystyle Z^{(2)} = \\left[\\begin{matrix}4.29\\\\4.95\\\\5.66\\\\5.8\\\\7.16\\\\7.07\\\\7.28\\end{matrix}\\right]$"
      ],
      "text/plain": [
       "<IPython.core.display.Math object>"
      ]
     },
     "metadata": {},
     "output_type": "display_data"
    },
    {
     "data": {
      "text/latex": [
       "$\\displaystyle C = 0$"
      ],
      "text/plain": [
       "<IPython.core.display.Math object>"
      ]
     },
     "metadata": {},
     "output_type": "display_data"
    },
    {
     "data": {
      "text/latex": [
       "$\\displaystyle \\hat{y} = \\left[\\begin{matrix}0.986\\\\0.993\\\\0.997\\\\0.997\\\\0.999\\\\0.999\\\\0.999\\end{matrix}\\right]$"
      ],
      "text/plain": [
       "<IPython.core.display.Math object>"
      ]
     },
     "metadata": {},
     "output_type": "display_data"
    },
    {
     "data": {
      "text/latex": [
       "$\\displaystyle \\hat{y}-Y = \\left[\\begin{matrix}0.98642\\\\0.99299\\\\0.99654\\\\0.99699\\\\-0.00078\\\\-0.00085\\\\-0.00069\\end{matrix}\\right]$"
      ],
      "text/plain": [
       "<IPython.core.display.Math object>"
      ]
     },
     "metadata": {},
     "output_type": "display_data"
    },
    {
     "data": {
      "text/latex": [
       "$\\displaystyle L_{contributions} = \\left[\\begin{matrix}0.486508841756607\\\\0.493010335700804\\\\0.496549485396578\\\\0.496995823907791\\\\3.01441058794641 \\cdot 10^{-7}\\\\3.607512172511 \\cdot 10^{-7}\\\\2.36959392258034 \\cdot 10^{-7}\\end{matrix}\\right]$"
      ],
      "text/plain": [
       "<IPython.core.display.Math object>"
      ]
     },
     "metadata": {},
     "output_type": "display_data"
    },
    {
     "data": {
      "text/latex": [
       "$\\displaystyle L_{MSE} = 0.2819$"
      ],
      "text/plain": [
       "<IPython.core.display.Math object>"
      ]
     },
     "metadata": {},
     "output_type": "display_data"
    }
   ],
   "source": [
    "display(Math(\"X = \" + sy.latex(sy.Matrix(np.round(X, 2)))))\n",
    "display(Math(\"Y = \" + sy.latex(sy.Matrix(Y))))\n",
    "display(Math(\"W^{(1)} = \" + sy.latex(sy.Matrix(W1))))\n",
    "display(Math(\"B = \" + sy.latex(sy.Matrix(B))))\n",
    "display(Math(\"Z^{(1)} = \" + sy.latex(sy.Matrix(np.round(Z1,2)))))\n",
    "display(Math(\"H = \" + sy.latex(sy.Matrix(np.round(H1,2)))))\n",
    "display(Math(\"W^{(2)} = \" + sy.latex(sy.Matrix(W2))))\n",
    "display(Math(\"Z^{(2)} = \" + sy.latex(sy.Matrix(np.round(Z2,2)))))\n",
    "display(Math(\"C = \" + str(np.round(C, 2))))\n",
    "display(Math(\"\\hat{y} = \" + sy.latex(sy.Matrix(np.round(yhat,3)))))\n",
    "display(Math(\"\\hat{y}-Y = \" + sy.latex(sy.Matrix(np.round(yhat-Y,5)))))\n",
    "display(Math(\"L_{contributions} = \" + sy.latex(sy.Matrix(loss))))\n",
    "display(Math(\"L_{MSE} = \" + str(np.round(np.mean(loss), 4))))"
   ]
  },
  {
   "cell_type": "markdown",
   "metadata": {},
   "source": [
    "## Problem 5/6\n",
    "\n",
    "### Try training the network"
   ]
  },
  {
   "cell_type": "code",
   "execution_count": 8,
   "metadata": {},
   "outputs": [],
   "source": [
    "# Initialize network and load data\n",
    "data = pd.read_csv(\"A2_Data_EliWeissler.csv\")\n",
    "X, Y = nn.normalize_data(data)\n",
    "\n",
    "input_size = 3\n",
    "hidden_layers = [4]\n",
    "output_size = 1\n",
    "activation_fns = [nn.sigmoid, nn.sigmoid]\n",
    "loss_fn = nn.loss_MSE\n",
    "random_initialize =  True\n",
    "network = nn.NeuralNetwork(input_size, output_size, hidden_layers,\n",
    "                        activation_fns, loss_fn, random_initialize=random_initialize)"
   ]
  },
  {
   "cell_type": "code",
   "execution_count": 9,
   "metadata": {},
   "outputs": [
    {
     "name": "stdout",
     "output_type": "stream",
     "text": [
      "Epoch 0 (out of 5000) -- Loss: 0.2271\n",
      "Epoch 1000 (out of 5000) -- Loss: 0.0974\n",
      "Epoch 2000 (out of 5000) -- Loss: 0.0303\n",
      "Epoch 3000 (out of 5000) -- Loss: 0.0101\n",
      "Epoch 4000 (out of 5000) -- Loss: 0.0054\n"
     ]
    }
   ],
   "source": [
    "# Train network\n",
    "epochs = 5000\n",
    "lr = 1\n",
    "batch_size = 3\n",
    "loss = network.train(X, Y, X, Y, epochs=epochs, lr=lr, batch_size=batch_size)"
   ]
  },
  {
   "cell_type": "code",
   "execution_count": 10,
   "metadata": {},
   "outputs": [
    {
     "data": {
      "image/png": "[encoded data removed]",
      "text/plain": [
       "<Figure size 432x288 with 2 Axes>"
      ]
     },
     "metadata": {
      "needs_background": "light"
     },
     "output_type": "display_data"
    },
    {
     "data": {
      "image/png": "[encoded data removed]",
      "text/plain": [
       "<Figure size 432x288 with 1 Axes>"
      ]
     },
     "metadata": {
      "needs_background": "light"
     },
     "output_type": "display_data"
    }
   ],
   "source": [
    "# Predict and plot\n",
    "pred = network.feed_forward(X)\n",
    "\n",
    "nn.plot_confusion_matrix(Y, pred)\n",
    "nn.plot_loss(loss, lr)"
   ]
  }
 ],
 "metadata": {
  "kernelspec": {
   "display_name": "cqed",
   "language": "python",
   "name": "python3"
  },
  "language_info": {
   "codemirror_mode": {
    "name": "ipython",
    "version": 3
   },
   "file_extension": ".py",
   "mimetype": "text/x-python",
   "name": "python",
   "nbconvert_exporter": "python",
   "pygments_lexer": "ipython3",
   "version": "3.9.12"
  }
 },
 "nbformat": 4,
 "nbformat_minor": 2
}
