{
 "cells": [
  {
   "cell_type": "code",
   "execution_count": 41,
   "metadata": {},
   "outputs": [],
   "source": [
    "import pandas as pd\n",
    "import numpy as np\n",
    "import matplotlib.pyplot as plt\n",
    "import sympy as sy\n",
    "\n",
    "from IPython.display import display, Math, Latex\n",
    "\n",
    "\n",
    "import log_reg"
   ]
  },
  {
   "cell_type": "markdown",
   "metadata": {},
   "source": [
    "# 1) Create Dataset\n",
    "\n",
    "The dataset is meant to represent whether a day is considered good or not, given temperature, wind, and humitidy."
   ]
  },
  {
   "cell_type": "code",
   "execution_count": 31,
   "metadata": {},
   "outputs": [
    {
     "data": {
      "text/html": [
       "<div>\n",
       "<style scoped>\n",
       "    .dataframe tbody tr th:only-of-type {\n",
       "        vertical-align: middle;\n",
       "    }\n",
       "\n",
       "    .dataframe tbody tr th {\n",
       "        vertical-align: top;\n",
       "    }\n",
       "\n",
       "    .dataframe thead th {\n",
       "        text-align: right;\n",
       "    }\n",
       "</style>\n",
       "<table border=\"1\" class=\"dataframe\">\n",
       "  <thead>\n",
       "    <tr style=\"text-align: right;\">\n",
       "      <th></th>\n",
       "      <th>temp</th>\n",
       "      <th>wind</th>\n",
       "      <th>humidity</th>\n",
       "      <th>LABEL</th>\n",
       "    </tr>\n",
       "  </thead>\n",
       "  <tbody>\n",
       "    <tr>\n",
       "      <th>0</th>\n",
       "      <td>80</td>\n",
       "      <td>2</td>\n",
       "      <td>10</td>\n",
       "      <td>1</td>\n",
       "    </tr>\n",
       "    <tr>\n",
       "      <th>1</th>\n",
       "      <td>100</td>\n",
       "      <td>5</td>\n",
       "      <td>80</td>\n",
       "      <td>0</td>\n",
       "    </tr>\n",
       "    <tr>\n",
       "      <th>2</th>\n",
       "      <td>90</td>\n",
       "      <td>10</td>\n",
       "      <td>100</td>\n",
       "      <td>0</td>\n",
       "    </tr>\n",
       "    <tr>\n",
       "      <th>3</th>\n",
       "      <td>70</td>\n",
       "      <td>1</td>\n",
       "      <td>25</td>\n",
       "      <td>1</td>\n",
       "    </tr>\n",
       "    <tr>\n",
       "      <th>4</th>\n",
       "      <td>75</td>\n",
       "      <td>6</td>\n",
       "      <td>40</td>\n",
       "      <td>1</td>\n",
       "    </tr>\n",
       "    <tr>\n",
       "      <th>5</th>\n",
       "      <td>85</td>\n",
       "      <td>15</td>\n",
       "      <td>70</td>\n",
       "      <td>0</td>\n",
       "    </tr>\n",
       "    <tr>\n",
       "      <th>6</th>\n",
       "      <td>80</td>\n",
       "      <td>10</td>\n",
       "      <td>85</td>\n",
       "      <td>0</td>\n",
       "    </tr>\n",
       "  </tbody>\n",
       "</table>\n",
       "</div>"
      ],
      "text/plain": [
       "   temp  wind  humidity  LABEL\n",
       "0    80     2        10      1\n",
       "1   100     5        80      0\n",
       "2    90    10       100      0\n",
       "3    70     1        25      1\n",
       "4    75     6        40      1\n",
       "5    85    15        70      0\n",
       "6    80    10        85      0"
      ]
     },
     "execution_count": 31,
     "metadata": {},
     "output_type": "execute_result"
    }
   ],
   "source": [
    "data = pd.read_csv(\"A1_Data_EliWeissler.csv\")\n",
    "data"
   ]
  },
  {
   "cell_type": "markdown",
   "metadata": {},
   "source": [
    "Normalizing the data to be between 0-1, we get (rounding to two decimal places):"
   ]
  },
  {
   "cell_type": "code",
   "execution_count": 49,
   "metadata": {},
   "outputs": [
    {
     "data": {
      "text/latex": [
       "$\\displaystyle X = \\left[\\begin{matrix}0.33 & 0.07 & 0\\\\1.0 & 0.29 & 0.78\\\\0.67 & 0.64 & 1.0\\\\0 & 0 & 0.17\\\\0.17 & 0.36 & 0.33\\\\0.5 & 1.0 & 0.67\\\\0.33 & 0.64 & 0.83\\end{matrix}\\right]\\quad Y = \\left[\\begin{matrix}1\\\\0\\\\0\\\\1\\\\1\\\\0\\\\0\\end{matrix}\\right]$"
      ],
      "text/plain": [
       "<IPython.core.display.Math object>"
      ]
     },
     "metadata": {},
     "output_type": "display_data"
    }
   ],
   "source": [
    "X, Y = log_reg.normalize_data(data)\n",
    "display(Math(\"X = \" + sy.latex(sy.Matrix(np.round(X, 2))) +\\\n",
    "             \"\\quad Y = \" + sy.latex(sy.Matrix(np.round(Y, 2)))))"
   ]
  },
  {
   "cell_type": "markdown",
   "metadata": {},
   "source": [
    "# 2) Linear Equations\n",
    "\n",
    "For this problem, consider a linear equation with $n$ variables. This gives us $w \\in \\R^n$, $x \\in \\R^n$, $b \\in \\R^1$, and $z \\in \\R^1$.\n",
    "\n",
    "### a) \n",
    "\n",
    "In general, we will have:\n",
    "\n",
    "$$\n",
    "z = \\sum_{i=1}^n w_i x_i + b\n",
    "$$\n",
    "\n",
    "### b) \n",
    "\n",
    "In vector form, the sum is equivalent to a dot product between $c$ and $x$:\n",
    "\n",
    "$$\n",
    "z = w^Tx + b\n",
    "$$\n",
    "\n",
    "### c) \n",
    "\n",
    "The $w$ values represent weights for each varible. This can be thought of as the slope of the hyperplane in $R^n$ with respect to said variable (i.e., $\\partial_{x_i}z = w_i$)\n",
    "\n",
    "### d)\n",
    "\n",
    "The b value represents a bias, or offset. This is the value of z when all variables are 0 (i.e., y intercept in the 1-d case of $ y = mx + b$)."
   ]
  },
  {
   "cell_type": "markdown",
   "metadata": {},
   "source": [
    "# 3) Plot Data"
   ]
  },
  {
   "cell_type": "code",
   "execution_count": 27,
   "metadata": {},
   "outputs": [
    {
     "data": {
      "image/png": "[encoded data removed]",
      "text/plain": [
       "<Figure size 432x288 with 1 Axes>"
      ]
     },
     "metadata": {
      "needs_background": "light"
     },
     "output_type": "display_data"
    }
   ],
   "source": [
    "fig = plt.figure()\n",
    "ax = plt.axes(projection='3d')\n",
    "\n",
    "# plotting\n",
    "colors = [\"k\", \"r\"]\n",
    "for is_good in [0,1]:\n",
    "    data_subset = data[data[\"good_day\"] == is_good]\n",
    "    ax.scatter(data_subset[\"temp\"], data_subset[\"wind\"], data_subset[\"humidity\"],\n",
    "               s=50, c=colors[is_good], label=\"Good Day\" if is_good else \"Bad Day\")\n",
    "ax.set_title('Dataset')\n",
    "ax.set_xlabel(\"temp\")\n",
    "ax.set_ylabel(\"wind\")\n",
    "ax.set_zlabel(\"humidity\")\n",
    "ax.legend()\n",
    "plt.show()"
   ]
  },
  {
   "cell_type": "markdown",
   "metadata": {},
   "source": [
    "# 4) Data Clustered? \n",
    "\n",
    "The data is easily linearly separable with respect to the labeling"
   ]
  },
  {
   "cell_type": "markdown",
   "metadata": {},
   "source": [
    "# 5) Sigmoid\n",
    "\n",
    "### a)\n",
    "\n",
    "The sigmoid function is\n",
    "\n",
    "$$\n",
    "\\sigma(x) = \\frac{1}{1 + e^{-x}}\n",
    "$$\n",
    "\n",
    "or\n",
    "\n",
    "$$\n",
    "\\sigma(x) = \\frac{e^{x}}{e^{x} + 1}\n",
    "$$ \n",
    "\n",
    "### b)\n",
    "To show that the two forms are equal, multiply the first form by $e^{x}/{e^x}$:\n",
    "\n",
    "$$\n",
    "\\sigma(x) = \\frac{1}{1 + e^{-x}} = \\frac{1}{1 + e^{-x}}\\cdot\\frac{e^x}{e^x} = \\frac{e^{x}}{e^{x} + 1}\n",
    "$$\n",
    "\n",
    "### c)"
   ]
  },
  {
   "cell_type": "code",
   "execution_count": 30,
   "metadata": {},
   "outputs": [
    {
     "data": {
      "image/png": "[encoded data removed]",
      "text/plain": [
       "<Figure size 432x288 with 1 Axes>"
      ]
     },
     "metadata": {
      "needs_background": "light"
     },
     "output_type": "display_data"
    }
   ],
   "source": [
    "def sigmoid(x):\n",
    "    return 1/(1 + np.exp(-x))\n",
    "x = np.arange(-100, 101)\n",
    "plt.plot(x, sigmoid(x))\n",
    "plt.xlabel(\"x\")\n",
    "plt.ylabel(r\"$\\sigma(x)$\")\n",
    "plt.title(\"Sigmoid Function\");"
   ]
  },
  {
   "cell_type": "markdown",
   "metadata": {},
   "source": [
    "### d)\n",
    "\n",
    "Using the quotient rule\n",
    "\n",
    "$$\n",
    "\\frac{d}{dx}\\frac{f(x)}{g(x)} = \\frac{f'(x)g(x) - f(x)g'(x)}{g(x)^2}\n",
    "$$\n",
    "\n",
    "we can see that:\n",
    "$$\n",
    "\\begin{align*}\n",
    "\\frac{d}{dx}\\sigma(x) &= \\frac{d}{dx}[\\frac{1}{1 + e^{-x}}] = \\frac{0\\cdot(1+e^{-x}) - 1\\cdot(-e^{-x})}{(1+e^{-x})^2} \\\\\n",
    "&= \\frac{e^{-x}}{(1+e^{-x})^2} \\\\\n",
    "&= \\frac{1}{1+e^{-x}}\\cdot\\frac{e^{-x}}{1+e^{-x}} \\\\\n",
    "&= \\frac{1}{1+e^{-x}}(\\frac{1 + e^{-x}}{1 + e^{-x}} - \\frac{1}{1+e^{-x}}) \\\\\n",
    "&= \\boxed{\\sigma(x)(1-\\sigma(x))}\n",
    "\\end{align*}\n",
    "$$"
   ]
  },
  {
   "cell_type": "markdown",
   "metadata": {},
   "source": [
    "6) "
   ]
  },
  {
   "cell_type": "code",
   "execution_count": null,
   "metadata": {},
   "outputs": [],
   "source": []
  }
 ],
 "metadata": {
  "kernelspec": {
   "display_name": "base",
   "language": "python",
   "name": "python3"
  },
  "language_info": {
   "codemirror_mode": {
    "name": "ipython",
    "version": 3
   },
   "file_extension": ".py",
   "mimetype": "text/x-python",
   "name": "python",
   "nbconvert_exporter": "python",
   "pygments_lexer": "ipython3",
   "version": "3.9.12"
  },
  "orig_nbformat": 4
 },
 "nbformat": 4,
 "nbformat_minor": 2
}
