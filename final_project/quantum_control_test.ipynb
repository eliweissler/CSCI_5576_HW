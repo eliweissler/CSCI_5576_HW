{
 "cells": [
  {
   "cell_type": "markdown",
   "metadata": {},
   "source": [
    "# Import and Define the Control Problem"
   ]
  },
  {
   "cell_type": "code",
   "execution_count": 1,
   "metadata": {},
   "outputs": [
    {
     "name": "stdout",
     "output_type": "stream",
     "text": [
      "cuda:0\n"
     ]
    }
   ],
   "source": [
    "from collections import defaultdict\n",
    "from typing import Optional\n",
    "\n",
    "import numpy as np\n",
    "import torch\n",
    "import tqdm\n",
    "from tensordict.nn import TensorDictModule\n",
    "from tensordict.tensordict import TensorDict, TensorDictBase\n",
    "from torch import nn\n",
    "\n",
    "from torchrl.data import BoundedTensorSpec, CompositeSpec, UnboundedContinuousTensorSpec\n",
    "from torchrl.envs import (\n",
    "    CatTensors,\n",
    "    EnvBase,\n",
    "    Transform,\n",
    "    TransformedEnv,\n",
    "    UnsqueezeTransform,\n",
    ")\n",
    "from torchrl.envs.transforms.transforms import _apply_to_composite\n",
    "from torchrl.envs.utils import check_env_specs, step_mdp\n",
    "\n",
    "device = \"cpu\" if not torch.cuda.is_available() else \"cuda:0\"\n",
    "print(device)\n",
    "\n",
    "device = \"cpu\"\n",
    "\n",
    "complex_type = torch.complex64\n",
    "PSI_0 = np.array([1, 0]).reshape((2,1))\n",
    "PSI_0_tensor = torch.tensor(PSI_0, dtype=complex_type).to(device)\n",
    "PSI_F = np.array([0, 1]).reshape((2,1))\n",
    "PSI_F_tensor = torch.tensor(PSI_F, dtype=complex_type).to(device)\n",
    "\n",
    "H0 = np.array([[1,  0],\n",
    "               [0, -1]])\n",
    "H0_tensor = torch.tensor(H0, dtype=complex_type).to(device)\n",
    "H1 = np.array([[0,  1],\n",
    "               [1,  0]])\n",
    "H1_tensor = torch.tensor(H1, dtype=complex_type).to(device)"
   ]
  },
  {
   "cell_type": "markdown",
   "metadata": {},
   "source": [
    "# Define the Various Things We Need for TorchRL"
   ]
  },
  {
   "cell_type": "markdown",
   "metadata": {},
   "source": [
    "## Step"
   ]
  },
  {
   "cell_type": "code",
   "execution_count": 2,
   "metadata": {},
   "outputs": [],
   "source": [
    "# Step function advances along the environment\n",
    "def _step(tensordict):\n",
    "\n",
    "    # print(\"------------------\")\n",
    "    # print(\"in step\")\n",
    "\n",
    "    # Current quantum state and control value\n",
    "    psi_real, psi_imag, control = tensordict[\"psi_real\"], tensordict[\"psi_imag\"], tensordict[\"action\"].squeeze(-1)\n",
    "    # print(\"psi_re\", psi_real)\n",
    "    # print(\"psi_im\", psi_imag)\n",
    "    # print(\"control\", control)\n",
    "    psi = psi_real + 1.0j*psi_imag\n",
    "\n",
    "    # Timestep\n",
    "    dt = tensordict[\"params\", \"dt\"]\n",
    "\n",
    "    # Cost Function -- Fidelity with Final State\n",
    "    # print(\"psi\", psi)\n",
    "    # print(\"PSI_F_tensor\", PSI_F_tensor)\n",
    "    costs = 1 - torch.pow(torch.abs(torch.transpose(torch.conj_physical(PSI_F_tensor), 0, 1)@psi), 2)\n",
    "    # Add penalty for large control\n",
    "    max_val = 0.1\n",
    "    multiplier = 1\n",
    "    costs += multiplier*torch.clamp(torch.abs(control) - max_val, min=0).reshape(costs.shape)\n",
    "\n",
    "    # Propagate along the state\n",
    "    # print(\"H0\", H0_tensor)\n",
    "    # print(\"H1\", H1_tensor)\n",
    "    # print(\"control.shape\", control.shape)\n",
    "    # print(\"tensordict shape\", tensordict.shape)\n",
    "    if len(control.shape) > 0:\n",
    "        H_dim = H1_tensor.size(dim=0)\n",
    "        c_dim = control.size(dim=0)\n",
    "        control_repeat = control.repeat(1,H_dim**2,1).T.reshape(c_dim, H_dim, H_dim)\n",
    "        dt_repeat = dt.repeat(1,H_dim**2,1).T.reshape(c_dim, H_dim, H_dim)\n",
    "        H0_repeat = H0_tensor.repeat(c_dim,1,1)\n",
    "        H1_repeat = H1_tensor.repeat(c_dim,1,1)\n",
    "        # print(control_repeat.shape, H0_repeat.shape, H1_repeat.shape, dt.shape)\n",
    "        U = torch.linalg.matrix_exp(-1.0j*dt_repeat*(H0_repeat + control_repeat*H1_repeat))\n",
    "    else:\n",
    "        U = torch.linalg.matrix_exp(-1.0j*dt*(H0_tensor + control*H1_tensor))\n",
    "\n",
    "    # print(\"U\", U)\n",
    "    new_psi = U@psi\n",
    "\n",
    "    reward = -costs.view(*tensordict.shape, 1)\n",
    "    done = torch.zeros_like(reward, dtype=torch.bool)\n",
    "    out = TensorDict(\n",
    "        {\n",
    "            \"psi_real\": torch.real(new_psi),\n",
    "            \"psi_imag\": torch.imag(new_psi),\n",
    "            \"params\": tensordict[\"params\"],\n",
    "            \"reward\": reward,\n",
    "            \"done\": done,\n",
    "        },\n",
    "        tensordict.shape,\n",
    "    )\n",
    "    return out"
   ]
  },
  {
   "cell_type": "markdown",
   "metadata": {},
   "source": [
    "## Reset"
   ]
  },
  {
   "cell_type": "code",
   "execution_count": 3,
   "metadata": {},
   "outputs": [],
   "source": [
    "# Reset function resets a run to the original starting state\n",
    "def _reset(self, tensordict):\n",
    "\n",
    "    # print(\"-----------------------\")\n",
    "    # print(\"in reset\")\n",
    "\n",
    "    psi_real = torch.real(PSI_0_tensor)\n",
    "    psi_imag = torch.imag(PSI_0_tensor)\n",
    "\n",
    "    if tensordict is None or tensordict.is_empty():\n",
    "        # if no tensordict is passed, we generate a single set of hyperparameters\n",
    "        # Otherwise, we assume that the input tensordict contains all the relevant\n",
    "        # parameters to get started.\n",
    "        tensordict = self.gen_params(batch_size=self.batch_size)\n",
    "    else:\n",
    "        psi_real = psi_real.repeat(tensordict.size(dim=0), 1, 1)\n",
    "        psi_imag = psi_imag.repeat(tensordict.size(dim=0), 1, 1)\n",
    "\n",
    "\n",
    "    # print(\"batch_dims\", self.batch_dims)\n",
    "        \n",
    "    # print(\"psi_real - \", self.batch_dims, psi_real.shape)\n",
    "\n",
    "    out = TensorDict(\n",
    "        {\n",
    "            \"psi_real\": psi_real,\n",
    "            \"psi_imag\": psi_imag,\n",
    "            \"params\": tensordict[\"params\"],\n",
    "        },\n",
    "        batch_size=tensordict.shape,\n",
    "    )\n",
    "\n",
    "    # print(\"out psi_real\", out[\"psi_real\"])\n",
    "    return out"
   ]
  },
  {
   "cell_type": "markdown",
   "metadata": {},
   "source": [
    "## Make Spec"
   ]
  },
  {
   "cell_type": "code",
   "execution_count": 4,
   "metadata": {},
   "outputs": [],
   "source": [
    "# Specifies the bounds of the environment\n",
    "def _make_spec(self, td_params):\n",
    "\n",
    "    # Under the hood, this will populate self.output_spec[\"observation\"]\n",
    "    self.observation_spec = CompositeSpec(\n",
    "        psi_real=BoundedTensorSpec(\n",
    "            low=-1,\n",
    "            high=1,\n",
    "            shape=PSI_0.shape,\n",
    "            dtype=torch.float32)\n",
    "        ,\n",
    "        psi_imag=BoundedTensorSpec(\n",
    "            low=-1,\n",
    "            high=1,\n",
    "            shape=PSI_0.shape,\n",
    "            dtype=torch.float32)\n",
    "        ,\n",
    "        # we need to add the \"params\" to the observation specs, as we want\n",
    "        # to pass it at each step during a rollout\n",
    "        # params=make_composite_from_td(td_params[\"params\"]),\n",
    "        params=make_composite_from_td(td_params[\"params\"]),\n",
    "        shape=(),\n",
    "    )\n",
    "    \n",
    "    # since the environment is stateless, we expect the previous output as input.\n",
    "    # For this, EnvBase expects some state_spec to be available\n",
    "    self.state_spec = self.observation_spec.clone()\n",
    "    # action-spec will be automatically wrapped in input_spec when\n",
    "    # `self.action_spec = spec` will be called supported\n",
    "    self.action_spec = BoundedTensorSpec(\n",
    "        low=-1,\n",
    "        high=1,\n",
    "        shape=(1,),\n",
    "        dtype=torch.float32,\n",
    "    )\n",
    "    self.reward_spec = UnboundedContinuousTensorSpec(shape=(*td_params.shape, 1))\n",
    "\n",
    "\n",
    "def make_composite_from_td(td):\n",
    "    # custom funtion to convert a tensordict in a similar spec structure\n",
    "    # of unbounded values.\n",
    "    composite = CompositeSpec(\n",
    "        {\n",
    "            key: make_composite_from_td(tensor)\n",
    "            if isinstance(tensor, TensorDictBase)\n",
    "            else UnboundedContinuousTensorSpec(\n",
    "                dtype=tensor.dtype, device=tensor.device, shape=tensor.shape\n",
    "            )\n",
    "            for key, tensor in td.items()\n",
    "        },\n",
    "        shape=td.shape,\n",
    "    )\n",
    "    return composite"
   ]
  },
  {
   "cell_type": "markdown",
   "metadata": {},
   "source": [
    "## Set Seed"
   ]
  },
  {
   "cell_type": "code",
   "execution_count": 5,
   "metadata": {},
   "outputs": [],
   "source": [
    "def _set_seed(self, seed: Optional[int]):\n",
    "    rng = torch.manual_seed(seed)\n",
    "    self.rng = rng"
   ]
  },
  {
   "cell_type": "markdown",
   "metadata": {},
   "source": [
    "## Gen Params"
   ]
  },
  {
   "cell_type": "code",
   "execution_count": 6,
   "metadata": {},
   "outputs": [],
   "source": [
    "def gen_params(dt=0.01, batch_size=None) -> TensorDictBase:\n",
    "    \"\"\"Returns a tensordict containing the physical parameters such as timestep and control stuff.\"\"\"\n",
    "    if batch_size is None:\n",
    "        batch_size = []\n",
    "    td = TensorDict(\n",
    "        {\n",
    "            \"params\": TensorDict(\n",
    "                {\n",
    "                    \"dt\": dt\n",
    "                },\n",
    "                [],\n",
    "            )\n",
    "        },\n",
    "        [],\n",
    "    )\n",
    "    if batch_size:\n",
    "        td = td.expand(batch_size).contiguous()\n",
    "    return td"
   ]
  },
  {
   "cell_type": "markdown",
   "metadata": {},
   "source": [
    "## Env"
   ]
  },
  {
   "cell_type": "code",
   "execution_count": 7,
   "metadata": {},
   "outputs": [],
   "source": [
    "class QuantumEnv(EnvBase):\n",
    "    metadata = {\n",
    "        \"render_modes\": [\"human\", \"rgb_array\"],\n",
    "        \"render_fps\": 30,\n",
    "    }\n",
    "    batch_locked = False\n",
    "\n",
    "    def __init__(self, td_params=None, seed=None, device=\"cpu\"):\n",
    "        if td_params is None:\n",
    "            td_params = self.gen_params()\n",
    "\n",
    "        super().__init__(device=device, batch_size=[])\n",
    "        self._make_spec(td_params)\n",
    "        if seed is None:\n",
    "            seed = torch.empty((), dtype=torch.int64).random_().item()\n",
    "        self.set_seed(seed)\n",
    "\n",
    "    # Helpers: _make_step and gen_params\n",
    "    gen_params = staticmethod(gen_params)\n",
    "    _make_spec = _make_spec\n",
    "\n",
    "    # Mandatory methods: _step, _reset and _set_seed\n",
    "    _reset = _reset\n",
    "    _step = staticmethod(_step)\n",
    "    _set_seed = _set_seed"
   ]
  },
  {
   "cell_type": "code",
   "execution_count": 8,
   "metadata": {},
   "outputs": [
    {
     "name": "stdout",
     "output_type": "stream",
     "text": [
      "check_env_specs succeeded!\n"
     ]
    }
   ],
   "source": [
    "env = QuantumEnv()\n",
    "check_env_specs(env)"
   ]
  },
  {
   "cell_type": "code",
   "execution_count": 9,
   "metadata": {},
   "outputs": [
    {
     "name": "stdout",
     "output_type": "stream",
     "text": [
      "observation_spec: CompositeSpec(\n",
      "    psi_real: BoundedTensorSpec(\n",
      "        shape=torch.Size([2, 1]),\n",
      "        space=ContinuousBox(\n",
      "            low=Tensor(shape=torch.Size([2, 1]), device=cpu, dtype=torch.float32, contiguous=True),\n",
      "            high=Tensor(shape=torch.Size([2, 1]), device=cpu, dtype=torch.float32, contiguous=True)),\n",
      "        device=cpu,\n",
      "        dtype=torch.float32,\n",
      "        domain=continuous),\n",
      "    psi_imag: BoundedTensorSpec(\n",
      "        shape=torch.Size([2, 1]),\n",
      "        space=ContinuousBox(\n",
      "            low=Tensor(shape=torch.Size([2, 1]), device=cpu, dtype=torch.float32, contiguous=True),\n",
      "            high=Tensor(shape=torch.Size([2, 1]), device=cpu, dtype=torch.float32, contiguous=True)),\n",
      "        device=cpu,\n",
      "        dtype=torch.float32,\n",
      "        domain=continuous),\n",
      "    params: CompositeSpec(\n",
      "        dt: UnboundedContinuousTensorSpec(\n",
      "            shape=torch.Size([]),\n",
      "            space=None,\n",
      "            device=cpu,\n",
      "            dtype=torch.float32,\n",
      "            domain=continuous), device=cpu, shape=torch.Size([])), device=cpu, shape=torch.Size([]))\n",
      "state_spec: CompositeSpec(\n",
      "    psi_real: BoundedTensorSpec(\n",
      "        shape=torch.Size([2, 1]),\n",
      "        space=ContinuousBox(\n",
      "            low=Tensor(shape=torch.Size([2, 1]), device=cpu, dtype=torch.float32, contiguous=True),\n",
      "            high=Tensor(shape=torch.Size([2, 1]), device=cpu, dtype=torch.float32, contiguous=True)),\n",
      "        device=cpu,\n",
      "        dtype=torch.float32,\n",
      "        domain=continuous),\n",
      "    psi_imag: BoundedTensorSpec(\n",
      "        shape=torch.Size([2, 1]),\n",
      "        space=ContinuousBox(\n",
      "            low=Tensor(shape=torch.Size([2, 1]), device=cpu, dtype=torch.float32, contiguous=True),\n",
      "            high=Tensor(shape=torch.Size([2, 1]), device=cpu, dtype=torch.float32, contiguous=True)),\n",
      "        device=cpu,\n",
      "        dtype=torch.float32,\n",
      "        domain=continuous),\n",
      "    params: CompositeSpec(\n",
      "        dt: UnboundedContinuousTensorSpec(\n",
      "            shape=torch.Size([]),\n",
      "            space=None,\n",
      "            device=cpu,\n",
      "            dtype=torch.float32,\n",
      "            domain=continuous), device=cpu, shape=torch.Size([])), device=cpu, shape=torch.Size([]))\n",
      "reward_spec: UnboundedContinuousTensorSpec(\n",
      "    shape=torch.Size([1]),\n",
      "    space=ContinuousBox(\n",
      "        low=Tensor(shape=torch.Size([1]), device=cpu, dtype=torch.float32, contiguous=True),\n",
      "        high=Tensor(shape=torch.Size([1]), device=cpu, dtype=torch.float32, contiguous=True)),\n",
      "    device=cpu,\n",
      "    dtype=torch.float32,\n",
      "    domain=continuous)\n"
     ]
    }
   ],
   "source": [
    "print(\"observation_spec:\", env.observation_spec)\n",
    "print(\"state_spec:\", env.state_spec)\n",
    "print(\"reward_spec:\", env.reward_spec)"
   ]
  },
  {
   "cell_type": "code",
   "execution_count": 10,
   "metadata": {},
   "outputs": [
    {
     "name": "stdout",
     "output_type": "stream",
     "text": [
      "reset tensordict TensorDict(\n",
      "    fields={\n",
      "        done: Tensor(shape=torch.Size([1]), device=cpu, dtype=torch.bool, is_shared=False),\n",
      "        params: TensorDict(\n",
      "            fields={\n",
      "                dt: Tensor(shape=torch.Size([]), device=cpu, dtype=torch.float32, is_shared=False)},\n",
      "            batch_size=torch.Size([]),\n",
      "            device=None,\n",
      "            is_shared=False),\n",
      "        psi_imag: Tensor(shape=torch.Size([2, 1]), device=cpu, dtype=torch.float32, is_shared=False),\n",
      "        psi_real: Tensor(shape=torch.Size([2, 1]), device=cpu, dtype=torch.float32, is_shared=False),\n",
      "        terminated: Tensor(shape=torch.Size([1]), device=cpu, dtype=torch.bool, is_shared=False)},\n",
      "    batch_size=torch.Size([]),\n",
      "    device=None,\n",
      "    is_shared=False)\n"
     ]
    }
   ],
   "source": [
    "td = env.reset()\n",
    "print(\"reset tensordict\", td)"
   ]
  },
  {
   "cell_type": "code",
   "execution_count": 11,
   "metadata": {},
   "outputs": [
    {
     "name": "stdout",
     "output_type": "stream",
     "text": [
      "random step tensordict TensorDict(\n",
      "    fields={\n",
      "        action: Tensor(shape=torch.Size([1]), device=cpu, dtype=torch.float32, is_shared=False),\n",
      "        done: Tensor(shape=torch.Size([1]), device=cpu, dtype=torch.bool, is_shared=False),\n",
      "        next: TensorDict(\n",
      "            fields={\n",
      "                done: Tensor(shape=torch.Size([1]), device=cpu, dtype=torch.bool, is_shared=False),\n",
      "                params: TensorDict(\n",
      "                    fields={\n",
      "                        dt: Tensor(shape=torch.Size([]), device=cpu, dtype=torch.float32, is_shared=False)},\n",
      "                    batch_size=torch.Size([]),\n",
      "                    device=None,\n",
      "                    is_shared=False),\n",
      "                psi_imag: Tensor(shape=torch.Size([2, 1]), device=cpu, dtype=torch.float32, is_shared=False),\n",
      "                psi_real: Tensor(shape=torch.Size([2, 1]), device=cpu, dtype=torch.float32, is_shared=False),\n",
      "                reward: Tensor(shape=torch.Size([1]), device=cpu, dtype=torch.float32, is_shared=False),\n",
      "                terminated: Tensor(shape=torch.Size([1]), device=cpu, dtype=torch.bool, is_shared=False)},\n",
      "            batch_size=torch.Size([]),\n",
      "            device=None,\n",
      "            is_shared=False),\n",
      "        params: TensorDict(\n",
      "            fields={\n",
      "                dt: Tensor(shape=torch.Size([]), device=cpu, dtype=torch.float32, is_shared=False)},\n",
      "            batch_size=torch.Size([]),\n",
      "            device=None,\n",
      "            is_shared=False),\n",
      "        psi_imag: Tensor(shape=torch.Size([2, 1]), device=cpu, dtype=torch.float32, is_shared=False),\n",
      "        psi_real: Tensor(shape=torch.Size([2, 1]), device=cpu, dtype=torch.float32, is_shared=False),\n",
      "        terminated: Tensor(shape=torch.Size([1]), device=cpu, dtype=torch.bool, is_shared=False)},\n",
      "    batch_size=torch.Size([]),\n",
      "    device=None,\n",
      "    is_shared=False)\n"
     ]
    }
   ],
   "source": [
    "td = env.rand_step(td)\n",
    "print(\"random step tensordict\", td)"
   ]
  },
  {
   "cell_type": "markdown",
   "metadata": {},
   "source": [
    "## Maybe do a Transformation?"
   ]
  },
  {
   "cell_type": "code",
   "execution_count": null,
   "metadata": {},
   "outputs": [],
   "source": []
  },
  {
   "cell_type": "markdown",
   "metadata": {},
   "source": [
    "# Test the Rollout"
   ]
  },
  {
   "cell_type": "code",
   "execution_count": 12,
   "metadata": {},
   "outputs": [
    {
     "name": "stdout",
     "output_type": "stream",
     "text": [
      "data from rollout: TensorDict(\n",
      "    fields={\n",
      "        action: Tensor(shape=torch.Size([3, 1]), device=cpu, dtype=torch.float32, is_shared=False),\n",
      "        done: Tensor(shape=torch.Size([3, 1]), device=cpu, dtype=torch.bool, is_shared=False),\n",
      "        next: TensorDict(\n",
      "            fields={\n",
      "                done: Tensor(shape=torch.Size([3, 1]), device=cpu, dtype=torch.bool, is_shared=False),\n",
      "                params: TensorDict(\n",
      "                    fields={\n",
      "                        dt: Tensor(shape=torch.Size([3]), device=cpu, dtype=torch.float32, is_shared=False)},\n",
      "                    batch_size=torch.Size([3]),\n",
      "                    device=None,\n",
      "                    is_shared=False),\n",
      "                psi_imag: Tensor(shape=torch.Size([3, 2, 1]), device=cpu, dtype=torch.float32, is_shared=False),\n",
      "                psi_real: Tensor(shape=torch.Size([3, 2, 1]), device=cpu, dtype=torch.float32, is_shared=False),\n",
      "                reward: Tensor(shape=torch.Size([3, 1]), device=cpu, dtype=torch.float32, is_shared=False),\n",
      "                terminated: Tensor(shape=torch.Size([3, 1]), device=cpu, dtype=torch.bool, is_shared=False)},\n",
      "            batch_size=torch.Size([3]),\n",
      "            device=None,\n",
      "            is_shared=False),\n",
      "        params: TensorDict(\n",
      "            fields={\n",
      "                dt: Tensor(shape=torch.Size([3]), device=cpu, dtype=torch.float32, is_shared=False)},\n",
      "            batch_size=torch.Size([3]),\n",
      "            device=None,\n",
      "            is_shared=False),\n",
      "        psi_imag: Tensor(shape=torch.Size([3, 2, 1]), device=cpu, dtype=torch.float32, is_shared=False),\n",
      "        psi_real: Tensor(shape=torch.Size([3, 2, 1]), device=cpu, dtype=torch.float32, is_shared=False),\n",
      "        terminated: Tensor(shape=torch.Size([3, 1]), device=cpu, dtype=torch.bool, is_shared=False)},\n",
      "    batch_size=torch.Size([3]),\n",
      "    device=None,\n",
      "    is_shared=False)\n"
     ]
    }
   ],
   "source": [
    "def simple_rollout(steps=100):\n",
    "    # preallocate:\n",
    "    data = TensorDict({}, [steps])\n",
    "    # reset\n",
    "    _data = env.reset()\n",
    "    for i in range(steps):\n",
    "        _data[\"action\"] = env.action_spec.rand()\n",
    "        _data = env.step(_data)\n",
    "        data[i] = _data\n",
    "        _data = step_mdp(_data, keep_other=True)\n",
    "    return data\n",
    "\n",
    "\n",
    "print(\"data from rollout:\", simple_rollout(3))"
   ]
  },
  {
   "cell_type": "code",
   "execution_count": null,
   "metadata": {},
   "outputs": [],
   "source": []
  },
  {
   "cell_type": "markdown",
   "metadata": {},
   "source": [
    "## Batch"
   ]
  },
  {
   "cell_type": "code",
   "execution_count": 13,
   "metadata": {},
   "outputs": [
    {
     "name": "stdout",
     "output_type": "stream",
     "text": [
      "reset (batch size of 10) TensorDict(\n",
      "    fields={\n",
      "        done: Tensor(shape=torch.Size([10, 1]), device=cpu, dtype=torch.bool, is_shared=False),\n",
      "        params: TensorDict(\n",
      "            fields={\n",
      "                dt: Tensor(shape=torch.Size([10]), device=cpu, dtype=torch.float32, is_shared=False)},\n",
      "            batch_size=torch.Size([10]),\n",
      "            device=None,\n",
      "            is_shared=False),\n",
      "        psi_imag: Tensor(shape=torch.Size([10, 2, 1]), device=cpu, dtype=torch.float32, is_shared=False),\n",
      "        psi_real: Tensor(shape=torch.Size([10, 2, 1]), device=cpu, dtype=torch.float32, is_shared=False),\n",
      "        terminated: Tensor(shape=torch.Size([10, 1]), device=cpu, dtype=torch.bool, is_shared=False)},\n",
      "    batch_size=torch.Size([10]),\n",
      "    device=None,\n",
      "    is_shared=False)\n",
      "rand step (batch size of 10) TensorDict(\n",
      "    fields={\n",
      "        action: Tensor(shape=torch.Size([10, 1]), device=cpu, dtype=torch.float32, is_shared=False),\n",
      "        done: Tensor(shape=torch.Size([10, 1]), device=cpu, dtype=torch.bool, is_shared=False),\n",
      "        next: TensorDict(\n",
      "            fields={\n",
      "                done: Tensor(shape=torch.Size([10, 1]), device=cpu, dtype=torch.bool, is_shared=False),\n",
      "                params: TensorDict(\n",
      "                    fields={\n",
      "                        dt: Tensor(shape=torch.Size([10]), device=cpu, dtype=torch.float32, is_shared=False)},\n",
      "                    batch_size=torch.Size([10]),\n",
      "                    device=None,\n",
      "                    is_shared=False),\n",
      "                psi_imag: Tensor(shape=torch.Size([10, 2, 1]), device=cpu, dtype=torch.float32, is_shared=False),\n",
      "                psi_real: Tensor(shape=torch.Size([10, 2, 1]), device=cpu, dtype=torch.float32, is_shared=False),\n",
      "                reward: Tensor(shape=torch.Size([10, 1]), device=cpu, dtype=torch.float32, is_shared=False),\n",
      "                terminated: Tensor(shape=torch.Size([10, 1]), device=cpu, dtype=torch.bool, is_shared=False)},\n",
      "            batch_size=torch.Size([10]),\n",
      "            device=None,\n",
      "            is_shared=False),\n",
      "        params: TensorDict(\n",
      "            fields={\n",
      "                dt: Tensor(shape=torch.Size([10]), device=cpu, dtype=torch.float32, is_shared=False)},\n",
      "            batch_size=torch.Size([10]),\n",
      "            device=None,\n",
      "            is_shared=False),\n",
      "        psi_imag: Tensor(shape=torch.Size([10, 2, 1]), device=cpu, dtype=torch.float32, is_shared=False),\n",
      "        psi_real: Tensor(shape=torch.Size([10, 2, 1]), device=cpu, dtype=torch.float32, is_shared=False),\n",
      "        terminated: Tensor(shape=torch.Size([10, 1]), device=cpu, dtype=torch.bool, is_shared=False)},\n",
      "    batch_size=torch.Size([10]),\n",
      "    device=None,\n",
      "    is_shared=False)\n"
     ]
    },
    {
     "name": "stderr",
     "output_type": "stream",
     "text": [
      "/tmp/ipykernel_32507/3886983110.py:34: UserWarning: The use of `x.T` on tensors of dimension other than 2 to reverse their shape is deprecated and it will throw an error in a future release. Consider `x.mT` to transpose batches of matrices or `x.permute(*torch.arange(x.ndim - 1, -1, -1))` to reverse the dimensions of a tensor. (Triggered internally at /opt/conda/conda-bld/pytorch_1699449181081/work/aten/src/ATen/native/TensorShape.cpp:3614.)\n",
      "  control_repeat = control.repeat(1,H_dim**2,1).T.reshape(c_dim, H_dim, H_dim)\n"
     ]
    }
   ],
   "source": [
    "batch_size = 10  # number of environments to be executed in batch\n",
    "td = env.reset(env.gen_params(batch_size=[batch_size]))\n",
    "print(\"reset (batch size of 10)\", td)\n",
    "td = env.rand_step(td)\n",
    "print(\"rand step (batch size of 10)\", td)"
   ]
  },
  {
   "cell_type": "code",
   "execution_count": 14,
   "metadata": {},
   "outputs": [
    {
     "name": "stdout",
     "output_type": "stream",
     "text": [
      "rollout of len 3 (batch size of 10): TensorDict(\n",
      "    fields={\n",
      "        action: Tensor(shape=torch.Size([10, 3, 1]), device=cpu, dtype=torch.float32, is_shared=False),\n",
      "        done: Tensor(shape=torch.Size([10, 3, 1]), device=cpu, dtype=torch.bool, is_shared=False),\n",
      "        next: TensorDict(\n",
      "            fields={\n",
      "                done: Tensor(shape=torch.Size([10, 3, 1]), device=cpu, dtype=torch.bool, is_shared=False),\n",
      "                params: TensorDict(\n",
      "                    fields={\n",
      "                        dt: Tensor(shape=torch.Size([10, 3]), device=cpu, dtype=torch.float32, is_shared=False)},\n",
      "                    batch_size=torch.Size([10, 3]),\n",
      "                    device=None,\n",
      "                    is_shared=False),\n",
      "                psi_imag: Tensor(shape=torch.Size([10, 3, 2, 1]), device=cpu, dtype=torch.float32, is_shared=False),\n",
      "                psi_real: Tensor(shape=torch.Size([10, 3, 2, 1]), device=cpu, dtype=torch.float32, is_shared=False),\n",
      "                reward: Tensor(shape=torch.Size([10, 3, 1]), device=cpu, dtype=torch.float32, is_shared=False),\n",
      "                terminated: Tensor(shape=torch.Size([10, 3, 1]), device=cpu, dtype=torch.bool, is_shared=False)},\n",
      "            batch_size=torch.Size([10, 3]),\n",
      "            device=None,\n",
      "            is_shared=False),\n",
      "        params: TensorDict(\n",
      "            fields={\n",
      "                dt: Tensor(shape=torch.Size([10, 3]), device=cpu, dtype=torch.float32, is_shared=False)},\n",
      "            batch_size=torch.Size([10, 3]),\n",
      "            device=None,\n",
      "            is_shared=False),\n",
      "        psi_imag: Tensor(shape=torch.Size([10, 3, 2, 1]), device=cpu, dtype=torch.float32, is_shared=False),\n",
      "        psi_real: Tensor(shape=torch.Size([10, 3, 2, 1]), device=cpu, dtype=torch.float32, is_shared=False),\n",
      "        terminated: Tensor(shape=torch.Size([10, 3, 1]), device=cpu, dtype=torch.bool, is_shared=False)},\n",
      "    batch_size=torch.Size([10, 3]),\n",
      "    device=None,\n",
      "    is_shared=False)\n"
     ]
    }
   ],
   "source": [
    "rollout = env.rollout(\n",
    "    3,\n",
    "    auto_reset=False,  # we're executing the reset out of the ``rollout`` call\n",
    "    tensordict=env.reset(env.gen_params(batch_size=[batch_size])),\n",
    ")\n",
    "print(\"rollout of len 3 (batch size of 10):\", rollout)"
   ]
  },
  {
   "cell_type": "code",
   "execution_count": 15,
   "metadata": {},
   "outputs": [
    {
     "data": {
      "text/plain": [
       "TensorDict(\n",
       "    fields={\n",
       "        done: Tensor(shape=torch.Size([1]), device=cpu, dtype=torch.bool, is_shared=False),\n",
       "        params: TensorDict(\n",
       "            fields={\n",
       "                dt: Tensor(shape=torch.Size([]), device=cpu, dtype=torch.float32, is_shared=False)},\n",
       "            batch_size=torch.Size([]),\n",
       "            device=None,\n",
       "            is_shared=False),\n",
       "        psi_imag: Tensor(shape=torch.Size([2, 1]), device=cpu, dtype=torch.float32, is_shared=False),\n",
       "        psi_real: Tensor(shape=torch.Size([2, 1]), device=cpu, dtype=torch.float32, is_shared=False),\n",
       "        terminated: Tensor(shape=torch.Size([1]), device=cpu, dtype=torch.bool, is_shared=False)},\n",
       "    batch_size=torch.Size([]),\n",
       "    device=None,\n",
       "    is_shared=False)"
      ]
     },
     "execution_count": 15,
     "metadata": {},
     "output_type": "execute_result"
    }
   ],
   "source": [
    "env.reset()"
   ]
  },
  {
   "cell_type": "code",
   "execution_count": 16,
   "metadata": {},
   "outputs": [],
   "source": [
    "# env = TransformedEnv(\n",
    "#     env,\n",
    "#     CatTensors(\n",
    "#     in_keys=[\"psi_real\", \"psi_imag\"], dim=0, out_key=\"observation\", del_keys=False\n",
    "# ),\n",
    "# )\n",
    "# check_env_specs(env)"
   ]
  },
  {
   "cell_type": "code",
   "execution_count": 17,
   "metadata": {},
   "outputs": [
    {
     "data": {
      "text/plain": [
       "QuantumEnv()"
      ]
     },
     "execution_count": 17,
     "metadata": {},
     "output_type": "execute_result"
    }
   ],
   "source": [
    "env"
   ]
  },
  {
   "cell_type": "code",
   "execution_count": 18,
   "metadata": {},
   "outputs": [],
   "source": [
    "\n",
    "torch.manual_seed(0)\n",
    "env.set_seed(0)\n",
    "\n",
    "class myNet(nn.Module):\n",
    "\n",
    "    def __init__(self):\n",
    "        super(myNet, self).__init__()\n",
    "        self.net = nn.Sequential(\n",
    "                    nn.Linear(4, 64),\n",
    "                    nn.Tanh(),\n",
    "                    nn.Linear(64, 64),\n",
    "                    nn.Tanh(),\n",
    "                    nn.Linear(64, 64),\n",
    "                    nn.Tanh(),\n",
    "                    nn.Linear(64, 1),\n",
    "                    nn.Tanh()\n",
    "                    )\n",
    "\n",
    "    def forward(self, x1, x2):\n",
    "        # print(x1.shape, x2.shape)\n",
    "        flattened = torch.squeeze(torch.hstack((x1, x2)))\n",
    "        # print(flattened.shape)\n",
    "        return self.net(flattened)\n",
    "\n",
    "net = myNet()\n",
    "policy = TensorDictModule(\n",
    "    net,\n",
    "    in_keys=[\"psi_real\", \"psi_imag\"],\n",
    "    out_keys=[\"action\"],\n",
    ")"
   ]
  },
  {
   "cell_type": "code",
   "execution_count": 19,
   "metadata": {},
   "outputs": [
    {
     "data": {
      "text/plain": [
       "TensorDictModule(\n",
       "    module=myNet(\n",
       "      (net): Sequential(\n",
       "        (0): Linear(in_features=4, out_features=64, bias=True)\n",
       "        (1): Tanh()\n",
       "        (2): Linear(in_features=64, out_features=64, bias=True)\n",
       "        (3): Tanh()\n",
       "        (4): Linear(in_features=64, out_features=64, bias=True)\n",
       "        (5): Tanh()\n",
       "        (6): Linear(in_features=64, out_features=1, bias=True)\n",
       "        (7): Tanh()\n",
       "      )\n",
       "    ),\n",
       "    device=cpu,\n",
       "    in_keys=['psi_real', 'psi_imag'],\n",
       "    out_keys=['action'])"
      ]
     },
     "execution_count": 19,
     "metadata": {},
     "output_type": "execute_result"
    }
   ],
   "source": [
    "policy"
   ]
  },
  {
   "cell_type": "code",
   "execution_count": 20,
   "metadata": {},
   "outputs": [],
   "source": [
    "optim = torch.optim.Adam(policy.parameters(), lr=1e-3)"
   ]
  },
  {
   "cell_type": "code",
   "execution_count": 21,
   "metadata": {},
   "outputs": [
    {
     "data": {
      "text/plain": [
       "TensorDict(\n",
       "    fields={\n",
       "        done: Tensor(shape=torch.Size([10, 1]), device=cpu, dtype=torch.bool, is_shared=False),\n",
       "        params: TensorDict(\n",
       "            fields={\n",
       "                dt: Tensor(shape=torch.Size([10]), device=cpu, dtype=torch.float32, is_shared=False)},\n",
       "            batch_size=torch.Size([10]),\n",
       "            device=None,\n",
       "            is_shared=False),\n",
       "        psi_imag: Tensor(shape=torch.Size([10, 2, 1]), device=cpu, dtype=torch.float32, is_shared=False),\n",
       "        psi_real: Tensor(shape=torch.Size([10, 2, 1]), device=cpu, dtype=torch.float32, is_shared=False),\n",
       "        terminated: Tensor(shape=torch.Size([10, 1]), device=cpu, dtype=torch.bool, is_shared=False)},\n",
       "    batch_size=torch.Size([10]),\n",
       "    device=None,\n",
       "    is_shared=False)"
      ]
     },
     "execution_count": 21,
     "metadata": {},
     "output_type": "execute_result"
    }
   ],
   "source": [
    "env.reset(env.gen_params(batch_size=[10]))"
   ]
  },
  {
   "cell_type": "code",
   "execution_count": null,
   "metadata": {},
   "outputs": [],
   "source": []
  },
  {
   "cell_type": "markdown",
   "metadata": {},
   "source": [
    "# Train Network"
   ]
  },
  {
   "cell_type": "code",
   "execution_count": 22,
   "metadata": {},
   "outputs": [
    {
     "name": "stderr",
     "output_type": "stream",
     "text": [
      "  0%|          | 0/200 [00:00<?, ?it/s]"
     ]
    },
    {
     "name": "stderr",
     "output_type": "stream",
     "text": [
      "reward: -0.9947, last reward: -0.9935, gradient norm:  0.05616:   4%|▍         | 8/200 [00:13<05:24,  1.69s/it]\n"
     ]
    },
    {
     "ename": "KeyboardInterrupt",
     "evalue": "",
     "output_type": "error",
     "traceback": [
      "\u001b[0;31m---------------------------------------------------------------------------\u001b[0m",
      "\u001b[0;31mKeyboardInterrupt\u001b[0m                         Traceback (most recent call last)",
      "\u001b[1;32m/home/eweissler/src/neural_networks_hw/final_project/quantum_control.ipynb Cell 37\u001b[0m line \u001b[0;36m9\n\u001b[1;32m      <a href='vscode-notebook-cell://ssh-remote%2Bewdesktop/home/eweissler/src/neural_networks_hw/final_project/quantum_control.ipynb#W6sdnNjb2RlLXJlbW90ZQ%3D%3D?line=6'>7</a>\u001b[0m \u001b[39mfor\u001b[39;00m _ \u001b[39min\u001b[39;00m pbar:\n\u001b[1;32m      <a href='vscode-notebook-cell://ssh-remote%2Bewdesktop/home/eweissler/src/neural_networks_hw/final_project/quantum_control.ipynb#W6sdnNjb2RlLXJlbW90ZQ%3D%3D?line=7'>8</a>\u001b[0m     init_td \u001b[39m=\u001b[39m env\u001b[39m.\u001b[39mreset(env\u001b[39m.\u001b[39mgen_params(batch_size\u001b[39m=\u001b[39m[batch_size]))\n\u001b[0;32m----> <a href='vscode-notebook-cell://ssh-remote%2Bewdesktop/home/eweissler/src/neural_networks_hw/final_project/quantum_control.ipynb#W6sdnNjb2RlLXJlbW90ZQ%3D%3D?line=8'>9</a>\u001b[0m     rollout \u001b[39m=\u001b[39m env\u001b[39m.\u001b[39;49mrollout(rollout_len, policy, tensordict\u001b[39m=\u001b[39;49minit_td, auto_reset\u001b[39m=\u001b[39;49m\u001b[39mFalse\u001b[39;49;00m)\n\u001b[1;32m     <a href='vscode-notebook-cell://ssh-remote%2Bewdesktop/home/eweissler/src/neural_networks_hw/final_project/quantum_control.ipynb#W6sdnNjb2RlLXJlbW90ZQ%3D%3D?line=9'>10</a>\u001b[0m     traj_return \u001b[39m=\u001b[39m rollout[\u001b[39m\"\u001b[39m\u001b[39mnext\u001b[39m\u001b[39m\"\u001b[39m, \u001b[39m\"\u001b[39m\u001b[39mreward\u001b[39m\u001b[39m\"\u001b[39m]\u001b[39m.\u001b[39mmean()\n\u001b[1;32m     <a href='vscode-notebook-cell://ssh-remote%2Bewdesktop/home/eweissler/src/neural_networks_hw/final_project/quantum_control.ipynb#W6sdnNjb2RlLXJlbW90ZQ%3D%3D?line=10'>11</a>\u001b[0m     (\u001b[39m-\u001b[39mtraj_return)\u001b[39m.\u001b[39mbackward()\n",
      "File \u001b[0;32m~/.conda/envs/torch/lib/python3.9/site-packages/torchrl/envs/common.py:1814\u001b[0m, in \u001b[0;36mEnvBase.rollout\u001b[0;34m(self, max_steps, policy, callback, auto_reset, auto_cast_to_device, break_when_any_done, return_contiguous, tensordict, out)\u001b[0m\n\u001b[1;32m   1804\u001b[0m kwargs \u001b[39m=\u001b[39m {\n\u001b[1;32m   1805\u001b[0m     \u001b[39m\"\u001b[39m\u001b[39mtensordict\u001b[39m\u001b[39m\"\u001b[39m: tensordict,\n\u001b[1;32m   1806\u001b[0m     \u001b[39m\"\u001b[39m\u001b[39mauto_cast_to_device\u001b[39m\u001b[39m\"\u001b[39m: auto_cast_to_device,\n\u001b[0;32m   (...)\u001b[0m\n\u001b[1;32m   1811\u001b[0m     \u001b[39m\"\u001b[39m\u001b[39mcallback\u001b[39m\u001b[39m\"\u001b[39m: callback,\n\u001b[1;32m   1812\u001b[0m }\n\u001b[1;32m   1813\u001b[0m \u001b[39mif\u001b[39;00m break_when_any_done:\n\u001b[0;32m-> 1814\u001b[0m     tensordicts \u001b[39m=\u001b[39m \u001b[39mself\u001b[39;49m\u001b[39m.\u001b[39;49m_rollout_stop_early(\u001b[39m*\u001b[39;49m\u001b[39m*\u001b[39;49mkwargs)\n\u001b[1;32m   1815\u001b[0m \u001b[39melse\u001b[39;00m:\n\u001b[1;32m   1816\u001b[0m     tensordicts \u001b[39m=\u001b[39m \u001b[39mself\u001b[39m\u001b[39m.\u001b[39m_rollout_nonstop(\u001b[39m*\u001b[39m\u001b[39m*\u001b[39mkwargs)\n",
      "File \u001b[0;32m~/.conda/envs/torch/lib/python3.9/site-packages/torchrl/envs/common.py:1842\u001b[0m, in \u001b[0;36mEnvBase._rollout_stop_early\u001b[0;34m(self, tensordict, auto_cast_to_device, max_steps, policy, policy_device, env_device, callback)\u001b[0m\n\u001b[1;32m   1840\u001b[0m \u001b[39mif\u001b[39;00m auto_cast_to_device:\n\u001b[1;32m   1841\u001b[0m     tensordict \u001b[39m=\u001b[39m tensordict\u001b[39m.\u001b[39mto(env_device, non_blocking\u001b[39m=\u001b[39m\u001b[39mTrue\u001b[39;00m)\n\u001b[0;32m-> 1842\u001b[0m tensordict \u001b[39m=\u001b[39m \u001b[39mself\u001b[39;49m\u001b[39m.\u001b[39;49mstep(tensordict)\n\u001b[1;32m   1843\u001b[0m tensordicts\u001b[39m.\u001b[39mappend(tensordict\u001b[39m.\u001b[39mclone(\u001b[39mFalse\u001b[39;00m))\n\u001b[1;32m   1845\u001b[0m \u001b[39mif\u001b[39;00m i \u001b[39m==\u001b[39m max_steps \u001b[39m-\u001b[39m \u001b[39m1\u001b[39m:\n\u001b[1;32m   1846\u001b[0m     \u001b[39m# we don't truncated as one could potentially continue the run\u001b[39;00m\n",
      "File \u001b[0;32m~/.conda/envs/torch/lib/python3.9/site-packages/torchrl/envs/common.py:1313\u001b[0m, in \u001b[0;36mEnvBase.step\u001b[0;34m(self, tensordict)\u001b[0m\n\u001b[1;32m   1310\u001b[0m \u001b[39mself\u001b[39m\u001b[39m.\u001b[39m_assert_tensordict_shape(tensordict)\n\u001b[1;32m   1311\u001b[0m next_preset \u001b[39m=\u001b[39m tensordict\u001b[39m.\u001b[39mget(\u001b[39m\"\u001b[39m\u001b[39mnext\u001b[39m\u001b[39m\"\u001b[39m, \u001b[39mNone\u001b[39;00m)\n\u001b[0;32m-> 1313\u001b[0m next_tensordict \u001b[39m=\u001b[39m \u001b[39mself\u001b[39;49m\u001b[39m.\u001b[39;49m_step(tensordict)\n\u001b[1;32m   1314\u001b[0m next_tensordict \u001b[39m=\u001b[39m \u001b[39mself\u001b[39m\u001b[39m.\u001b[39m_step_proc_data(next_tensordict)\n\u001b[1;32m   1315\u001b[0m \u001b[39mif\u001b[39;00m next_preset \u001b[39mis\u001b[39;00m \u001b[39mnot\u001b[39;00m \u001b[39mNone\u001b[39;00m:\n\u001b[1;32m   1316\u001b[0m     \u001b[39m# tensordict could already have a \"next\" key\u001b[39;00m\n\u001b[1;32m   1317\u001b[0m     \u001b[39m# this could be done more efficiently by not excluding but just passing\u001b[39;00m\n\u001b[1;32m   1318\u001b[0m     \u001b[39m# the necessary keys\u001b[39;00m\n",
      "\u001b[1;32m/home/eweissler/src/neural_networks_hw/final_project/quantum_control.ipynb Cell 37\u001b[0m line \u001b[0;36m3\n\u001b[1;32m     <a href='vscode-notebook-cell://ssh-remote%2Bewdesktop/home/eweissler/src/neural_networks_hw/final_project/quantum_control.ipynb#W6sdnNjb2RlLXJlbW90ZQ%3D%3D?line=36'>37</a>\u001b[0m     H1_repeat \u001b[39m=\u001b[39m H1_tensor\u001b[39m.\u001b[39mrepeat(c_dim,\u001b[39m1\u001b[39m,\u001b[39m1\u001b[39m)\n\u001b[1;32m     <a href='vscode-notebook-cell://ssh-remote%2Bewdesktop/home/eweissler/src/neural_networks_hw/final_project/quantum_control.ipynb#W6sdnNjb2RlLXJlbW90ZQ%3D%3D?line=37'>38</a>\u001b[0m     \u001b[39m# print(control_repeat.shape, H0_repeat.shape, H1_repeat.shape, dt.shape)\u001b[39;00m\n\u001b[0;32m---> <a href='vscode-notebook-cell://ssh-remote%2Bewdesktop/home/eweissler/src/neural_networks_hw/final_project/quantum_control.ipynb#W6sdnNjb2RlLXJlbW90ZQ%3D%3D?line=38'>39</a>\u001b[0m     U \u001b[39m=\u001b[39m torch\u001b[39m.\u001b[39;49mlinalg\u001b[39m.\u001b[39;49mmatrix_exp(\u001b[39m-\u001b[39;49m\u001b[39m1.0\u001b[39;49mj\u001b[39m*\u001b[39;49mdt_repeat\u001b[39m*\u001b[39;49m(H0_repeat \u001b[39m+\u001b[39;49m control_repeat\u001b[39m*\u001b[39;49mH1_repeat))\n\u001b[1;32m     <a href='vscode-notebook-cell://ssh-remote%2Bewdesktop/home/eweissler/src/neural_networks_hw/final_project/quantum_control.ipynb#W6sdnNjb2RlLXJlbW90ZQ%3D%3D?line=39'>40</a>\u001b[0m \u001b[39melse\u001b[39;00m:\n\u001b[1;32m     <a href='vscode-notebook-cell://ssh-remote%2Bewdesktop/home/eweissler/src/neural_networks_hw/final_project/quantum_control.ipynb#W6sdnNjb2RlLXJlbW90ZQ%3D%3D?line=40'>41</a>\u001b[0m     U \u001b[39m=\u001b[39m torch\u001b[39m.\u001b[39mlinalg\u001b[39m.\u001b[39mmatrix_exp(\u001b[39m-\u001b[39m\u001b[39m1.0\u001b[39mj\u001b[39m*\u001b[39mdt\u001b[39m*\u001b[39m(H0_tensor \u001b[39m+\u001b[39m control\u001b[39m*\u001b[39mH1_tensor))\n",
      "\u001b[0;31mKeyboardInterrupt\u001b[0m: "
     ]
    }
   ],
   "source": [
    "batch_size = 100\n",
    "rollout_len = 1000\n",
    "pbar = tqdm.tqdm(range(20_000 // batch_size))\n",
    "scheduler = torch.optim.lr_scheduler.CosineAnnealingLR(optim, 20_000)\n",
    "logs = defaultdict(list)\n",
    "\n",
    "for _ in pbar:\n",
    "    init_td = env.reset(env.gen_params(batch_size=[batch_size]))\n",
    "    rollout = env.rollout(rollout_len, policy, tensordict=init_td, auto_reset=False)\n",
    "    traj_return = rollout[\"next\", \"reward\"].mean()\n",
    "    (-traj_return).backward()\n",
    "    gn = torch.nn.utils.clip_grad_norm_(net.parameters(), 1.0)\n",
    "    optim.step()\n",
    "    optim.zero_grad()\n",
    "    pbar.set_description(\n",
    "        f\"reward: {traj_return: 4.4f}, \"\n",
    "        f\"last reward: {rollout[..., -1]['next', 'reward'].mean(): 4.4f}, gradient norm: {gn: 4.4}\"\n",
    "    )\n",
    "    logs[\"return\"].append(traj_return.item())\n",
    "    logs[\"last_reward\"].append(rollout[..., -1][\"next\", \"reward\"].mean().item())\n",
    "    scheduler.step()\n",
    "\n",
    "\n",
    "def plot():\n",
    "    import matplotlib\n",
    "    from matplotlib import pyplot as plt\n",
    "\n",
    "    is_ipython = \"inline\" in matplotlib.get_backend()\n",
    "    if is_ipython:\n",
    "        from IPython import display\n",
    "\n",
    "    with plt.ion():\n",
    "        plt.figure(figsize=(10, 5))\n",
    "        plt.subplot(1, 2, 1)\n",
    "        plt.plot(logs[\"return\"])\n",
    "        plt.title(\"returns\")\n",
    "        plt.xlabel(\"iteration\")\n",
    "        plt.subplot(1, 2, 2)\n",
    "        plt.plot(logs[\"last_reward\"])\n",
    "        plt.title(\"last reward\")\n",
    "        plt.xlabel(\"iteration\")\n",
    "        if is_ipython:\n",
    "            display.display(plt.gcf())\n",
    "            display.clear_output(wait=True)\n",
    "        plt.show()\n",
    "\n",
    "\n",
    "plot()"
   ]
  },
  {
   "cell_type": "code",
   "execution_count": null,
   "metadata": {},
   "outputs": [],
   "source": []
  },
  {
   "cell_type": "code",
   "execution_count": null,
   "metadata": {},
   "outputs": [
    {
     "data": {
      "image/png": "[encoded data removed]",
      "text/plain": [
       "<Figure size 640x480 with 2 Axes>"
      ]
     },
     "metadata": {},
     "output_type": "display_data"
    }
   ],
   "source": [
    "import matplotlib.pyplot as plt\n",
    "import qutip as qt\n",
    "\n",
    "dt = 0.01\n",
    "timesteps = 200\n",
    "tlist = np.arange(timesteps)*dt\n",
    "def get_control_pulse(net, timesteps=timesteps, dt=dt):\n",
    "    psi = PSI_0_tensor\n",
    "    cntrl_seq = torch.zeros(timesteps)\n",
    "    for i in range(timesteps):\n",
    "        cntrl = net(torch.real(psi).reshape((1,2,1)), torch.imag(psi).reshape((1,2,1)))\n",
    "        cntrl_seq[i] = cntrl\n",
    "        U = torch.linalg.matrix_exp(-1.0j*dt*(H0_tensor + cntrl*H1_tensor))\n",
    "        psi = U@psi\n",
    "\n",
    "    return cntrl_seq.detach().numpy()\n",
    "\n",
    "pulse = get_control_pulse(net)\n",
    "def Ham(t, tlist):\n",
    "    tdiff = np.abs(tlist - t)\n",
    "    return qt.Qobj(H0 + pulse[np.argmin(tdiff)]*H1)\n",
    "\n",
    "states_qt = qt.sesolve(lambda t, args: Ham(t, tlist), qt.Qobj(PSI_0), tlist=tlist)\n",
    "prob0_qt = [np.abs(s[0][0][0])**2 for s in states_qt.states]\n",
    "\n",
    "f, ax = plt.subplots(ncols=2)\n",
    "ax[0].set_title(\"pulse\")\n",
    "ax[1].set_title(\"population\")\n",
    "ax[0].plot(tlist, pulse)\n",
    "ax[1].plot(tlist, prob0_qt)\n",
    "plt.show()\n"
   ]
  },
  {
   "cell_type": "code",
   "execution_count": null,
   "metadata": {},
   "outputs": [],
   "source": []
  },
  {
   "cell_type": "code",
   "execution_count": null,
   "metadata": {},
   "outputs": [],
   "source": []
  }
 ],
 "metadata": {
  "kernelspec": {
   "display_name": "torch",
   "language": "python",
   "name": "python3"
  },
  "language_info": {
   "codemirror_mode": {
    "name": "ipython",
    "version": 3
   },
   "file_extension": ".py",
   "mimetype": "text/x-python",
   "name": "python",
   "nbconvert_exporter": "python",
   "pygments_lexer": "ipython3",
   "version": "3.9.18"
  }
 },
 "nbformat": 4,
 "nbformat_minor": 2
}
