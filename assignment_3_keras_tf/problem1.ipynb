{
 "cells": [
  {
   "cell_type": "code",
   "execution_count": 1,
   "metadata": {},
   "outputs": [
    {
     "name": "stderr",
     "output_type": "stream",
     "text": [
      "2023-11-29 13:55:15.655140: I tensorflow/core/util/port.cc:111] oneDNN custom operations are on. You may see slightly different numerical results due to floating-point round-off errors from different computation orders. To turn them off, set the environment variable `TF_ENABLE_ONEDNN_OPTS=0`.\n",
      "2023-11-29 13:55:15.677338: E tensorflow/compiler/xla/stream_executor/cuda/cuda_dnn.cc:9342] Unable to register cuDNN factory: Attempting to register factory for plugin cuDNN when one has already been registered\n",
      "2023-11-29 13:55:15.677360: E tensorflow/compiler/xla/stream_executor/cuda/cuda_fft.cc:609] Unable to register cuFFT factory: Attempting to register factory for plugin cuFFT when one has already been registered\n",
      "2023-11-29 13:55:15.677373: E tensorflow/compiler/xla/stream_executor/cuda/cuda_blas.cc:1518] Unable to register cuBLAS factory: Attempting to register factory for plugin cuBLAS when one has already been registered\n",
      "2023-11-29 13:55:15.681216: I tensorflow/core/platform/cpu_feature_guard.cc:182] This TensorFlow binary is optimized to use available CPU instructions in performance-critical operations.\n",
      "To enable the following instructions: AVX2 AVX512F AVX512_VNNI FMA, in other operations, rebuild TensorFlow with the appropriate compiler flags.\n"
     ]
    }
   ],
   "source": [
    "# Import packages\n",
    "# DL Packages\n",
    "import tensorflow as tf\n",
    "import keras\n",
    "\n",
    "# Others\n",
    "import matplotlib.pyplot as plt\n",
    "import numpy as np\n",
    "import scipy as sp\n",
    "import sympy as sym\n",
    "import seaborn as sns\n",
    "\n",
    "from sklearn.metrics import confusion_matrix"
   ]
  },
  {
   "cell_type": "markdown",
   "metadata": {},
   "source": [
    "# Examine the Data:"
   ]
  },
  {
   "cell_type": "markdown",
   "metadata": {},
   "source": [
    "Begin by downloading the data and looking at shapes:"
   ]
  },
  {
   "cell_type": "code",
   "execution_count": 2,
   "metadata": {},
   "outputs": [],
   "source": [
    "(Xtrain, Ytrain), (Xtest, Ytest) = tf.keras.datasets.mnist.load_data()"
   ]
  },
  {
   "cell_type": "code",
   "execution_count": 3,
   "metadata": {},
   "outputs": [
    {
     "name": "stdout",
     "output_type": "stream",
     "text": [
      "Xtrain shape:  (60000, 28, 28)\n",
      "Xtrain min, max:  0 255\n",
      "-----------------------\n",
      "Ytrain sthape:  (60000,)\n",
      "Ytrain classes:  [0 1 2 3 4 5 6 7 8 9]\n",
      "-----------------------\n",
      "Xtest.shape:  (10000, 28, 28)\n",
      "Xtest min, max:  0 255\n",
      "-----------------------\n",
      "Ytest shape:  (10000,)\n",
      "Ytest classes:  [0 1 2 3 4 5 6 7 8 9]\n"
     ]
    }
   ],
   "source": [
    "print(\"Xtrain shape: \", Xtrain.shape)\n",
    "print(\"Xtrain min, max: \", Xtrain.min(), Xtrain.max())\n",
    "print(\"-----------------------\")\n",
    "print(\"Ytrain sthape: \", Ytrain.shape)\n",
    "print(\"Ytrain classes: \", np.unique(Ytrain))\n",
    "print(\"-----------------------\")\n",
    "print(\"Xtest.shape: \", Xtest.shape)\n",
    "print(\"Xtest min, max: \", Xtrain.min(), Xtrain.max())\n",
    "print(\"-----------------------\")\n",
    "print(\"Ytest shape: \", Ytest.shape)\n",
    "print(\"Ytest classes: \", np.unique(Ytrain))"
   ]
  },
  {
   "cell_type": "markdown",
   "metadata": {},
   "source": [
    "We have 60,000 training samples and 10,000 test samples. Let's look at some of the data:"
   ]
  },
  {
   "cell_type": "code",
   "execution_count": 4,
   "metadata": {},
   "outputs": [
    {
     "data": {
      "text/plain": [
       "array([[  0,   0,   0,   0,   0,   0,   0,   0,   0,   0,   0,   0,   0,\n",
       "          0,   0,   0,   0,   0,   0,   0,   0,   0,   0,   0,   0,   0,\n",
       "          0,   0],\n",
       "       [  0,   0,   0,   0,   0,   0,   0,   0,   0,   0,   0,   0,   0,\n",
       "          0,   0,   0,   0,   0,   0,   0,   0,   0,   0,   0,   0,   0,\n",
       "          0,   0],\n",
       "       [  0,   0,   0,   0,   0,   0,   0,   0,   0,   0,   0,   0,   0,\n",
       "          0,   0,   0,   0,   0,   0,   0,   0,   0,   0,   0,   0,   0,\n",
       "          0,   0],\n",
       "       [  0,   0,   0,   0,   0,   0,   0,   0,   0,   0,   0,   0,   0,\n",
       "          0,   0,   0,   0,   0,   0,   0,   0,   0,   0,   0,   0,   0,\n",
       "          0,   0],\n",
       "       [  0,   0,   0,   0,   0,   0,   0,   0,   0,   0,   0,   0,   0,\n",
       "          0,   0,   0,   0,   0,   0,   0,   0,   0,   0,   0,   0,   0,\n",
       "          0,   0],\n",
       "       [  0,   0,   0,   0,   0,   0,   0,   0,   0,   0,   0,   0,   3,\n",
       "         18,  18,  18, 126, 136, 175,  26, 166, 255, 247, 127,   0,   0,\n",
       "          0,   0],\n",
       "       [  0,   0,   0,   0,   0,   0,   0,   0,  30,  36,  94, 154, 170,\n",
       "        253, 253, 253, 253, 253, 225, 172, 253, 242, 195,  64,   0,   0,\n",
       "          0,   0],\n",
       "       [  0,   0,   0,   0,   0,   0,   0,  49, 238, 253, 253, 253, 253,\n",
       "        253, 253, 253, 253, 251,  93,  82,  82,  56,  39,   0,   0,   0,\n",
       "          0,   0],\n",
       "       [  0,   0,   0,   0,   0,   0,   0,  18, 219, 253, 253, 253, 253,\n",
       "        253, 198, 182, 247, 241,   0,   0,   0,   0,   0,   0,   0,   0,\n",
       "          0,   0],\n",
       "       [  0,   0,   0,   0,   0,   0,   0,   0,  80, 156, 107, 253, 253,\n",
       "        205,  11,   0,  43, 154,   0,   0,   0,   0,   0,   0,   0,   0,\n",
       "          0,   0],\n",
       "       [  0,   0,   0,   0,   0,   0,   0,   0,   0,  14,   1, 154, 253,\n",
       "         90,   0,   0,   0,   0,   0,   0,   0,   0,   0,   0,   0,   0,\n",
       "          0,   0],\n",
       "       [  0,   0,   0,   0,   0,   0,   0,   0,   0,   0,   0, 139, 253,\n",
       "        190,   2,   0,   0,   0,   0,   0,   0,   0,   0,   0,   0,   0,\n",
       "          0,   0],\n",
       "       [  0,   0,   0,   0,   0,   0,   0,   0,   0,   0,   0,  11, 190,\n",
       "        253,  70,   0,   0,   0,   0,   0,   0,   0,   0,   0,   0,   0,\n",
       "          0,   0],\n",
       "       [  0,   0,   0,   0,   0,   0,   0,   0,   0,   0,   0,   0,  35,\n",
       "        241, 225, 160, 108,   1,   0,   0,   0,   0,   0,   0,   0,   0,\n",
       "          0,   0],\n",
       "       [  0,   0,   0,   0,   0,   0,   0,   0,   0,   0,   0,   0,   0,\n",
       "         81, 240, 253, 253, 119,  25,   0,   0,   0,   0,   0,   0,   0,\n",
       "          0,   0],\n",
       "       [  0,   0,   0,   0,   0,   0,   0,   0,   0,   0,   0,   0,   0,\n",
       "          0,  45, 186, 253, 253, 150,  27,   0,   0,   0,   0,   0,   0,\n",
       "          0,   0],\n",
       "       [  0,   0,   0,   0,   0,   0,   0,   0,   0,   0,   0,   0,   0,\n",
       "          0,   0,  16,  93, 252, 253, 187,   0,   0,   0,   0,   0,   0,\n",
       "          0,   0],\n",
       "       [  0,   0,   0,   0,   0,   0,   0,   0,   0,   0,   0,   0,   0,\n",
       "          0,   0,   0,   0, 249, 253, 249,  64,   0,   0,   0,   0,   0,\n",
       "          0,   0],\n",
       "       [  0,   0,   0,   0,   0,   0,   0,   0,   0,   0,   0,   0,   0,\n",
       "          0,  46, 130, 183, 253, 253, 207,   2,   0,   0,   0,   0,   0,\n",
       "          0,   0],\n",
       "       [  0,   0,   0,   0,   0,   0,   0,   0,   0,   0,   0,   0,  39,\n",
       "        148, 229, 253, 253, 253, 250, 182,   0,   0,   0,   0,   0,   0,\n",
       "          0,   0],\n",
       "       [  0,   0,   0,   0,   0,   0,   0,   0,   0,   0,  24, 114, 221,\n",
       "        253, 253, 253, 253, 201,  78,   0,   0,   0,   0,   0,   0,   0,\n",
       "          0,   0],\n",
       "       [  0,   0,   0,   0,   0,   0,   0,   0,  23,  66, 213, 253, 253,\n",
       "        253, 253, 198,  81,   2,   0,   0,   0,   0,   0,   0,   0,   0,\n",
       "          0,   0],\n",
       "       [  0,   0,   0,   0,   0,   0,  18, 171, 219, 253, 253, 253, 253,\n",
       "        195,  80,   9,   0,   0,   0,   0,   0,   0,   0,   0,   0,   0,\n",
       "          0,   0],\n",
       "       [  0,   0,   0,   0,  55, 172, 226, 253, 253, 253, 253, 244, 133,\n",
       "         11,   0,   0,   0,   0,   0,   0,   0,   0,   0,   0,   0,   0,\n",
       "          0,   0],\n",
       "       [  0,   0,   0,   0, 136, 253, 253, 253, 212, 135, 132,  16,   0,\n",
       "          0,   0,   0,   0,   0,   0,   0,   0,   0,   0,   0,   0,   0,\n",
       "          0,   0],\n",
       "       [  0,   0,   0,   0,   0,   0,   0,   0,   0,   0,   0,   0,   0,\n",
       "          0,   0,   0,   0,   0,   0,   0,   0,   0,   0,   0,   0,   0,\n",
       "          0,   0],\n",
       "       [  0,   0,   0,   0,   0,   0,   0,   0,   0,   0,   0,   0,   0,\n",
       "          0,   0,   0,   0,   0,   0,   0,   0,   0,   0,   0,   0,   0,\n",
       "          0,   0],\n",
       "       [  0,   0,   0,   0,   0,   0,   0,   0,   0,   0,   0,   0,   0,\n",
       "          0,   0,   0,   0,   0,   0,   0,   0,   0,   0,   0,   0,   0,\n",
       "          0,   0]], dtype=uint8)"
      ]
     },
     "execution_count": 4,
     "metadata": {},
     "output_type": "execute_result"
    },
    {
     "data": {
      "image/png": "[encoded data removed]",
      "text/plain": [
       "<Figure size 640x480 with 2 Axes>"
      ]
     },
     "metadata": {},
     "output_type": "display_data"
    }
   ],
   "source": [
    "plt.imshow(Xtrain[0], cmap=\"gray\")\n",
    "plt.colorbar()\n",
    "Xtrain[0]"
   ]
  },
  {
   "cell_type": "markdown",
   "metadata": {},
   "source": [
    "As expected, it's a 28x28 integer array (0-255) that corresponds to a grayscale image of a handwritten digit!\n",
    "\n",
    "Now let's get a sense of the different classes present by plotting one of each:"
   ]
  },
  {
   "cell_type": "code",
   "execution_count": 5,
   "metadata": {},
   "outputs": [
    {
     "data": {
      "text/plain": [
       "array([0, 1, 2, 3, 4, 5, 6, 7, 8, 9], dtype=uint8)"
      ]
     },
     "execution_count": 5,
     "metadata": {},
     "output_type": "execute_result"
    }
   ],
   "source": [
    "label_vals = np.unique(Ytrain)\n",
    "label_vals"
   ]
  },
  {
   "cell_type": "code",
   "execution_count": 6,
   "metadata": {},
   "outputs": [
    {
     "data": {
      "image/png": "[encoded data removed]",
      "text/plain": [
       "<Figure size 800x300 with 10 Axes>"
      ]
     },
     "metadata": {},
     "output_type": "display_data"
    }
   ],
   "source": [
    "ncols = 5\n",
    "nrows = 2\n",
    "f, ax = plt.subplots(nrows=nrows, ncols=ncols)\n",
    "f.set_size_inches(8,3)\n",
    "plt.suptitle(\"Random Sample From Each Class:\")\n",
    "for i in range(nrows):\n",
    "    for j in range(ncols):\n",
    "        n = label_vals[i*ncols + j]\n",
    "        is_n = np.nonzero(Ytrain==n)[0]\n",
    "        random_i = np.random.choice(is_n)\n",
    "        ax[i,j].imshow(Xtrain[random_i], origin=\"upper\", cmap=\"gray\")\n",
    "        ax[i,j].set_aspect(1)\n",
    "        ax[i,j].get_xaxis().set_visible(False)\n",
    "        ax[i,j].get_yaxis().set_visible(False)\n",
    "        ax[i,j].set_title(n)\n",
    "plt.tight_layout()"
   ]
  },
  {
   "cell_type": "markdown",
   "metadata": {},
   "source": [
    "# Pre-Process Data:\n",
    "\n",
    "First we will normalize the data to be between 0-1, instead of 0-255. We will also use one hot encoding to represent the data labels. To do the one hot encoding, use the code that I made for assignment 2:"
   ]
  },
  {
   "cell_type": "code",
   "execution_count": 7,
   "metadata": {},
   "outputs": [],
   "source": [
    "Xtrain_norm = Xtrain.astype(float)/np.max(Xtrain)\n",
    "Xtest_norm = Xtest.astype(float)/np.max(Xtest)\n",
    "def OHE(labels):\n",
    "\n",
    "    Y = np.zeros((labels.size, 1), dtype=int)\n",
    "    unique_vals = np.unique(labels)\n",
    "    label_map = {}\n",
    "    for i, val in enumerate(unique_vals):\n",
    "        label_map[val] = i\n",
    "    count = 0\n",
    "    for i, label in enumerate(labels):\n",
    "        # Assign label\n",
    "        Y[i] = label_map[label]\n",
    "\n",
    "    Y_OHE = np.zeros((Y.shape[0], len(label_map)), dtype=int)\n",
    "    for i in range(Y.shape[0]):\n",
    "        Y_OHE[i, Y[i]] = 1\n",
    "    Y = Y_OHE\n",
    "\n",
    "    return Y_OHE\n",
    "\n",
    "Ytrain_OHE = OHE(Ytrain)\n",
    "Ytest_OHE = OHE(Ytest)"
   ]
  },
  {
   "cell_type": "markdown",
   "metadata": {},
   "source": [
    "Now look at the data, labels:"
   ]
  },
  {
   "cell_type": "code",
   "execution_count": 8,
   "metadata": {},
   "outputs": [
    {
     "name": "stdout",
     "output_type": "stream",
     "text": [
      "Ytrain[0]: 5  Ytrain_OHE[0]: [0 0 0 0 0 1 0 0 0 0]\n"
     ]
    },
    {
     "data": {
      "image/png": "[encoded data removed]",
      "text/plain": [
       "<Figure size 640x480 with 2 Axes>"
      ]
     },
     "metadata": {},
     "output_type": "display_data"
    }
   ],
   "source": [
    "print(\"Ytrain[0]:\", Ytrain[0], \" Ytrain_OHE[0]:\", Ytrain_OHE[0])\n",
    "plt.imshow(Xtrain[0], cmap=\"gray\")\n",
    "plt.title(\"2D Image\")\n",
    "plt.colorbar();"
   ]
  },
  {
   "cell_type": "markdown",
   "metadata": {},
   "source": [
    "Looks good! Image is normalized to between 0-1 and 5 is encoded as a 1 in the [5] position. The flattened data seems right, as it's all zeros in the beginning and end of the sequence which corresponds to the top/bottom of the image."
   ]
  },
  {
   "cell_type": "markdown",
   "metadata": {},
   "source": [
    "# Make/Train a Network:"
   ]
  },
  {
   "cell_type": "code",
   "execution_count": null,
   "metadata": {},
   "outputs": [],
   "source": [
    "input_size = Xtrain[0].shape\n",
    "flat_size = input_size[0]*input_size[1]\n",
    "output_size = 10 # one hot encoded label vals\n",
    "model = keras.models.Sequential([\n",
    "    keras.Input(shape=input_size),\n",
    "    keras.layers.Flatten(),\n",
    "    keras.layers.Dropout(0.1),\n",
    "    keras.layers.Dense(flat_size, activation=\"relu\"),\n",
    "    keras.layers.Dense(flat_size/4, activation=\"relu\"),\n",
    "    keras.layers.Dense(output_size, activation=\"softmax\")\n",
    "], name=\"mnist_dense\")\n",
    "model.build(input_size)\n",
    "model.compile(optimizer=\"adam\", loss=\"categorical_crossentropy\", \n",
    "              metrics=[keras.metrics.CategoricalAccuracy()])\n",
    "model.summary()"
   ]
  },
  {
   "cell_type": "code",
   "execution_count": null,
   "metadata": {},
   "outputs": [],
   "source": [
    "history = model.fit(Xtrain_norm, Ytrain_OHE, batch_size=1000, epochs=100, validation_data=(Xtest_norm, Ytest_OHE))"
   ]
  },
  {
   "cell_type": "markdown",
   "metadata": {},
   "source": [
    "# Evalute Results:"
   ]
  },
  {
   "cell_type": "code",
   "execution_count": null,
   "metadata": {},
   "outputs": [],
   "source": [
    "history.history.keys()\n",
    "f, ax = plt.subplots(ncols=2)\n",
    "f.set_size_inches(8,3)\n",
    "ax[0].plot(history.history[\"loss\"], label=\"Train Loss\")\n",
    "ax[0].set_title(\"Loss CCE\")\n",
    "ax[0].plot(history.history[\"val_loss\"], label=\"Test Loss\")\n",
    "ax[0].set_yscale(\"log\")\n",
    "ax[0].set_xlabel(\"Epoch\")\n",
    "ax[0].legend()\n",
    "ax[1].plot(history.history[\"categorical_accuracy\"], label=\"Train Categorical Accuracy\")\n",
    "ax[1].set_xlabel(\"Epoch\")\n",
    "ax[1].set_title(\"Categorical Accuracy\")\n",
    "ax[1].plot(history.history[\"val_categorical_accuracy\"], label=\"Test Categorical Accuracy\")\n",
    "ax[1].legend();"
   ]
  },
  {
   "cell_type": "markdown",
   "metadata": {},
   "source": [
    "We see that even though the training loss continues to decrease, we saturate our test loss/accuravey after only a few epochs. With a higher dropout rate we might be able to avoid this.\n",
    "\n",
    "To plot confusion matrix, again take code from assignment 2:"
   ]
  },
  {
   "cell_type": "code",
   "execution_count": null,
   "metadata": {},
   "outputs": [],
   "source": [
    "\n",
    "def plot_confusion_matrix(Y: np.array, pred: np.array, labels=[], savename=\"\", logscale=False):\n",
    "    \"\"\"\n",
    "    Convenience function for generating a confusion Matrix\n",
    "\n",
    "    Args:\n",
    "        Y (np.array): Actual labels for the dataset (n rows, 1 column)\n",
    "        pred (np.array): Predicted labels for the data (n rows, 1 column)\n",
    "        labels (list of str): class labels\n",
    "        savename (str, optional): File to save plot to. If none is given shows figure.\n",
    "                                    Defaults to \"\".\n",
    "\n",
    "    Returns:\n",
    "        confusion matrix\n",
    "    \"\"\"\n",
    "    # Figure out predicted class -- infer from Y and pred the number of classes\n",
    "    if Y.shape[1] > 1:\n",
    "        Y_labels = np.zeros(Y.shape[0], dtype=int)\n",
    "        pred_labels = np.zeros_like(Y_labels)\n",
    "        for i in range(Y.shape[0]):\n",
    "            Y_labels[i] = np.argmax(Y[i])\n",
    "            pred_labels[i] = np.argmax(pred[i])\n",
    "    else:\n",
    "        Y_labels = Y\n",
    "        pred_labels = (Y >= 0.5).astype(int)\n",
    "    cm = confusion_matrix(Y_labels, pred_labels)\n",
    "    f, ax = plt.subplots()\n",
    "    if logscale:\n",
    "        from matplotlib.colors import LogNorm, Normalize\n",
    "        sns.heatmap(cm, annot=True, fmt='g', ax=ax, cmap='Blues', norm=LogNorm())\n",
    "    else:\n",
    "        sns.heatmap(cm, annot=True, fmt='g', ax=ax, cmap='Blues')\n",
    "    # labels, title and ticks\n",
    "    ax.set_xlabel(\"Predicted labels\")\n",
    "    ax.set_ylabel(\"True labels\")\n",
    "    ax.set_title(\"Confusion Matrix\")\n",
    "    if not labels:\n",
    "        labels = np.arange(max(Y.shape[1], 2))\n",
    "    ax.xaxis.set_ticklabels(labels)\n",
    "    ax.yaxis.set_ticklabels(labels)\n",
    "    \n",
    "    if savename != \"\":\n",
    "        plt.savefig(savename)\n",
    "        plt.close(f)\n",
    "    else:\n",
    "        plt.show()\n",
    "\n",
    "    return cm"
   ]
  },
  {
   "cell_type": "markdown",
   "metadata": {},
   "source": [
    "Plot the confusion matrix with a log colorbar so we can see the nonzero off diagonal entries more easily. Note anything missing is 0."
   ]
  },
  {
   "cell_type": "code",
   "execution_count": null,
   "metadata": {},
   "outputs": [],
   "source": [
    "Ypred = model.predict(Xtest_norm)\n",
    "plot_confusion_matrix(Ytest_OHE, Ypred, logscale=True)"
   ]
  },
  {
   "cell_type": "markdown",
   "metadata": {},
   "source": [
    "The most confused digits seem to be 4 & 9, 5 & 3, and 7 & 2, which makes some sense!"
   ]
  }
 ],
 "metadata": {
  "kernelspec": {
   "display_name": "Python 3 (ipykernel)",
   "language": "python",
   "name": "python3"
  },
  "language_info": {
   "codemirror_mode": {
    "name": "ipython",
    "version": 3
   },
   "file_extension": ".py",
   "mimetype": "text/x-python",
   "name": "python",
   "nbconvert_exporter": "python",
   "pygments_lexer": "ipython3",
   "version": "3.9.18"
  }
 },
 "nbformat": 4,
 "nbformat_minor": 4
}
