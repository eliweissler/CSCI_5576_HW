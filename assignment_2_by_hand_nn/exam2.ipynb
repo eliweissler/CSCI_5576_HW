{
 "cells": [
  {
   "cell_type": "code",
   "execution_count": 42,
   "metadata": {},
   "outputs": [],
   "source": [
    "import numpy as np\n",
    "import matplotlib.pyplot as plt\n",
    "import sympy as sy\n",
    "from IPython.display import display, Math, Latex"
   ]
  },
  {
   "cell_type": "markdown",
   "metadata": {},
   "source": [
    "# Problem 1:"
   ]
  },
  {
   "cell_type": "code",
   "execution_count": 43,
   "metadata": {},
   "outputs": [],
   "source": [
    "def sigmoid(x: float, deriv: bool = False):\n",
    "    if deriv:\n",
    "        vals = sigmoid(x, deriv=False)*(1-sigmoid(x, deriv=False))\n",
    "        return np.array([np.diag(val) for val in vals])\n",
    "    else:\n",
    "        return 1/(1 + np.exp(-x))"
   ]
  },
  {
   "cell_type": "code",
   "execution_count": 44,
   "metadata": {},
   "outputs": [
    {
     "data": {
      "text/plain": [
       "array([10., 10., 10.])"
      ]
     },
     "execution_count": 44,
     "metadata": {},
     "output_type": "execute_result"
    }
   ],
   "source": [
    "W1 = np.ones((4,3))\n",
    "X = np.array([1, 2, 3, 4])\n",
    "X@W1"
   ]
  },
  {
   "cell_type": "code",
   "execution_count": 45,
   "metadata": {},
   "outputs": [
    {
     "data": {
      "text/plain": [
       "array([0.99752738])"
      ]
     },
     "execution_count": 45,
     "metadata": {},
     "output_type": "execute_result"
    }
   ],
   "source": [
    "H = np.array([2, 2, 2])\n",
    "W = np.ones([3, 1])\n",
    "H@W\n",
    "sigmoid(H@W)"
   ]
  },
  {
   "cell_type": "code",
   "execution_count": 46,
   "metadata": {},
   "outputs": [
    {
     "data": {
      "text/plain": [
       "0.10536051565782628"
      ]
     },
     "execution_count": 46,
     "metadata": {},
     "output_type": "execute_result"
    }
   ],
   "source": [
    "-np.log(0.9)"
   ]
  },
  {
   "cell_type": "markdown",
   "metadata": {},
   "source": [
    "# Problem 2:"
   ]
  },
  {
   "cell_type": "markdown",
   "metadata": {},
   "source": [
    "## Part 1-2:"
   ]
  },
  {
   "cell_type": "code",
   "execution_count": 47,
   "metadata": {},
   "outputs": [
    {
     "data": {
      "text/latex": [
       "$\\displaystyle W1 = \\left[\\begin{matrix}1.0 & 1.0 & 1.0\\\\1.0 & 1.0 & 1.0\\\\1.0 & 1.0 & 1.0\\\\1.0 & 1.0 & 1.0\\end{matrix}\\right]\\quad W2 = \\left[\\begin{matrix}1.0\\\\1.0\\\\1.0\\end{matrix}\\right]$"
      ],
      "text/plain": [
       "<IPython.core.display.Math object>"
      ]
     },
     "execution_count": 47,
     "metadata": {},
     "output_type": "execute_result"
    }
   ],
   "source": [
    "X = np.array([[1, 2, 3, 0],\n",
    "              [2, 4, 1, 0],\n",
    "              [4, 3, 2, 0]])\n",
    "Y = np.array([[0],\n",
    "              [1],\n",
    "              [1]])\n",
    "W1 = np.ones((4, 3))\n",
    "W2 = np.ones((3, 1))\n",
    "B = np.zeros((1, 3))\n",
    "C = np.zeros((1, 1))\n",
    "Math(\"W1 = \" + sy.latex(sy.Matrix(W1)) +\\\n",
    "     \"\\quad W2 = \" + sy.latex(sy.Matrix(W2)))"
   ]
  },
  {
   "cell_type": "markdown",
   "metadata": {},
   "source": [
    "## Part 3-6:"
   ]
  },
  {
   "cell_type": "code",
   "execution_count": 48,
   "metadata": {},
   "outputs": [
    {
     "data": {
      "text/latex": [
       "$\\displaystyle Z1 = \\left[\\begin{matrix}6.0 & 6.0 & 6.0\\\\7.0 & 7.0 & 7.0\\\\9.0 & 9.0 & 9.0\\end{matrix}\\right]$"
      ],
      "text/plain": [
       "<IPython.core.display.Math object>"
      ]
     },
     "metadata": {},
     "output_type": "display_data"
    },
    {
     "data": {
      "text/latex": [
       "$\\displaystyle H1 = \\left[\\begin{matrix}1.0 & 1.0 & 1.0\\\\1.0 & 1.0 & 1.0\\\\1.0 & 1.0 & 1.0\\end{matrix}\\right]$"
      ],
      "text/plain": [
       "<IPython.core.display.Math object>"
      ]
     },
     "metadata": {},
     "output_type": "display_data"
    },
    {
     "data": {
      "text/latex": [
       "$\\displaystyle Z2 = \\left[\\begin{matrix}2.99\\\\3.0\\\\3.0\\end{matrix}\\right]$"
      ],
      "text/plain": [
       "<IPython.core.display.Math object>"
      ]
     },
     "metadata": {},
     "output_type": "display_data"
    },
    {
     "data": {
      "text/latex": [
       "$\\displaystyle yhat = \\left[\\begin{matrix}0.95\\\\0.95\\\\0.95\\end{matrix}\\right]$"
      ],
      "text/plain": [
       "<IPython.core.display.Math object>"
      ]
     },
     "metadata": {},
     "output_type": "display_data"
    }
   ],
   "source": [
    "Z1 = X@W1 + B\n",
    "H1 = sigmoid(Z1)\n",
    "Z2 = H1@W2 + C\n",
    "yhat = sigmoid(Z2)\n",
    "display(Math(\"Z1 = \" + sy.latex(sy.Matrix(np.round(Z1,2)))))\n",
    "display(Math(\"H1 = \" + sy.latex(sy.Matrix(np.round(H1,2)))))\n",
    "display(Math(\"Z2 = \" + sy.latex(sy.Matrix(np.round(Z2,2)))))\n",
    "display(Math(\"yhat = \" + sy.latex(sy.Matrix(np.round(yhat,2)))))"
   ]
  },
  {
   "cell_type": "markdown",
   "metadata": {},
   "source": [
    "## Part 7-8:"
   ]
  },
  {
   "cell_type": "code",
   "execution_count": 49,
   "metadata": {},
   "outputs": [
    {
     "data": {
      "text/latex": [
       "$\\displaystyle Loss = \\left[\\begin{matrix}3.04\\\\0.05\\\\0.05\\end{matrix}\\right]$"
      ],
      "text/plain": [
       "<IPython.core.display.Math object>"
      ]
     },
     "execution_count": 49,
     "metadata": {},
     "output_type": "execute_result"
    }
   ],
   "source": [
    "def loss_bce(yhat, Y):\n",
    "    eps = 1e-10 \n",
    "    return -Y*np.log(yhat + eps) - (1-Y)*np.log(1-yhat+eps)\n",
    "loss = loss_bce(yhat, Y)\n",
    "Math(\"Loss = \" + sy.latex(sy.Matrix(np.round(loss,2))))"
   ]
  },
  {
   "cell_type": "code",
   "execution_count": 50,
   "metadata": {},
   "outputs": [
    {
     "name": "stdout",
     "output_type": "stream",
     "text": [
      "for all X_i:\n"
     ]
    },
    {
     "data": {
      "text/latex": [
       "$\\displaystyle dL/DW1 = \\left[\\begin{matrix}5.71 & -0.28 & -0.28\\\\11.43 & -0.57 & -0.57\\\\17.14 & -0.86 & -0.85\\\\0 & 0 & 0\\end{matrix}\\right]$"
      ],
      "text/plain": [
       "<IPython.core.display.Math object>"
      ]
     },
     "metadata": {},
     "output_type": "display_data"
    },
    {
     "data": {
      "text/latex": [
       "$\\displaystyle dL/DW1 = \\left[\\begin{matrix}11.43 & -0.57 & -0.57\\\\22.85 & -1.14 & -1.14\\\\5.71 & -0.28 & -0.28\\\\0 & 0 & 0\\end{matrix}\\right]$"
      ],
      "text/plain": [
       "<IPython.core.display.Math object>"
      ]
     },
     "metadata": {},
     "output_type": "display_data"
    },
    {
     "data": {
      "text/latex": [
       "$\\displaystyle dL/DW1 = \\left[\\begin{matrix}22.85 & -1.14 & -1.14\\\\17.14 & -0.86 & -0.85\\\\11.43 & -0.57 & -0.57\\\\0 & 0 & 0\\end{matrix}\\right]$"
      ],
      "text/plain": [
       "<IPython.core.display.Math object>"
      ]
     },
     "metadata": {},
     "output_type": "display_data"
    },
    {
     "name": "stdout",
     "output_type": "stream",
     "text": [
      "averaged over X_i:\n"
     ]
    },
    {
     "data": {
      "text/latex": [
       "$\\displaystyle dL/DW1 = \\left[\\begin{matrix}13.331 & -0.666 & -0.664\\\\17.14 & -0.856 & -0.854\\\\11.427 & -0.571 & -0.569\\\\0 & 0 & 0\\end{matrix}\\right]$"
      ],
      "text/plain": [
       "<IPython.core.display.Math object>"
      ]
     },
     "execution_count": 50,
     "metadata": {},
     "output_type": "execute_result"
    }
   ],
   "source": [
    "dL_dz1 = (Y-yhat)*W2.T@H*(1-H)\n",
    "dL_dW1 = [np.round(np.outer(xi,dL_dz1),3) for xi in X]\n",
    "print(\"for all X_i:\")\n",
    "[display(Math(\"dL/DW1 = \" + sy.latex(sy.Matrix(np.round(mat,2))))) for mat in dL_dW1]\n",
    "print(\"averaged over X_i:\")\n",
    "Math(\"dL/DW1 = \" + sy.latex(sy.Matrix(np.round(np.mean(dL_dW1,axis=0),3))))"
   ]
  },
  {
   "cell_type": "markdown",
   "metadata": {},
   "source": [
    "# Problem 3:"
   ]
  },
  {
   "cell_type": "markdown",
   "metadata": {},
   "source": [
    "Define the Data to be Used. Make it a simple clustering problem in 3 dimensions with 2 in each class:"
   ]
  },
  {
   "cell_type": "code",
   "execution_count": 51,
   "metadata": {},
   "outputs": [],
   "source": [
    "X = np.array([[1, 0, 0],\n",
    "              [0.9, 0, 0],\n",
    "              [0, 1, 0],\n",
    "              [0, 0.95, 0],\n",
    "              [0, 0, 1],\n",
    "              [0, 0, 0.85]])\n",
    "Y = np.array([[1, 0, 0],\n",
    "              [1, 0, 0],\n",
    "              [0, 1, 0],\n",
    "              [0, 1, 0],\n",
    "              [0, 0, 1],\n",
    "              [0, 0, 1]])"
   ]
  },
  {
   "cell_type": "markdown",
   "metadata": {},
   "source": [
    "Plot to verify that the data points are well separated."
   ]
  },
  {
   "cell_type": "code",
   "execution_count": 52,
   "metadata": {},
   "outputs": [
    {
     "data": {
      "image/png": "[encoded data removed]",
      "text/plain": [
       "<Figure size 432x288 with 1 Axes>"
      ]
     },
     "metadata": {
      "needs_background": "light"
     },
     "output_type": "display_data"
    }
   ],
   "source": [
    "fig = plt.figure()\n",
    "ax = plt.axes(projection='3d')\n",
    "\n",
    "# plotting\n",
    "colors = [\"k\", \"r\", \"cyan\"]\n",
    "for i in range(Y.shape[0]):\n",
    "    ax.scatter(X[i,0], X[i,1], X[i,2],\n",
    "               s=50, c=colors[np.argmax(Y[i])])\n",
    "ax.set_title('Dataset')\n",
    "ax.set_xlabel(\"X\")\n",
    "ax.set_ylabel(\"Y\")\n",
    "ax.set_zlabel(\"Z\")\n",
    "plt.show()"
   ]
  },
  {
   "cell_type": "markdown",
   "metadata": {},
   "source": [
    "To make the Neural Network, I will use the general code that I developed on the homework assignment. I'll attach the source file."
   ]
  },
  {
   "cell_type": "code",
   "execution_count": 53,
   "metadata": {},
   "outputs": [],
   "source": [
    "import nn\n",
    "network = nn.NeuralNetwork(input_size=3, output_size=3, hidden_layer_sizes=[2],\n",
    "                           activ_funcs=[nn.sigmoid, nn.softmax], loss_func=nn.loss_CCE,\n",
    "                           random_initialize=True)"
   ]
  },
  {
   "cell_type": "markdown",
   "metadata": {},
   "source": [
    "Initial Values of stuff:"
   ]
  },
  {
   "cell_type": "code",
   "execution_count": 54,
   "metadata": {},
   "outputs": [
    {
     "data": {
      "text/latex": [
       "$\\displaystyle X = \\left[\\begin{matrix}1.0 & 0 & 0\\\\0.9 & 0 & 0\\\\0 & 1.0 & 0\\\\0 & 0.95 & 0\\\\0 & 0 & 1.0\\\\0 & 0 & 0.85\\end{matrix}\\right]$"
      ],
      "text/plain": [
       "<IPython.core.display.Math object>"
      ]
     },
     "metadata": {},
     "output_type": "display_data"
    },
    {
     "data": {
      "text/latex": [
       "$\\displaystyle Y = \\left[\\begin{matrix}1 & 0 & 0\\\\1 & 0 & 0\\\\0 & 1 & 0\\\\0 & 1 & 0\\\\0 & 0 & 1\\\\0 & 0 & 1\\end{matrix}\\right]$"
      ],
      "text/plain": [
       "<IPython.core.display.Math object>"
      ]
     },
     "metadata": {},
     "output_type": "display_data"
    },
    {
     "data": {
      "text/latex": [
       "$\\displaystyle W1 = \\left[\\begin{matrix}0.5938 & 0.0634\\\\0.0018 & 0.1043\\\\0.3504 & 0.0656\\end{matrix}\\right]$"
      ],
      "text/plain": [
       "<IPython.core.display.Math object>"
      ]
     },
     "metadata": {},
     "output_type": "display_data"
    },
    {
     "data": {
      "text/latex": [
       "$\\displaystyle W2 = \\left[\\begin{matrix}1.0 & 0.41 & 0.26\\\\0.24 & 0.53 & 0.71\\end{matrix}\\right]$"
      ],
      "text/plain": [
       "<IPython.core.display.Math object>"
      ]
     },
     "metadata": {},
     "output_type": "display_data"
    },
    {
     "data": {
      "text/latex": [
       "$\\displaystyle B = \\left[\\begin{matrix}0.76 & 0.76\\end{matrix}\\right]$"
      ],
      "text/plain": [
       "<IPython.core.display.Math object>"
      ]
     },
     "metadata": {},
     "output_type": "display_data"
    },
    {
     "data": {
      "text/latex": [
       "$\\displaystyle C = \\left[\\begin{matrix}0.95 & 0.21 & 0.98\\end{matrix}\\right]$"
      ],
      "text/plain": [
       "<IPython.core.display.Math object>"
      ]
     },
     "metadata": {},
     "output_type": "display_data"
    }
   ],
   "source": [
    "display(Math(\"X = \" + sy.latex(sy.Matrix(np.round(X,2)))))\n",
    "display(Math(\"Y = \" + sy.latex(sy.Matrix(np.round(Y,2)))))\n",
    "display(Math(\"W1 = \" + sy.latex(sy.Matrix(np.round(network.weights[0],4)))))\n",
    "display(Math(\"W2 = \" + sy.latex(sy.Matrix(np.round(network.weights[1],2)))))\n",
    "display(Math(\"B = \" + sy.latex(sy.Matrix(np.round(network.biases[0],2)))))\n",
    "display(Math(\"C = \" + sy.latex(sy.Matrix(np.round(network.biases[1],2)))))"
   ]
  },
  {
   "cell_type": "markdown",
   "metadata": {},
   "source": [
    "Now train the network for one epoch:"
   ]
  },
  {
   "cell_type": "code",
   "execution_count": 55,
   "metadata": {},
   "outputs": [
    {
     "name": "stdout",
     "output_type": "stream",
     "text": [
      "Epoch 0 (out of 1) -- Loss: 1.5997\n"
     ]
    }
   ],
   "source": [
    "loss = network.train(X, Y, X_test=X, Y_test=Y, epochs=1, batch_size=6, lr=1)\n",
    "pred = network.feed_forward(X)"
   ]
  },
  {
   "cell_type": "markdown",
   "metadata": {},
   "source": [
    "Print out desired information:"
   ]
  },
  {
   "cell_type": "code",
   "execution_count": 56,
   "metadata": {},
   "outputs": [
    {
     "data": {
      "text/latex": [
       "$\\displaystyle Z1 = \\left[\\begin{matrix}1.34 & 0.83\\\\1.28 & 0.82\\\\0.75 & 0.87\\\\0.75 & 0.87\\\\1.1 & 0.83\\\\1.04 & 0.82\\end{matrix}\\right]$"
      ],
      "text/plain": [
       "<IPython.core.display.Math object>"
      ]
     },
     "metadata": {},
     "output_type": "display_data"
    },
    {
     "data": {
      "text/latex": [
       "$\\displaystyle H1 = \\left[\\begin{matrix}0.79 & 0.7\\\\0.78 & 0.69\\\\0.68 & 0.7\\\\0.68 & 0.7\\\\0.75 & 0.7\\\\0.74 & 0.69\\end{matrix}\\right]$"
      ],
      "text/plain": [
       "<IPython.core.display.Math object>"
      ]
     },
     "metadata": {},
     "output_type": "display_data"
    },
    {
     "data": {
      "text/latex": [
       "$\\displaystyle Z2 = \\left[\\begin{matrix}1.65 & 1.23 & 1.6\\\\1.65 & 1.23 & 1.6\\\\1.55 & 1.18 & 1.58\\\\1.55 & 1.18 & 1.58\\\\1.62 & 1.21 & 1.59\\\\1.61 & 1.21 & 1.59\\end{matrix}\\right]$"
      ],
      "text/plain": [
       "<IPython.core.display.Math object>"
      ]
     },
     "metadata": {},
     "output_type": "display_data"
    },
    {
     "data": {
      "text/latex": [
       "$\\displaystyle \\hat{Y} = \\left[\\begin{matrix}0.38 & 0.25 & 0.36\\\\0.38 & 0.25 & 0.37\\\\0.37 & 0.25 & 0.38\\\\0.37 & 0.25 & 0.38\\\\0.38 & 0.25 & 0.37\\\\0.38 & 0.25 & 0.37\\end{matrix}\\right]$"
      ],
      "text/plain": [
       "<IPython.core.display.Math object>"
      ]
     },
     "metadata": {},
     "output_type": "display_data"
    },
    {
     "data": {
      "text/latex": [
       "$\\displaystyle \\hat{Y}-Y = \\left[\\begin{matrix}-0.62 & 0.25 & 0.36\\\\-0.62 & 0.25 & 0.37\\\\0.37 & -0.75 & 0.38\\\\0.37 & -0.75 & 0.38\\\\0.38 & 0.25 & -0.63\\\\0.38 & 0.25 & -0.63\\end{matrix}\\right]$"
      ],
      "text/plain": [
       "<IPython.core.display.Math object>"
      ]
     },
     "metadata": {},
     "output_type": "display_data"
    },
    {
     "data": {
      "text/latex": [
       "$\\displaystyle \\frac{dL}{dW1} (avg) = \\left[\\begin{matrix}0.0041 & -0.0019\\\\0.0042 & -0.002\\\\0.0039 & -0.0019\\end{matrix}\\right]$"
      ],
      "text/plain": [
       "<IPython.core.display.Math object>"
      ]
     },
     "metadata": {},
     "output_type": "display_data"
    },
    {
     "data": {
      "text/latex": [
       "$\\displaystyle \\frac{dL}{dW2} (avg) = \\left[\\begin{matrix}0.09 & -0.12 & 0.03\\\\0.09 & -0.11 & 0.02\\end{matrix}\\right]$"
      ],
      "text/plain": [
       "<IPython.core.display.Math object>"
      ]
     },
     "metadata": {},
     "output_type": "display_data"
    },
    {
     "data": {
      "text/latex": [
       "$\\displaystyle \\frac{dL}{dB} (avg) = \\left[\\begin{matrix}0.0128\\\\-0.0062\\end{matrix}\\right]$"
      ],
      "text/plain": [
       "<IPython.core.display.Math object>"
      ]
     },
     "metadata": {},
     "output_type": "display_data"
    },
    {
     "data": {
      "text/latex": [
       "$\\displaystyle \\frac{dL}{dC} (avg) = \\left[\\begin{matrix}0.12\\\\-0.16\\\\0.04\\end{matrix}\\right]$"
      ],
      "text/plain": [
       "<IPython.core.display.Math object>"
      ]
     },
     "metadata": {},
     "output_type": "display_data"
    },
    {
     "data": {
      "text/latex": [
       "$\\displaystyle L_{avg} = 9.59841928248252$"
      ],
      "text/plain": [
       "<IPython.core.display.Math object>"
      ]
     },
     "metadata": {},
     "output_type": "display_data"
    },
    {
     "data": {
      "text/latex": [
       "$\\displaystyle W1_{new} = \\left[\\begin{matrix}0.5898 & 0.0653\\\\-0.0024 & 0.1063\\\\0.3465 & 0.0675\\end{matrix}\\right]$"
      ],
      "text/plain": [
       "<IPython.core.display.Math object>"
      ]
     },
     "metadata": {},
     "output_type": "display_data"
    }
   ],
   "source": [
    "display(Math(\"Z1 = \" + sy.latex(sy.Matrix(np.round(network.layers[0],2)))))\n",
    "display(Math(\"H1 = \" + sy.latex(sy.Matrix(np.round(network.activ_fns[0](network.layers[0]),2)))))\n",
    "display(Math(\"Z2 = \" + sy.latex(sy.Matrix(np.round(network.layers[1],2)))))\n",
    "display(Math(\"\\hat{Y} = \" + sy.latex(sy.Matrix(np.round(pred,2)))))\n",
    "display(Math(\"\\hat{Y}-Y = \" + sy.latex(sy.Matrix(np.round(pred - Y,2)))))\n",
    "\n",
    "\n",
    "display(Math(r\"\\frac{dL}{dW1} (avg) = \" + sy.latex(sy.Matrix(np.round(network.dLdw[0],4)))))\n",
    "display(Math(r\"\\frac{dL}{dW2} (avg) = \" + sy.latex(sy.Matrix(np.round(network.dLdw[1],2)))))\n",
    "display(Math(r\"\\frac{dL}{dB} (avg) = \" + sy.latex(sy.Matrix(np.round(network.dLdb[0],4)))))\n",
    "display(Math(r\"\\frac{dL}{dC} (avg) = \" + sy.latex(sy.Matrix(np.round(network.dLdb[1],2)))))\n",
    "\n",
    "display(Math(\"L_{avg} = \" + str(np.sum(network.loss_fn(Y, pred)))))\n",
    "\n",
    "display(Math(\"W1_{new} = \" + sy.latex(sy.Matrix(np.round(network.weights[0],4)))))"
   ]
  }
 ],
 "metadata": {
  "kernelspec": {
   "display_name": "cqed",
   "language": "python",
   "name": "python3"
  },
  "language_info": {
   "codemirror_mode": {
    "name": "ipython",
    "version": 3
   },
   "file_extension": ".py",
   "mimetype": "text/x-python",
   "name": "python",
   "nbconvert_exporter": "python",
   "pygments_lexer": "ipython3",
   "version": "3.9.12"
  }
 },
 "nbformat": 4,
 "nbformat_minor": 2
}
